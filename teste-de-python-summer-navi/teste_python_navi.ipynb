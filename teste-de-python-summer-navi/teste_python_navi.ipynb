{
  "nbformat": 4,
  "nbformat_minor": 0,
  "metadata": {
    "colab": {
      "name": "teste_python_navi.ipynb",
      "provenance": []
    },
    "kernelspec": {
      "name": "python3",
      "display_name": "Python 3"
    },
    "language_info": {
      "name": "python"
    }
  },
  "cells": [
    {
      "cell_type": "markdown",
      "metadata": {
        "id": "Q3ZqvmZ8qVaz"
      },
      "source": [
        "# **Teste de Python**"
      ]
    },
    {
      "cell_type": "markdown",
      "metadata": {
        "id": "gz3P9YJkqauY"
      },
      "source": [
        "## **1.** "
      ]
    },
    {
      "cell_type": "code",
      "metadata": {
        "id": "Be4goJEUnbYm"
      },
      "source": [
        "# Função para verificar se um número é multiplo do outro\n",
        "def verifica_multiplo(numero, multiplo):\n",
        "  if numero % multiplo == 0:\n",
        "    return True\n",
        "  else: \n",
        "    return False"
      ],
      "execution_count": 1,
      "outputs": []
    },
    {
      "cell_type": "code",
      "metadata": {
        "id": "9OcMr5nvnszW"
      },
      "source": [
        "# Contando quantos números pares, múltiplos de 49 e  de 37 existem no intervalo de 1 a 5.000.000\n",
        "soma = 0\n",
        "\n",
        "for numero in range(1, 5000001):\n",
        "  if (verifica_multiplo(numero, 2) and verifica_multiplo(numero, 49) and verifica_multiplo(numero, 37)):\n",
        "    soma += 1"
      ],
      "execution_count": 2,
      "outputs": []
    },
    {
      "cell_type": "code",
      "metadata": {
        "colab": {
          "base_uri": "https://localhost:8080/"
        },
        "id": "f_jwNSSgoIcV",
        "outputId": "b160bcd5-4071-4695-d5db-97a6798a5d49"
      },
      "source": [
        "# Visualizando o resultado\n",
        "print(f'A quantidade de números pares, múltiplos de 49 e de 37 no intervalo de 1 a 5.000.000 é igual a {soma}')"
      ],
      "execution_count": 3,
      "outputs": [
        {
          "output_type": "stream",
          "name": "stdout",
          "text": [
            "A quantidade de números pares, múltiplos de 49 e de 37 no intervalo de 1 a 5.000.000 é igual a 1378\n"
          ]
        }
      ]
    },
    {
      "cell_type": "markdown",
      "metadata": {
        "id": "DpD01PbwrZSF"
      },
      "source": [
        "## **2.**"
      ]
    },
    {
      "cell_type": "code",
      "metadata": {
        "id": "A9QgEOKYyGYA"
      },
      "source": [
        "# Biblioteca usada para as funções matemáticas\n",
        "import numpy as np"
      ],
      "execution_count": null,
      "outputs": []
    },
    {
      "cell_type": "code",
      "metadata": {
        "id": "La5VJZJpoTxh"
      },
      "source": [
        "# Vetor de 10 posições\n",
        "x = list(range(10))"
      ],
      "execution_count": null,
      "outputs": []
    },
    {
      "cell_type": "code",
      "metadata": {
        "id": "bfuW1U_trinm"
      },
      "source": [
        "# Fazendo as diferentes operações para caso a posição for par ou ímpar\n",
        "for i in range(10):\n",
        "  if i % 2 == 0:\n",
        "    x[i] = np.power(3, i) + 7 * np.math.factorial(i)\n",
        "  else:\n",
        "    x[i] = np.power(2, i) + 4 * np.log(i)"
      ],
      "execution_count": null,
      "outputs": []
    },
    {
      "cell_type": "code",
      "metadata": {
        "colab": {
          "base_uri": "https://localhost:8080/"
        },
        "id": "tZEBMRQQyTSD",
        "outputId": "47f9461d-04c9-4d55-c5c9-599f66e7ff34"
      },
      "source": [
        "# Posição do maior elemento\n",
        "posicao = x.index(max(x))\n",
        "print(f'A posição do maior elemento é a {posicao}')"
      ],
      "execution_count": null,
      "outputs": [
        {
          "output_type": "stream",
          "name": "stdout",
          "text": [
            "A posição do maior elemento é a 8\n"
          ]
        }
      ]
    },
    {
      "cell_type": "code",
      "metadata": {
        "colab": {
          "base_uri": "https://localhost:8080/"
        },
        "id": "ghZKYYXPyo1B",
        "outputId": "eceb9c31-fffd-4a10-b536-1df4eaddad28"
      },
      "source": [
        "# Média dos elementos contidos no vetor\n",
        "media = round(np.mean(x), 2)\n",
        "print(f'A média dos elementos contidos no vetor é igual a {media}')"
      ],
      "execution_count": null,
      "outputs": [
        {
          "output_type": "stream",
          "name": "stdout",
          "text": [
            "A média dos elementos contidos no vetor é igual a 29555.94\n"
          ]
        }
      ]
    },
    {
      "cell_type": "markdown",
      "metadata": {
        "id": "ifFZqL1HzNUk"
      },
      "source": [
        "## **3.**"
      ]
    },
    {
      "cell_type": "code",
      "metadata": {
        "id": "nDFaPkFfzIpM"
      },
      "source": [
        "# Criando o dicionário que receberá o nome dos alunos e as suas respectivas notas\n",
        "notas = {}"
      ],
      "execution_count": null,
      "outputs": []
    },
    {
      "cell_type": "code",
      "metadata": {
        "colab": {
          "base_uri": "https://localhost:8080/"
        },
        "id": "Wuu0YHJjveXv",
        "outputId": "87f9ecfd-b792-4025-c280-ffab82428a5c"
      },
      "source": [
        "# Recebendo as notas dos cinco alunos e as adicionando ao dicionário\n",
        "for i in range(5):\n",
        "  nota = float(input(f'Insira a nota do Aluno {i + 1}: '))\n",
        "  if nota >= 0 and nota <= 10:\n",
        "    notas[f'Aluno {i + 1}'] = nota\n",
        "  else:\n",
        "    print('A nota inserida é inválida. O valor da nota deve estar entre 0 e 10!')\n",
        "    while nota < 0 or nota > 10:\n",
        "      nota = float(input(f'Insira a nota do Aluno {i + 1}: ')) \n",
        "    notas[f'Aluno {i + 1}'] = nota "
      ],
      "execution_count": null,
      "outputs": [
        {
          "name": "stdout",
          "output_type": "stream",
          "text": [
            "Insira a nota do Aluno 1: 3.5\n",
            "Insira a nota do Aluno 2: 8\n",
            "Insira a nota do Aluno 3: 4.7\n",
            "Insira a nota do Aluno 4: 5.5\n",
            "Insira a nota do Aluno 5: 9\n"
          ]
        }
      ]
    },
    {
      "cell_type": "code",
      "metadata": {
        "colab": {
          "base_uri": "https://localhost:8080/"
        },
        "id": "pfEFew8mvlL3",
        "outputId": "0875eee4-226a-4c1c-977a-0647c6006d8b"
      },
      "source": [
        "# Verificando e visualizando o ou os aluno(s) que obtiveram a maior nota\n",
        "print('O(s) aluno(s) que obteveram a maior nota e sua(s) respectiva(s) nota(s): ')\n",
        "\n",
        "for key, value in notas.items():\n",
        "  if value == max(notas.values()):\n",
        "    print(f'{key} - Nota = {value}')"
      ],
      "execution_count": null,
      "outputs": [
        {
          "output_type": "stream",
          "name": "stdout",
          "text": [
            "O(s) aluno(s) que obteveram a maior nota e sua(s) respectiva(s) nota(s): \n",
            "Aluno 5 - Nota = 9.0\n"
          ]
        }
      ]
    },
    {
      "cell_type": "code",
      "metadata": {
        "id": "QCjSYRqCv2mi"
      },
      "source": [
        ""
      ],
      "execution_count": null,
      "outputs": []
    }
  ]
}