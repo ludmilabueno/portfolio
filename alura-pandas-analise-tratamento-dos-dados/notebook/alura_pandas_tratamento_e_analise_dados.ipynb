{
  "nbformat": 4,
  "nbformat_minor": 0,
  "metadata": {
    "colab": {
      "name": "alura_pandas_tratamento_e_analise_dados.ipynb",
      "provenance": []
    },
    "kernelspec": {
      "name": "python3",
      "display_name": "Python 3"
    },
    "language_info": {
      "name": "python"
    }
  },
  "cells": [
    {
      "cell_type": "markdown",
      "metadata": {
        "id": "onODqMC909LZ"
      },
      "source": [
        "#### Bibliotecas"
      ]
    },
    {
      "cell_type": "code",
      "metadata": {
        "id": "H6mDCYIT1CLD"
      },
      "source": [
        "# Manipulação de dados\n",
        "import pandas as pd\n",
        "\n",
        "# Visualização de dados\n",
        "%matplotlib inline\n",
        "import matplotlib.pyplot as plt"
      ],
      "execution_count": 1,
      "outputs": []
    },
    {
      "cell_type": "markdown",
      "metadata": {
        "id": "4pIdhW8K02Qe"
      },
      "source": [
        "#### Importando a base de dados"
      ]
    },
    {
      "cell_type": "code",
      "metadata": {
        "id": "ocD6vneY0DMV"
      },
      "source": [
        "dados = pd.read_csv('aluguel.csv', sep=';')"
      ],
      "execution_count": 2,
      "outputs": []
    },
    {
      "cell_type": "code",
      "metadata": {
        "colab": {
          "base_uri": "https://localhost:8080/",
          "height": 206
        },
        "id": "mUPyMHQ81iWi",
        "outputId": "bcc422b1-5ac0-4189-fdc2-deffad5d754c"
      },
      "source": [
        "# Mostrando a parte inicial dos dados\n",
        "dados.head()"
      ],
      "execution_count": 3,
      "outputs": [
        {
          "output_type": "execute_result",
          "data": {
            "text/html": [
              "<div>\n",
              "<style scoped>\n",
              "    .dataframe tbody tr th:only-of-type {\n",
              "        vertical-align: middle;\n",
              "    }\n",
              "\n",
              "    .dataframe tbody tr th {\n",
              "        vertical-align: top;\n",
              "    }\n",
              "\n",
              "    .dataframe thead th {\n",
              "        text-align: right;\n",
              "    }\n",
              "</style>\n",
              "<table border=\"1\" class=\"dataframe\">\n",
              "  <thead>\n",
              "    <tr style=\"text-align: right;\">\n",
              "      <th></th>\n",
              "      <th>Tipo</th>\n",
              "      <th>Bairro</th>\n",
              "      <th>Quartos</th>\n",
              "      <th>Vagas</th>\n",
              "      <th>Suites</th>\n",
              "      <th>Area</th>\n",
              "      <th>Valor</th>\n",
              "      <th>Condominio</th>\n",
              "      <th>IPTU</th>\n",
              "    </tr>\n",
              "  </thead>\n",
              "  <tbody>\n",
              "    <tr>\n",
              "      <th>0</th>\n",
              "      <td>Quitinete</td>\n",
              "      <td>Copacabana</td>\n",
              "      <td>1</td>\n",
              "      <td>0</td>\n",
              "      <td>0</td>\n",
              "      <td>40</td>\n",
              "      <td>1700.0</td>\n",
              "      <td>500.0</td>\n",
              "      <td>60.0</td>\n",
              "    </tr>\n",
              "    <tr>\n",
              "      <th>1</th>\n",
              "      <td>Casa</td>\n",
              "      <td>Jardim Botânico</td>\n",
              "      <td>2</td>\n",
              "      <td>0</td>\n",
              "      <td>1</td>\n",
              "      <td>100</td>\n",
              "      <td>7000.0</td>\n",
              "      <td>NaN</td>\n",
              "      <td>NaN</td>\n",
              "    </tr>\n",
              "    <tr>\n",
              "      <th>2</th>\n",
              "      <td>Conjunto Comercial/Sala</td>\n",
              "      <td>Barra da Tijuca</td>\n",
              "      <td>0</td>\n",
              "      <td>4</td>\n",
              "      <td>0</td>\n",
              "      <td>150</td>\n",
              "      <td>5200.0</td>\n",
              "      <td>4020.0</td>\n",
              "      <td>1111.0</td>\n",
              "    </tr>\n",
              "    <tr>\n",
              "      <th>3</th>\n",
              "      <td>Apartamento</td>\n",
              "      <td>Centro</td>\n",
              "      <td>1</td>\n",
              "      <td>0</td>\n",
              "      <td>0</td>\n",
              "      <td>15</td>\n",
              "      <td>800.0</td>\n",
              "      <td>390.0</td>\n",
              "      <td>20.0</td>\n",
              "    </tr>\n",
              "    <tr>\n",
              "      <th>4</th>\n",
              "      <td>Apartamento</td>\n",
              "      <td>Higienópolis</td>\n",
              "      <td>1</td>\n",
              "      <td>0</td>\n",
              "      <td>0</td>\n",
              "      <td>48</td>\n",
              "      <td>800.0</td>\n",
              "      <td>230.0</td>\n",
              "      <td>NaN</td>\n",
              "    </tr>\n",
              "  </tbody>\n",
              "</table>\n",
              "</div>"
            ],
            "text/plain": [
              "                      Tipo           Bairro  ...  Condominio    IPTU\n",
              "0                Quitinete       Copacabana  ...       500.0    60.0\n",
              "1                     Casa  Jardim Botânico  ...         NaN     NaN\n",
              "2  Conjunto Comercial/Sala  Barra da Tijuca  ...      4020.0  1111.0\n",
              "3              Apartamento           Centro  ...       390.0    20.0\n",
              "4              Apartamento     Higienópolis  ...       230.0     NaN\n",
              "\n",
              "[5 rows x 9 columns]"
            ]
          },
          "metadata": {},
          "execution_count": 3
        }
      ]
    },
    {
      "cell_type": "markdown",
      "metadata": {
        "id": "MoNVNoyE1zCa"
      },
      "source": [
        "#### Analisando informações gerais sobre a base de dados"
      ]
    },
    {
      "cell_type": "code",
      "metadata": {
        "colab": {
          "base_uri": "https://localhost:8080/"
        },
        "id": "F2ToEpNb1pGC",
        "outputId": "5f46a254-e686-484b-a853-1651705ff02c"
      },
      "source": [
        "# Quantidades de dados não-nulos e tipos de variáveis em cada coluna\n",
        "dados.info()"
      ],
      "execution_count": 4,
      "outputs": [
        {
          "output_type": "stream",
          "name": "stdout",
          "text": [
            "<class 'pandas.core.frame.DataFrame'>\n",
            "RangeIndex: 32960 entries, 0 to 32959\n",
            "Data columns (total 9 columns):\n",
            " #   Column      Non-Null Count  Dtype  \n",
            "---  ------      --------------  -----  \n",
            " 0   Tipo        32960 non-null  object \n",
            " 1   Bairro      32960 non-null  object \n",
            " 2   Quartos     32960 non-null  int64  \n",
            " 3   Vagas       32960 non-null  int64  \n",
            " 4   Suites      32960 non-null  int64  \n",
            " 5   Area        32960 non-null  int64  \n",
            " 6   Valor       32943 non-null  float64\n",
            " 7   Condominio  28867 non-null  float64\n",
            " 8   IPTU        22723 non-null  float64\n",
            "dtypes: float64(3), int64(4), object(2)\n",
            "memory usage: 2.3+ MB\n"
          ]
        }
      ]
    },
    {
      "cell_type": "code",
      "metadata": {
        "colab": {
          "base_uri": "https://localhost:8080/"
        },
        "id": "zqtA3mGg184w",
        "outputId": "a709b985-eb75-4f50-b3d3-f8b8c493385b"
      },
      "source": [
        "# Tamanho da base de dados\n",
        "dados.shape"
      ],
      "execution_count": 5,
      "outputs": [
        {
          "output_type": "execute_result",
          "data": {
            "text/plain": [
              "(32960, 9)"
            ]
          },
          "metadata": {},
          "execution_count": 5
        }
      ]
    },
    {
      "cell_type": "code",
      "metadata": {
        "colab": {
          "base_uri": "https://localhost:8080/"
        },
        "id": "jmJEMbGI2XVn",
        "outputId": "4df29605-bdbd-4910-96aa-d5411eaf6011"
      },
      "source": [
        "print('A base de dados apresenta {} imóveis registrados e {} variáveis'.format(dados.shape[0], dados.shape[1]))"
      ],
      "execution_count": 6,
      "outputs": [
        {
          "output_type": "stream",
          "name": "stdout",
          "text": [
            "A base de dados apresenta 32960 imóveis registrados e 9 variáveis\n"
          ]
        }
      ]
    },
    {
      "cell_type": "markdown",
      "metadata": {
        "id": "gIZGh07R2x-E"
      },
      "source": [
        "#### Analisando os tipos de imóveis presentes na base de dados"
      ]
    },
    {
      "cell_type": "code",
      "metadata": {
        "colab": {
          "base_uri": "https://localhost:8080/"
        },
        "id": "MGx1ZMo82mme",
        "outputId": "c172a61e-c9d0-4f5f-c33a-48f5a43f9723"
      },
      "source": [
        "# Visualizandoo os tipos de imóveis e a quantidade de cada um deles na base de dados\n",
        "dados['Tipo'].value_counts()"
      ],
      "execution_count": 7,
      "outputs": [
        {
          "output_type": "execute_result",
          "data": {
            "text/plain": [
              "Apartamento                    19532\n",
              "Conjunto Comercial/Sala         6815\n",
              "Loja/Salão                      1426\n",
              "Casa de Condomínio               996\n",
              "Casa                             967\n",
              "Quitinete                        836\n",
              "Galpão/Depósito/Armazém          623\n",
              "Flat                             476\n",
              "Prédio Inteiro                   301\n",
              "Casa Comercial                   265\n",
              "Casa de Vila                     249\n",
              "Loja Shopping/ Ct Comercial      247\n",
              "Box/Garagem                       82\n",
              "Terreno Padrão                    70\n",
              "Loft                              51\n",
              "Sítio                             10\n",
              "Loteamento/Condomínio              5\n",
              "Studio                             4\n",
              "Hotel                              2\n",
              "Chácara                            1\n",
              "Indústria                          1\n",
              "Pousada/Chalé                      1\n",
              "Name: Tipo, dtype: int64"
            ]
          },
          "metadata": {},
          "execution_count": 7
        }
      ]
    },
    {
      "cell_type": "code",
      "metadata": {
        "id": "yFwjYakp26w_"
      },
      "source": [
        "# Organizando a visualização dos tipos de imóveis\n",
        "tipo_de_imovel = pd.DataFrame(dados['Tipo'].value_counts())"
      ],
      "execution_count": 8,
      "outputs": []
    },
    {
      "cell_type": "code",
      "metadata": {
        "id": "y_oV6xpz3ohU"
      },
      "source": [
        "# Ajustando o index\n",
        "tipo_de_imovel.reset_index(inplace=True)"
      ],
      "execution_count": 9,
      "outputs": []
    },
    {
      "cell_type": "code",
      "metadata": {
        "colab": {
          "base_uri": "https://localhost:8080/",
          "height": 206
        },
        "id": "Khbzb7gu4CA9",
        "outputId": "3ef2d18b-a519-4e1c-ad51-135b0a3c11f2"
      },
      "source": [
        "tipo_de_imovel.head()"
      ],
      "execution_count": 10,
      "outputs": [
        {
          "output_type": "execute_result",
          "data": {
            "text/html": [
              "<div>\n",
              "<style scoped>\n",
              "    .dataframe tbody tr th:only-of-type {\n",
              "        vertical-align: middle;\n",
              "    }\n",
              "\n",
              "    .dataframe tbody tr th {\n",
              "        vertical-align: top;\n",
              "    }\n",
              "\n",
              "    .dataframe thead th {\n",
              "        text-align: right;\n",
              "    }\n",
              "</style>\n",
              "<table border=\"1\" class=\"dataframe\">\n",
              "  <thead>\n",
              "    <tr style=\"text-align: right;\">\n",
              "      <th></th>\n",
              "      <th>index</th>\n",
              "      <th>Tipo</th>\n",
              "    </tr>\n",
              "  </thead>\n",
              "  <tbody>\n",
              "    <tr>\n",
              "      <th>0</th>\n",
              "      <td>Apartamento</td>\n",
              "      <td>19532</td>\n",
              "    </tr>\n",
              "    <tr>\n",
              "      <th>1</th>\n",
              "      <td>Conjunto Comercial/Sala</td>\n",
              "      <td>6815</td>\n",
              "    </tr>\n",
              "    <tr>\n",
              "      <th>2</th>\n",
              "      <td>Loja/Salão</td>\n",
              "      <td>1426</td>\n",
              "    </tr>\n",
              "    <tr>\n",
              "      <th>3</th>\n",
              "      <td>Casa de Condomínio</td>\n",
              "      <td>996</td>\n",
              "    </tr>\n",
              "    <tr>\n",
              "      <th>4</th>\n",
              "      <td>Casa</td>\n",
              "      <td>967</td>\n",
              "    </tr>\n",
              "  </tbody>\n",
              "</table>\n",
              "</div>"
            ],
            "text/plain": [
              "                     index   Tipo\n",
              "0              Apartamento  19532\n",
              "1  Conjunto Comercial/Sala   6815\n",
              "2               Loja/Salão   1426\n",
              "3       Casa de Condomínio    996\n",
              "4                     Casa    967"
            ]
          },
          "metadata": {},
          "execution_count": 10
        }
      ]
    },
    {
      "cell_type": "code",
      "metadata": {
        "id": "cDxTQWfY3pxW"
      },
      "source": [
        "# Renomeando as colunas\n",
        "tipo_de_imovel.rename(columns={'index': 'Tipo', 'Tipo': 'Quantidade'}, inplace=True)"
      ],
      "execution_count": 11,
      "outputs": []
    },
    {
      "cell_type": "code",
      "metadata": {
        "colab": {
          "base_uri": "https://localhost:8080/",
          "height": 739
        },
        "id": "e8MzWvJt4KNF",
        "outputId": "04dc76da-3a45-4caa-94af-170b56fae595"
      },
      "source": [
        "# Visualização do DataFrame ajustado\n",
        "tipo_de_imovel"
      ],
      "execution_count": 12,
      "outputs": [
        {
          "output_type": "execute_result",
          "data": {
            "text/html": [
              "<div>\n",
              "<style scoped>\n",
              "    .dataframe tbody tr th:only-of-type {\n",
              "        vertical-align: middle;\n",
              "    }\n",
              "\n",
              "    .dataframe tbody tr th {\n",
              "        vertical-align: top;\n",
              "    }\n",
              "\n",
              "    .dataframe thead th {\n",
              "        text-align: right;\n",
              "    }\n",
              "</style>\n",
              "<table border=\"1\" class=\"dataframe\">\n",
              "  <thead>\n",
              "    <tr style=\"text-align: right;\">\n",
              "      <th></th>\n",
              "      <th>Tipo</th>\n",
              "      <th>Quantidade</th>\n",
              "    </tr>\n",
              "  </thead>\n",
              "  <tbody>\n",
              "    <tr>\n",
              "      <th>0</th>\n",
              "      <td>Apartamento</td>\n",
              "      <td>19532</td>\n",
              "    </tr>\n",
              "    <tr>\n",
              "      <th>1</th>\n",
              "      <td>Conjunto Comercial/Sala</td>\n",
              "      <td>6815</td>\n",
              "    </tr>\n",
              "    <tr>\n",
              "      <th>2</th>\n",
              "      <td>Loja/Salão</td>\n",
              "      <td>1426</td>\n",
              "    </tr>\n",
              "    <tr>\n",
              "      <th>3</th>\n",
              "      <td>Casa de Condomínio</td>\n",
              "      <td>996</td>\n",
              "    </tr>\n",
              "    <tr>\n",
              "      <th>4</th>\n",
              "      <td>Casa</td>\n",
              "      <td>967</td>\n",
              "    </tr>\n",
              "    <tr>\n",
              "      <th>5</th>\n",
              "      <td>Quitinete</td>\n",
              "      <td>836</td>\n",
              "    </tr>\n",
              "    <tr>\n",
              "      <th>6</th>\n",
              "      <td>Galpão/Depósito/Armazém</td>\n",
              "      <td>623</td>\n",
              "    </tr>\n",
              "    <tr>\n",
              "      <th>7</th>\n",
              "      <td>Flat</td>\n",
              "      <td>476</td>\n",
              "    </tr>\n",
              "    <tr>\n",
              "      <th>8</th>\n",
              "      <td>Prédio Inteiro</td>\n",
              "      <td>301</td>\n",
              "    </tr>\n",
              "    <tr>\n",
              "      <th>9</th>\n",
              "      <td>Casa Comercial</td>\n",
              "      <td>265</td>\n",
              "    </tr>\n",
              "    <tr>\n",
              "      <th>10</th>\n",
              "      <td>Casa de Vila</td>\n",
              "      <td>249</td>\n",
              "    </tr>\n",
              "    <tr>\n",
              "      <th>11</th>\n",
              "      <td>Loja Shopping/ Ct Comercial</td>\n",
              "      <td>247</td>\n",
              "    </tr>\n",
              "    <tr>\n",
              "      <th>12</th>\n",
              "      <td>Box/Garagem</td>\n",
              "      <td>82</td>\n",
              "    </tr>\n",
              "    <tr>\n",
              "      <th>13</th>\n",
              "      <td>Terreno Padrão</td>\n",
              "      <td>70</td>\n",
              "    </tr>\n",
              "    <tr>\n",
              "      <th>14</th>\n",
              "      <td>Loft</td>\n",
              "      <td>51</td>\n",
              "    </tr>\n",
              "    <tr>\n",
              "      <th>15</th>\n",
              "      <td>Sítio</td>\n",
              "      <td>10</td>\n",
              "    </tr>\n",
              "    <tr>\n",
              "      <th>16</th>\n",
              "      <td>Loteamento/Condomínio</td>\n",
              "      <td>5</td>\n",
              "    </tr>\n",
              "    <tr>\n",
              "      <th>17</th>\n",
              "      <td>Studio</td>\n",
              "      <td>4</td>\n",
              "    </tr>\n",
              "    <tr>\n",
              "      <th>18</th>\n",
              "      <td>Hotel</td>\n",
              "      <td>2</td>\n",
              "    </tr>\n",
              "    <tr>\n",
              "      <th>19</th>\n",
              "      <td>Chácara</td>\n",
              "      <td>1</td>\n",
              "    </tr>\n",
              "    <tr>\n",
              "      <th>20</th>\n",
              "      <td>Indústria</td>\n",
              "      <td>1</td>\n",
              "    </tr>\n",
              "    <tr>\n",
              "      <th>21</th>\n",
              "      <td>Pousada/Chalé</td>\n",
              "      <td>1</td>\n",
              "    </tr>\n",
              "  </tbody>\n",
              "</table>\n",
              "</div>"
            ],
            "text/plain": [
              "                           Tipo  Quantidade\n",
              "0                   Apartamento       19532\n",
              "1       Conjunto Comercial/Sala        6815\n",
              "2                    Loja/Salão        1426\n",
              "3            Casa de Condomínio         996\n",
              "4                          Casa         967\n",
              "5                     Quitinete         836\n",
              "6       Galpão/Depósito/Armazém         623\n",
              "7                          Flat         476\n",
              "8                Prédio Inteiro         301\n",
              "9                Casa Comercial         265\n",
              "10                 Casa de Vila         249\n",
              "11  Loja Shopping/ Ct Comercial         247\n",
              "12                  Box/Garagem          82\n",
              "13               Terreno Padrão          70\n",
              "14                         Loft          51\n",
              "15                        Sítio          10\n",
              "16        Loteamento/Condomínio           5\n",
              "17                       Studio           4\n",
              "18                        Hotel           2\n",
              "19                      Chácara           1\n",
              "20                    Indústria           1\n",
              "21                Pousada/Chalé           1"
            ]
          },
          "metadata": {},
          "execution_count": 12
        }
      ]
    },
    {
      "cell_type": "markdown",
      "metadata": {
        "id": "ZkExCXXi4ipU"
      },
      "source": [
        "#### Analisando somente os imóveis residenciais"
      ]
    },
    {
      "cell_type": "code",
      "metadata": {
        "colab": {
          "base_uri": "https://localhost:8080/"
        },
        "id": "HS9uiAa34TFY",
        "outputId": "c2627678-caaf-4da4-bcdf-3a985b0dd6fb"
      },
      "source": [
        "# Listando todos os tipos de imóveis da base de dados\n",
        "tipo_de_imovel['Tipo'].values"
      ],
      "execution_count": 13,
      "outputs": [
        {
          "output_type": "execute_result",
          "data": {
            "text/plain": [
              "array(['Apartamento', 'Conjunto Comercial/Sala', 'Loja/Salão',\n",
              "       'Casa de Condomínio', 'Casa', 'Quitinete',\n",
              "       'Galpão/Depósito/Armazém', 'Flat', 'Prédio Inteiro',\n",
              "       'Casa Comercial', 'Casa de Vila', 'Loja Shopping/ Ct Comercial',\n",
              "       'Box/Garagem', 'Terreno Padrão', 'Loft', 'Sítio',\n",
              "       'Loteamento/Condomínio', 'Studio', 'Hotel', 'Chácara', 'Indústria',\n",
              "       'Pousada/Chalé'], dtype=object)"
            ]
          },
          "metadata": {},
          "execution_count": 13
        }
      ]
    },
    {
      "cell_type": "markdown",
      "metadata": {
        "id": "UH4Ci2mt48CW"
      },
      "source": [
        "Os imóveis considerados residenciais dentre os presentes na base de dados são: Apartamento, Casa de Condomínio, Casa, Quitinete e Casa de Vila."
      ]
    },
    {
      "cell_type": "code",
      "metadata": {
        "id": "qt5Dk_i44psG"
      },
      "source": [
        "# Salvando os imóveis residenciais em uma variavel\n",
        "imoveis_residenciais = ['Apartamento', 'Casa de Condomínio', 'Casa', 'Quitinete', 'Casa de Vila']"
      ],
      "execution_count": 14,
      "outputs": []
    },
    {
      "cell_type": "code",
      "metadata": {
        "id": "weOhg6XJ5lk6"
      },
      "source": [
        "# Salvando em uma variável quais dados da base são referentes aos imóveis residenciais selecionados\n",
        "selecao = dados['Tipo'].isin(imoveis_residenciais)"
      ],
      "execution_count": 15,
      "outputs": []
    },
    {
      "cell_type": "code",
      "metadata": {
        "id": "L40QG7wb6Dwd"
      },
      "source": [
        "# Filtrando os dados da base de acordo com a seleção feita\n",
        "dados_residencial = dados[selecao]"
      ],
      "execution_count": 16,
      "outputs": []
    },
    {
      "cell_type": "code",
      "metadata": {
        "colab": {
          "base_uri": "https://localhost:8080/",
          "height": 363
        },
        "id": "1YbPPy9C6ZOZ",
        "outputId": "70535b3d-736d-4325-82e5-3fd491e714a4"
      },
      "source": [
        "# Visualizando os 10 primeiros valores do novo DataFrame\n",
        "dados_residencial.head(10)"
      ],
      "execution_count": 17,
      "outputs": [
        {
          "output_type": "execute_result",
          "data": {
            "text/html": [
              "<div>\n",
              "<style scoped>\n",
              "    .dataframe tbody tr th:only-of-type {\n",
              "        vertical-align: middle;\n",
              "    }\n",
              "\n",
              "    .dataframe tbody tr th {\n",
              "        vertical-align: top;\n",
              "    }\n",
              "\n",
              "    .dataframe thead th {\n",
              "        text-align: right;\n",
              "    }\n",
              "</style>\n",
              "<table border=\"1\" class=\"dataframe\">\n",
              "  <thead>\n",
              "    <tr style=\"text-align: right;\">\n",
              "      <th></th>\n",
              "      <th>Tipo</th>\n",
              "      <th>Bairro</th>\n",
              "      <th>Quartos</th>\n",
              "      <th>Vagas</th>\n",
              "      <th>Suites</th>\n",
              "      <th>Area</th>\n",
              "      <th>Valor</th>\n",
              "      <th>Condominio</th>\n",
              "      <th>IPTU</th>\n",
              "    </tr>\n",
              "  </thead>\n",
              "  <tbody>\n",
              "    <tr>\n",
              "      <th>0</th>\n",
              "      <td>Quitinete</td>\n",
              "      <td>Copacabana</td>\n",
              "      <td>1</td>\n",
              "      <td>0</td>\n",
              "      <td>0</td>\n",
              "      <td>40</td>\n",
              "      <td>1700.0</td>\n",
              "      <td>500.0</td>\n",
              "      <td>60.0</td>\n",
              "    </tr>\n",
              "    <tr>\n",
              "      <th>1</th>\n",
              "      <td>Casa</td>\n",
              "      <td>Jardim Botânico</td>\n",
              "      <td>2</td>\n",
              "      <td>0</td>\n",
              "      <td>1</td>\n",
              "      <td>100</td>\n",
              "      <td>7000.0</td>\n",
              "      <td>NaN</td>\n",
              "      <td>NaN</td>\n",
              "    </tr>\n",
              "    <tr>\n",
              "      <th>3</th>\n",
              "      <td>Apartamento</td>\n",
              "      <td>Centro</td>\n",
              "      <td>1</td>\n",
              "      <td>0</td>\n",
              "      <td>0</td>\n",
              "      <td>15</td>\n",
              "      <td>800.0</td>\n",
              "      <td>390.0</td>\n",
              "      <td>20.0</td>\n",
              "    </tr>\n",
              "    <tr>\n",
              "      <th>4</th>\n",
              "      <td>Apartamento</td>\n",
              "      <td>Higienópolis</td>\n",
              "      <td>1</td>\n",
              "      <td>0</td>\n",
              "      <td>0</td>\n",
              "      <td>48</td>\n",
              "      <td>800.0</td>\n",
              "      <td>230.0</td>\n",
              "      <td>NaN</td>\n",
              "    </tr>\n",
              "    <tr>\n",
              "      <th>5</th>\n",
              "      <td>Apartamento</td>\n",
              "      <td>Vista Alegre</td>\n",
              "      <td>3</td>\n",
              "      <td>1</td>\n",
              "      <td>0</td>\n",
              "      <td>70</td>\n",
              "      <td>1200.0</td>\n",
              "      <td>NaN</td>\n",
              "      <td>NaN</td>\n",
              "    </tr>\n",
              "    <tr>\n",
              "      <th>6</th>\n",
              "      <td>Apartamento</td>\n",
              "      <td>Cachambi</td>\n",
              "      <td>2</td>\n",
              "      <td>0</td>\n",
              "      <td>0</td>\n",
              "      <td>50</td>\n",
              "      <td>1300.0</td>\n",
              "      <td>301.0</td>\n",
              "      <td>17.0</td>\n",
              "    </tr>\n",
              "    <tr>\n",
              "      <th>7</th>\n",
              "      <td>Casa de Condomínio</td>\n",
              "      <td>Barra da Tijuca</td>\n",
              "      <td>5</td>\n",
              "      <td>4</td>\n",
              "      <td>5</td>\n",
              "      <td>750</td>\n",
              "      <td>22000.0</td>\n",
              "      <td>NaN</td>\n",
              "      <td>NaN</td>\n",
              "    </tr>\n",
              "    <tr>\n",
              "      <th>8</th>\n",
              "      <td>Casa de Condomínio</td>\n",
              "      <td>Ramos</td>\n",
              "      <td>2</td>\n",
              "      <td>2</td>\n",
              "      <td>0</td>\n",
              "      <td>65</td>\n",
              "      <td>1000.0</td>\n",
              "      <td>NaN</td>\n",
              "      <td>NaN</td>\n",
              "    </tr>\n",
              "    <tr>\n",
              "      <th>10</th>\n",
              "      <td>Apartamento</td>\n",
              "      <td>Centro</td>\n",
              "      <td>1</td>\n",
              "      <td>0</td>\n",
              "      <td>0</td>\n",
              "      <td>36</td>\n",
              "      <td>1200.0</td>\n",
              "      <td>NaN</td>\n",
              "      <td>NaN</td>\n",
              "    </tr>\n",
              "    <tr>\n",
              "      <th>11</th>\n",
              "      <td>Apartamento</td>\n",
              "      <td>Grajaú</td>\n",
              "      <td>2</td>\n",
              "      <td>1</td>\n",
              "      <td>0</td>\n",
              "      <td>70</td>\n",
              "      <td>1500.0</td>\n",
              "      <td>642.0</td>\n",
              "      <td>74.0</td>\n",
              "    </tr>\n",
              "  </tbody>\n",
              "</table>\n",
              "</div>"
            ],
            "text/plain": [
              "                  Tipo           Bairro  Quartos  ...    Valor  Condominio  IPTU\n",
              "0            Quitinete       Copacabana        1  ...   1700.0       500.0  60.0\n",
              "1                 Casa  Jardim Botânico        2  ...   7000.0         NaN   NaN\n",
              "3          Apartamento           Centro        1  ...    800.0       390.0  20.0\n",
              "4          Apartamento     Higienópolis        1  ...    800.0       230.0   NaN\n",
              "5          Apartamento     Vista Alegre        3  ...   1200.0         NaN   NaN\n",
              "6          Apartamento         Cachambi        2  ...   1300.0       301.0  17.0\n",
              "7   Casa de Condomínio  Barra da Tijuca        5  ...  22000.0         NaN   NaN\n",
              "8   Casa de Condomínio            Ramos        2  ...   1000.0         NaN   NaN\n",
              "10         Apartamento           Centro        1  ...   1200.0         NaN   NaN\n",
              "11         Apartamento           Grajaú        2  ...   1500.0       642.0  74.0\n",
              "\n",
              "[10 rows x 9 columns]"
            ]
          },
          "metadata": {},
          "execution_count": 17
        }
      ]
    },
    {
      "cell_type": "code",
      "metadata": {
        "colab": {
          "base_uri": "https://localhost:8080/"
        },
        "id": "8nk21j-D6bF6",
        "outputId": "530b9e6d-3be3-4814-cf13-6b50613552c9"
      },
      "source": [
        "# Verificando se a seleção feita está correta\n",
        "list(dados_residencial['Tipo'].drop_duplicates())"
      ],
      "execution_count": 18,
      "outputs": [
        {
          "output_type": "execute_result",
          "data": {
            "text/plain": [
              "['Quitinete', 'Casa', 'Apartamento', 'Casa de Condomínio', 'Casa de Vila']"
            ]
          },
          "metadata": {},
          "execution_count": 18
        }
      ]
    },
    {
      "cell_type": "code",
      "metadata": {
        "colab": {
          "base_uri": "https://localhost:8080/"
        },
        "id": "MjT-4MwA68c3",
        "outputId": "95730518-e43c-4193-8bde-f3399ccb87aa"
      },
      "source": [
        "# Quantidade de imóveis residenciais da base\n",
        "dados_residencial.shape[0]"
      ],
      "execution_count": 19,
      "outputs": [
        {
          "output_type": "execute_result",
          "data": {
            "text/plain": [
              "22580"
            ]
          },
          "metadata": {},
          "execution_count": 19
        }
      ]
    },
    {
      "cell_type": "code",
      "metadata": {
        "id": "STvVuV3s7Fcp"
      },
      "source": [
        "# Ajustando o index do DataFrame que contém somente os imóveis residencias\n",
        "dados_residencial.reset_index(inplace=True)"
      ],
      "execution_count": 20,
      "outputs": []
    },
    {
      "cell_type": "code",
      "metadata": {
        "colab": {
          "base_uri": "https://localhost:8080/",
          "height": 206
        },
        "id": "wKuQ4lwUV3RY",
        "outputId": "c325f31b-91a3-468f-eae7-82eb8139b05d"
      },
      "source": [
        "dados_residencial.head()"
      ],
      "execution_count": 21,
      "outputs": [
        {
          "output_type": "execute_result",
          "data": {
            "text/html": [
              "<div>\n",
              "<style scoped>\n",
              "    .dataframe tbody tr th:only-of-type {\n",
              "        vertical-align: middle;\n",
              "    }\n",
              "\n",
              "    .dataframe tbody tr th {\n",
              "        vertical-align: top;\n",
              "    }\n",
              "\n",
              "    .dataframe thead th {\n",
              "        text-align: right;\n",
              "    }\n",
              "</style>\n",
              "<table border=\"1\" class=\"dataframe\">\n",
              "  <thead>\n",
              "    <tr style=\"text-align: right;\">\n",
              "      <th></th>\n",
              "      <th>index</th>\n",
              "      <th>Tipo</th>\n",
              "      <th>Bairro</th>\n",
              "      <th>Quartos</th>\n",
              "      <th>Vagas</th>\n",
              "      <th>Suites</th>\n",
              "      <th>Area</th>\n",
              "      <th>Valor</th>\n",
              "      <th>Condominio</th>\n",
              "      <th>IPTU</th>\n",
              "    </tr>\n",
              "  </thead>\n",
              "  <tbody>\n",
              "    <tr>\n",
              "      <th>0</th>\n",
              "      <td>0</td>\n",
              "      <td>Quitinete</td>\n",
              "      <td>Copacabana</td>\n",
              "      <td>1</td>\n",
              "      <td>0</td>\n",
              "      <td>0</td>\n",
              "      <td>40</td>\n",
              "      <td>1700.0</td>\n",
              "      <td>500.0</td>\n",
              "      <td>60.0</td>\n",
              "    </tr>\n",
              "    <tr>\n",
              "      <th>1</th>\n",
              "      <td>1</td>\n",
              "      <td>Casa</td>\n",
              "      <td>Jardim Botânico</td>\n",
              "      <td>2</td>\n",
              "      <td>0</td>\n",
              "      <td>1</td>\n",
              "      <td>100</td>\n",
              "      <td>7000.0</td>\n",
              "      <td>NaN</td>\n",
              "      <td>NaN</td>\n",
              "    </tr>\n",
              "    <tr>\n",
              "      <th>2</th>\n",
              "      <td>3</td>\n",
              "      <td>Apartamento</td>\n",
              "      <td>Centro</td>\n",
              "      <td>1</td>\n",
              "      <td>0</td>\n",
              "      <td>0</td>\n",
              "      <td>15</td>\n",
              "      <td>800.0</td>\n",
              "      <td>390.0</td>\n",
              "      <td>20.0</td>\n",
              "    </tr>\n",
              "    <tr>\n",
              "      <th>3</th>\n",
              "      <td>4</td>\n",
              "      <td>Apartamento</td>\n",
              "      <td>Higienópolis</td>\n",
              "      <td>1</td>\n",
              "      <td>0</td>\n",
              "      <td>0</td>\n",
              "      <td>48</td>\n",
              "      <td>800.0</td>\n",
              "      <td>230.0</td>\n",
              "      <td>NaN</td>\n",
              "    </tr>\n",
              "    <tr>\n",
              "      <th>4</th>\n",
              "      <td>5</td>\n",
              "      <td>Apartamento</td>\n",
              "      <td>Vista Alegre</td>\n",
              "      <td>3</td>\n",
              "      <td>1</td>\n",
              "      <td>0</td>\n",
              "      <td>70</td>\n",
              "      <td>1200.0</td>\n",
              "      <td>NaN</td>\n",
              "      <td>NaN</td>\n",
              "    </tr>\n",
              "  </tbody>\n",
              "</table>\n",
              "</div>"
            ],
            "text/plain": [
              "   index         Tipo           Bairro  Quartos  ...  Area   Valor  Condominio  IPTU\n",
              "0      0    Quitinete       Copacabana        1  ...    40  1700.0       500.0  60.0\n",
              "1      1         Casa  Jardim Botânico        2  ...   100  7000.0         NaN   NaN\n",
              "2      3  Apartamento           Centro        1  ...    15   800.0       390.0  20.0\n",
              "3      4  Apartamento     Higienópolis        1  ...    48   800.0       230.0   NaN\n",
              "4      5  Apartamento     Vista Alegre        3  ...    70  1200.0         NaN   NaN\n",
              "\n",
              "[5 rows x 10 columns]"
            ]
          },
          "metadata": {},
          "execution_count": 21
        }
      ]
    },
    {
      "cell_type": "code",
      "metadata": {
        "id": "g5G0k-qZWgSs"
      },
      "source": [
        "# Excluindo a coluna 'index'\n",
        "dados_residencial = dados_residencial.drop(columns=['index'])"
      ],
      "execution_count": 22,
      "outputs": []
    },
    {
      "cell_type": "markdown",
      "metadata": {
        "id": "TH0L3crDSQOK"
      },
      "source": [
        "#### Exportando o novo DataFrame com os dados dos imóveis residenciais"
      ]
    },
    {
      "cell_type": "code",
      "metadata": {
        "id": "ENI-BWm-7Z6A"
      },
      "source": [
        "dados_residencial.to_csv('aluguel_residencial.csv', sep=';')"
      ],
      "execution_count": 23,
      "outputs": []
    },
    {
      "cell_type": "markdown",
      "metadata": {
        "id": "Uvpc0G3uVaeX"
      },
      "source": [
        "#### Explorando os dados dos imóveis residenciais"
      ]
    },
    {
      "cell_type": "code",
      "metadata": {
        "colab": {
          "base_uri": "https://localhost:8080/",
          "height": 363
        },
        "id": "LaU6U4gfS5gN",
        "outputId": "88862de8-ff6c-4d3d-836f-6e5682a05464"
      },
      "source": [
        "# Visualizando os dados\n",
        "dados_residencial.head(10)"
      ],
      "execution_count": 24,
      "outputs": [
        {
          "output_type": "execute_result",
          "data": {
            "text/html": [
              "<div>\n",
              "<style scoped>\n",
              "    .dataframe tbody tr th:only-of-type {\n",
              "        vertical-align: middle;\n",
              "    }\n",
              "\n",
              "    .dataframe tbody tr th {\n",
              "        vertical-align: top;\n",
              "    }\n",
              "\n",
              "    .dataframe thead th {\n",
              "        text-align: right;\n",
              "    }\n",
              "</style>\n",
              "<table border=\"1\" class=\"dataframe\">\n",
              "  <thead>\n",
              "    <tr style=\"text-align: right;\">\n",
              "      <th></th>\n",
              "      <th>Tipo</th>\n",
              "      <th>Bairro</th>\n",
              "      <th>Quartos</th>\n",
              "      <th>Vagas</th>\n",
              "      <th>Suites</th>\n",
              "      <th>Area</th>\n",
              "      <th>Valor</th>\n",
              "      <th>Condominio</th>\n",
              "      <th>IPTU</th>\n",
              "    </tr>\n",
              "  </thead>\n",
              "  <tbody>\n",
              "    <tr>\n",
              "      <th>0</th>\n",
              "      <td>Quitinete</td>\n",
              "      <td>Copacabana</td>\n",
              "      <td>1</td>\n",
              "      <td>0</td>\n",
              "      <td>0</td>\n",
              "      <td>40</td>\n",
              "      <td>1700.0</td>\n",
              "      <td>500.0</td>\n",
              "      <td>60.0</td>\n",
              "    </tr>\n",
              "    <tr>\n",
              "      <th>1</th>\n",
              "      <td>Casa</td>\n",
              "      <td>Jardim Botânico</td>\n",
              "      <td>2</td>\n",
              "      <td>0</td>\n",
              "      <td>1</td>\n",
              "      <td>100</td>\n",
              "      <td>7000.0</td>\n",
              "      <td>NaN</td>\n",
              "      <td>NaN</td>\n",
              "    </tr>\n",
              "    <tr>\n",
              "      <th>2</th>\n",
              "      <td>Apartamento</td>\n",
              "      <td>Centro</td>\n",
              "      <td>1</td>\n",
              "      <td>0</td>\n",
              "      <td>0</td>\n",
              "      <td>15</td>\n",
              "      <td>800.0</td>\n",
              "      <td>390.0</td>\n",
              "      <td>20.0</td>\n",
              "    </tr>\n",
              "    <tr>\n",
              "      <th>3</th>\n",
              "      <td>Apartamento</td>\n",
              "      <td>Higienópolis</td>\n",
              "      <td>1</td>\n",
              "      <td>0</td>\n",
              "      <td>0</td>\n",
              "      <td>48</td>\n",
              "      <td>800.0</td>\n",
              "      <td>230.0</td>\n",
              "      <td>NaN</td>\n",
              "    </tr>\n",
              "    <tr>\n",
              "      <th>4</th>\n",
              "      <td>Apartamento</td>\n",
              "      <td>Vista Alegre</td>\n",
              "      <td>3</td>\n",
              "      <td>1</td>\n",
              "      <td>0</td>\n",
              "      <td>70</td>\n",
              "      <td>1200.0</td>\n",
              "      <td>NaN</td>\n",
              "      <td>NaN</td>\n",
              "    </tr>\n",
              "    <tr>\n",
              "      <th>5</th>\n",
              "      <td>Apartamento</td>\n",
              "      <td>Cachambi</td>\n",
              "      <td>2</td>\n",
              "      <td>0</td>\n",
              "      <td>0</td>\n",
              "      <td>50</td>\n",
              "      <td>1300.0</td>\n",
              "      <td>301.0</td>\n",
              "      <td>17.0</td>\n",
              "    </tr>\n",
              "    <tr>\n",
              "      <th>6</th>\n",
              "      <td>Casa de Condomínio</td>\n",
              "      <td>Barra da Tijuca</td>\n",
              "      <td>5</td>\n",
              "      <td>4</td>\n",
              "      <td>5</td>\n",
              "      <td>750</td>\n",
              "      <td>22000.0</td>\n",
              "      <td>NaN</td>\n",
              "      <td>NaN</td>\n",
              "    </tr>\n",
              "    <tr>\n",
              "      <th>7</th>\n",
              "      <td>Casa de Condomínio</td>\n",
              "      <td>Ramos</td>\n",
              "      <td>2</td>\n",
              "      <td>2</td>\n",
              "      <td>0</td>\n",
              "      <td>65</td>\n",
              "      <td>1000.0</td>\n",
              "      <td>NaN</td>\n",
              "      <td>NaN</td>\n",
              "    </tr>\n",
              "    <tr>\n",
              "      <th>8</th>\n",
              "      <td>Apartamento</td>\n",
              "      <td>Centro</td>\n",
              "      <td>1</td>\n",
              "      <td>0</td>\n",
              "      <td>0</td>\n",
              "      <td>36</td>\n",
              "      <td>1200.0</td>\n",
              "      <td>NaN</td>\n",
              "      <td>NaN</td>\n",
              "    </tr>\n",
              "    <tr>\n",
              "      <th>9</th>\n",
              "      <td>Apartamento</td>\n",
              "      <td>Grajaú</td>\n",
              "      <td>2</td>\n",
              "      <td>1</td>\n",
              "      <td>0</td>\n",
              "      <td>70</td>\n",
              "      <td>1500.0</td>\n",
              "      <td>642.0</td>\n",
              "      <td>74.0</td>\n",
              "    </tr>\n",
              "  </tbody>\n",
              "</table>\n",
              "</div>"
            ],
            "text/plain": [
              "                 Tipo           Bairro  Quartos  ...    Valor  Condominio  IPTU\n",
              "0           Quitinete       Copacabana        1  ...   1700.0       500.0  60.0\n",
              "1                Casa  Jardim Botânico        2  ...   7000.0         NaN   NaN\n",
              "2         Apartamento           Centro        1  ...    800.0       390.0  20.0\n",
              "3         Apartamento     Higienópolis        1  ...    800.0       230.0   NaN\n",
              "4         Apartamento     Vista Alegre        3  ...   1200.0         NaN   NaN\n",
              "5         Apartamento         Cachambi        2  ...   1300.0       301.0  17.0\n",
              "6  Casa de Condomínio  Barra da Tijuca        5  ...  22000.0         NaN   NaN\n",
              "7  Casa de Condomínio            Ramos        2  ...   1000.0         NaN   NaN\n",
              "8         Apartamento           Centro        1  ...   1200.0         NaN   NaN\n",
              "9         Apartamento           Grajaú        2  ...   1500.0       642.0  74.0\n",
              "\n",
              "[10 rows x 9 columns]"
            ]
          },
          "metadata": {},
          "execution_count": 24
        }
      ]
    },
    {
      "cell_type": "markdown",
      "metadata": {
        "id": "38uV6nQjXXo2"
      },
      "source": [
        "Quantidade de imóveis classificados com tipo 'Apartamento'"
      ]
    },
    {
      "cell_type": "code",
      "metadata": {
        "colab": {
          "base_uri": "https://localhost:8080/"
        },
        "id": "w8toXhVkXSUb",
        "outputId": "0e89b810-3ea5-429d-b804-2260754617ab"
      },
      "source": [
        "# Criando uma seleção\n",
        "selecao = dados_residencial['Tipo'] == 'Apartamento'\n",
        "\n",
        "# Filtrando os dados de acordo com a seleção\n",
        "quantidade_apartamentos = dados_residencial[selecao].shape[0]\n",
        "\n",
        "# Printando a quantidade de apartamentos\n",
        "print('A base de dados contém {} apartamentos'.format(quantidade_apartamentos))"
      ],
      "execution_count": 25,
      "outputs": [
        {
          "output_type": "stream",
          "name": "stdout",
          "text": [
            "A base de dados contém 19532 apartamentos\n"
          ]
        }
      ]
    },
    {
      "cell_type": "markdown",
      "metadata": {
        "id": "hcvXPMADYJWW"
      },
      "source": [
        "Quantidade de imóveis classificados como 'Casa', 'Casa de Condomínio' e 'Casa de Vila'"
      ]
    },
    {
      "cell_type": "code",
      "metadata": {
        "colab": {
          "base_uri": "https://localhost:8080/"
        },
        "id": "SZqHwSecVjt2",
        "outputId": "f485c1be-6da6-499c-96d5-52b1e938b027"
      },
      "source": [
        "# Criando uma seleção\n",
        "selecao = ((dados_residencial['Tipo'] == 'Casa') | (dados_residencial['Tipo'] == 'Casa de Condomínio') | (dados_residencial['Tipo'] == 'Casa de Vila'))\n",
        "\n",
        "# Filtrando os dados de acordo com a seleção\n",
        "quantidade_casas = dados_residencial[selecao].shape[0]\n",
        "\n",
        "# Printando a quantidade de casas\n",
        "print('A base de dados contém {} casas'.format(quantidade_casas))"
      ],
      "execution_count": 26,
      "outputs": [
        {
          "output_type": "stream",
          "name": "stdout",
          "text": [
            "A base de dados contém 2212 casas\n"
          ]
        }
      ]
    },
    {
      "cell_type": "markdown",
      "metadata": {
        "id": "2t0Qekn2Ze9S"
      },
      "source": [
        "Quantidade de imóveis com área entre 60 e 100 m²"
      ]
    },
    {
      "cell_type": "code",
      "metadata": {
        "colab": {
          "base_uri": "https://localhost:8080/"
        },
        "id": "xkA-xPgiY3Sz",
        "outputId": "a9923111-5839-4f21-f333-2f80047f1750"
      },
      "source": [
        "# Criando uma seleção\n",
        "selecao = (dados_residencial['Area'] >= 60) & (dados_residencial['Area'] <= 100)\n",
        "\n",
        "# Filtrando os dados de acordo com a seleção\n",
        "quantidade_area_60_a_100 = dados_residencial[selecao].shape[0]\n",
        "\n",
        "# Printando a quantidade de casas\n",
        "print('A base de dados contém {} imóveis com área entre 60 e 100 m²'.format(quantidade_area_60_a_100))"
      ],
      "execution_count": 27,
      "outputs": [
        {
          "output_type": "stream",
          "name": "stdout",
          "text": [
            "A base de dados contém 8719 imóveis com área entre 60 e 100 m²\n"
          ]
        }
      ]
    },
    {
      "cell_type": "markdown",
      "metadata": {
        "id": "wAyozXseaJ4z"
      },
      "source": [
        "Quantidade de imóveis com pelo menos 4 quartos e aluguel menor que R$ 2.000,00"
      ]
    },
    {
      "cell_type": "code",
      "metadata": {
        "colab": {
          "base_uri": "https://localhost:8080/"
        },
        "id": "AkU-yxawaD8q",
        "outputId": "0d07c685-fcfa-4c9b-f2e0-4da1266339be"
      },
      "source": [
        "# Criando uma seleção\n",
        "selecao = (dados_residencial['Quartos'] >= 4) & (dados_residencial['Valor'] < 2000.0)\n",
        "\n",
        "# Filtrando os dados de acordo com a seleção\n",
        "quantidade_4_quartos_menor_2000 = dados_residencial[selecao].shape[0]\n",
        "\n",
        "# Printando a quantidade de casas\n",
        "print('A base de dados contém {} imóveis com pelo menos 4 quartos e aluguel menor R$ 2.000,00'.format(quantidade_4_quartos_menor_2000))"
      ],
      "execution_count": 28,
      "outputs": [
        {
          "output_type": "stream",
          "name": "stdout",
          "text": [
            "A base de dados contém 41 imóveis com pelo menos 4 quartos e aluguel menor R$ 2.000,00\n"
          ]
        }
      ]
    },
    {
      "cell_type": "markdown",
      "metadata": {
        "id": "ovOe23XtoAB9"
      },
      "source": [
        "#### Tratamento de dados faltantes"
      ]
    },
    {
      "cell_type": "code",
      "metadata": {
        "id": "oHWX80zlaifa",
        "colab": {
          "base_uri": "https://localhost:8080/",
          "height": 424
        },
        "outputId": "9bb9156c-9435-4a3d-d2d7-51bc0c1b96fc"
      },
      "source": [
        "# DataFrame mostrando onde os dados são nulos e onde não são\n",
        "dados_residencial.isnull()"
      ],
      "execution_count": 29,
      "outputs": [
        {
          "output_type": "execute_result",
          "data": {
            "text/html": [
              "<div>\n",
              "<style scoped>\n",
              "    .dataframe tbody tr th:only-of-type {\n",
              "        vertical-align: middle;\n",
              "    }\n",
              "\n",
              "    .dataframe tbody tr th {\n",
              "        vertical-align: top;\n",
              "    }\n",
              "\n",
              "    .dataframe thead th {\n",
              "        text-align: right;\n",
              "    }\n",
              "</style>\n",
              "<table border=\"1\" class=\"dataframe\">\n",
              "  <thead>\n",
              "    <tr style=\"text-align: right;\">\n",
              "      <th></th>\n",
              "      <th>Tipo</th>\n",
              "      <th>Bairro</th>\n",
              "      <th>Quartos</th>\n",
              "      <th>Vagas</th>\n",
              "      <th>Suites</th>\n",
              "      <th>Area</th>\n",
              "      <th>Valor</th>\n",
              "      <th>Condominio</th>\n",
              "      <th>IPTU</th>\n",
              "    </tr>\n",
              "  </thead>\n",
              "  <tbody>\n",
              "    <tr>\n",
              "      <th>0</th>\n",
              "      <td>False</td>\n",
              "      <td>False</td>\n",
              "      <td>False</td>\n",
              "      <td>False</td>\n",
              "      <td>False</td>\n",
              "      <td>False</td>\n",
              "      <td>False</td>\n",
              "      <td>False</td>\n",
              "      <td>False</td>\n",
              "    </tr>\n",
              "    <tr>\n",
              "      <th>1</th>\n",
              "      <td>False</td>\n",
              "      <td>False</td>\n",
              "      <td>False</td>\n",
              "      <td>False</td>\n",
              "      <td>False</td>\n",
              "      <td>False</td>\n",
              "      <td>False</td>\n",
              "      <td>True</td>\n",
              "      <td>True</td>\n",
              "    </tr>\n",
              "    <tr>\n",
              "      <th>2</th>\n",
              "      <td>False</td>\n",
              "      <td>False</td>\n",
              "      <td>False</td>\n",
              "      <td>False</td>\n",
              "      <td>False</td>\n",
              "      <td>False</td>\n",
              "      <td>False</td>\n",
              "      <td>False</td>\n",
              "      <td>False</td>\n",
              "    </tr>\n",
              "    <tr>\n",
              "      <th>3</th>\n",
              "      <td>False</td>\n",
              "      <td>False</td>\n",
              "      <td>False</td>\n",
              "      <td>False</td>\n",
              "      <td>False</td>\n",
              "      <td>False</td>\n",
              "      <td>False</td>\n",
              "      <td>False</td>\n",
              "      <td>True</td>\n",
              "    </tr>\n",
              "    <tr>\n",
              "      <th>4</th>\n",
              "      <td>False</td>\n",
              "      <td>False</td>\n",
              "      <td>False</td>\n",
              "      <td>False</td>\n",
              "      <td>False</td>\n",
              "      <td>False</td>\n",
              "      <td>False</td>\n",
              "      <td>True</td>\n",
              "      <td>True</td>\n",
              "    </tr>\n",
              "    <tr>\n",
              "      <th>...</th>\n",
              "      <td>...</td>\n",
              "      <td>...</td>\n",
              "      <td>...</td>\n",
              "      <td>...</td>\n",
              "      <td>...</td>\n",
              "      <td>...</td>\n",
              "      <td>...</td>\n",
              "      <td>...</td>\n",
              "      <td>...</td>\n",
              "    </tr>\n",
              "    <tr>\n",
              "      <th>22575</th>\n",
              "      <td>False</td>\n",
              "      <td>False</td>\n",
              "      <td>False</td>\n",
              "      <td>False</td>\n",
              "      <td>False</td>\n",
              "      <td>False</td>\n",
              "      <td>False</td>\n",
              "      <td>False</td>\n",
              "      <td>False</td>\n",
              "    </tr>\n",
              "    <tr>\n",
              "      <th>22576</th>\n",
              "      <td>False</td>\n",
              "      <td>False</td>\n",
              "      <td>False</td>\n",
              "      <td>False</td>\n",
              "      <td>False</td>\n",
              "      <td>False</td>\n",
              "      <td>False</td>\n",
              "      <td>False</td>\n",
              "      <td>False</td>\n",
              "    </tr>\n",
              "    <tr>\n",
              "      <th>22577</th>\n",
              "      <td>False</td>\n",
              "      <td>False</td>\n",
              "      <td>False</td>\n",
              "      <td>False</td>\n",
              "      <td>False</td>\n",
              "      <td>False</td>\n",
              "      <td>False</td>\n",
              "      <td>False</td>\n",
              "      <td>False</td>\n",
              "    </tr>\n",
              "    <tr>\n",
              "      <th>22578</th>\n",
              "      <td>False</td>\n",
              "      <td>False</td>\n",
              "      <td>False</td>\n",
              "      <td>False</td>\n",
              "      <td>False</td>\n",
              "      <td>False</td>\n",
              "      <td>False</td>\n",
              "      <td>False</td>\n",
              "      <td>False</td>\n",
              "    </tr>\n",
              "    <tr>\n",
              "      <th>22579</th>\n",
              "      <td>False</td>\n",
              "      <td>False</td>\n",
              "      <td>False</td>\n",
              "      <td>False</td>\n",
              "      <td>False</td>\n",
              "      <td>False</td>\n",
              "      <td>False</td>\n",
              "      <td>False</td>\n",
              "      <td>True</td>\n",
              "    </tr>\n",
              "  </tbody>\n",
              "</table>\n",
              "<p>22580 rows × 9 columns</p>\n",
              "</div>"
            ],
            "text/plain": [
              "        Tipo  Bairro  Quartos  Vagas  Suites   Area  Valor  Condominio   IPTU\n",
              "0      False   False    False  False   False  False  False       False  False\n",
              "1      False   False    False  False   False  False  False        True   True\n",
              "2      False   False    False  False   False  False  False       False  False\n",
              "3      False   False    False  False   False  False  False       False   True\n",
              "4      False   False    False  False   False  False  False        True   True\n",
              "...      ...     ...      ...    ...     ...    ...    ...         ...    ...\n",
              "22575  False   False    False  False   False  False  False       False  False\n",
              "22576  False   False    False  False   False  False  False       False  False\n",
              "22577  False   False    False  False   False  False  False       False  False\n",
              "22578  False   False    False  False   False  False  False       False  False\n",
              "22579  False   False    False  False   False  False  False       False   True\n",
              "\n",
              "[22580 rows x 9 columns]"
            ]
          },
          "metadata": {},
          "execution_count": 29
        }
      ]
    },
    {
      "cell_type": "code",
      "metadata": {
        "colab": {
          "base_uri": "https://localhost:8080/"
        },
        "id": "gep-977goJ_c",
        "outputId": "872633db-b649-4cba-ddea-abd9cf2ece17"
      },
      "source": [
        "# Visualizando um resumo das informações do DataFrame\n",
        "dados_residencial.info()"
      ],
      "execution_count": 30,
      "outputs": [
        {
          "output_type": "stream",
          "name": "stdout",
          "text": [
            "<class 'pandas.core.frame.DataFrame'>\n",
            "RangeIndex: 22580 entries, 0 to 22579\n",
            "Data columns (total 9 columns):\n",
            " #   Column      Non-Null Count  Dtype  \n",
            "---  ------      --------------  -----  \n",
            " 0   Tipo        22580 non-null  object \n",
            " 1   Bairro      22580 non-null  object \n",
            " 2   Quartos     22580 non-null  int64  \n",
            " 3   Vagas       22580 non-null  int64  \n",
            " 4   Suites      22580 non-null  int64  \n",
            " 5   Area        22580 non-null  int64  \n",
            " 6   Valor       22571 non-null  float64\n",
            " 7   Condominio  20765 non-null  float64\n",
            " 8   IPTU        15795 non-null  float64\n",
            "dtypes: float64(3), int64(4), object(2)\n",
            "memory usage: 1.6+ MB\n"
          ]
        }
      ]
    },
    {
      "cell_type": "markdown",
      "metadata": {
        "id": "CIClfbBGonfj"
      },
      "source": [
        "Observa-se que o DataFrame tem um total de 22580 entradas e que, portanto, as colunas Valor, Condomínio e IPTU apresentam dados nulos. Então, é necessário investigar mais a fundo esses dados faltantes para aplicar o tratamento mais adequado a eles."
      ]
    },
    {
      "cell_type": "markdown",
      "metadata": {
        "id": "d_erVRZxphEW"
      },
      "source": [
        "O valor do aluguel é uma informação muito relevante, por isso, vou começar investigando ela."
      ]
    },
    {
      "cell_type": "code",
      "metadata": {
        "colab": {
          "base_uri": "https://localhost:8080/",
          "height": 332
        },
        "id": "E4tLYUWKpYHp",
        "outputId": "fabbe570-89d4-4017-805e-8614a5e4ad0a"
      },
      "source": [
        "# Visualizando todas as entradas com o Valor nulo\n",
        "dados_residencial[dados_residencial['Valor'].isnull()]"
      ],
      "execution_count": 31,
      "outputs": [
        {
          "output_type": "execute_result",
          "data": {
            "text/html": [
              "<div>\n",
              "<style scoped>\n",
              "    .dataframe tbody tr th:only-of-type {\n",
              "        vertical-align: middle;\n",
              "    }\n",
              "\n",
              "    .dataframe tbody tr th {\n",
              "        vertical-align: top;\n",
              "    }\n",
              "\n",
              "    .dataframe thead th {\n",
              "        text-align: right;\n",
              "    }\n",
              "</style>\n",
              "<table border=\"1\" class=\"dataframe\">\n",
              "  <thead>\n",
              "    <tr style=\"text-align: right;\">\n",
              "      <th></th>\n",
              "      <th>Tipo</th>\n",
              "      <th>Bairro</th>\n",
              "      <th>Quartos</th>\n",
              "      <th>Vagas</th>\n",
              "      <th>Suites</th>\n",
              "      <th>Area</th>\n",
              "      <th>Valor</th>\n",
              "      <th>Condominio</th>\n",
              "      <th>IPTU</th>\n",
              "    </tr>\n",
              "  </thead>\n",
              "  <tbody>\n",
              "    <tr>\n",
              "      <th>58</th>\n",
              "      <td>Apartamento</td>\n",
              "      <td>Barra da Tijuca</td>\n",
              "      <td>2</td>\n",
              "      <td>1</td>\n",
              "      <td>1</td>\n",
              "      <td>70</td>\n",
              "      <td>NaN</td>\n",
              "      <td>970.0</td>\n",
              "      <td>68.0</td>\n",
              "    </tr>\n",
              "    <tr>\n",
              "      <th>1492</th>\n",
              "      <td>Apartamento</td>\n",
              "      <td>Leme</td>\n",
              "      <td>2</td>\n",
              "      <td>0</td>\n",
              "      <td>0</td>\n",
              "      <td>75</td>\n",
              "      <td>NaN</td>\n",
              "      <td>878.0</td>\n",
              "      <td>NaN</td>\n",
              "    </tr>\n",
              "    <tr>\n",
              "      <th>1683</th>\n",
              "      <td>Casa</td>\n",
              "      <td>Campo Grande</td>\n",
              "      <td>3</td>\n",
              "      <td>4</td>\n",
              "      <td>3</td>\n",
              "      <td>363</td>\n",
              "      <td>NaN</td>\n",
              "      <td>NaN</td>\n",
              "      <td>NaN</td>\n",
              "    </tr>\n",
              "    <tr>\n",
              "      <th>2012</th>\n",
              "      <td>Apartamento</td>\n",
              "      <td>Botafogo</td>\n",
              "      <td>2</td>\n",
              "      <td>0</td>\n",
              "      <td>0</td>\n",
              "      <td>95</td>\n",
              "      <td>NaN</td>\n",
              "      <td>1010.0</td>\n",
              "      <td>170.0</td>\n",
              "    </tr>\n",
              "    <tr>\n",
              "      <th>2034</th>\n",
              "      <td>Apartamento</td>\n",
              "      <td>Copacabana</td>\n",
              "      <td>2</td>\n",
              "      <td>0</td>\n",
              "      <td>0</td>\n",
              "      <td>72</td>\n",
              "      <td>NaN</td>\n",
              "      <td>850.0</td>\n",
              "      <td>NaN</td>\n",
              "    </tr>\n",
              "    <tr>\n",
              "      <th>4941</th>\n",
              "      <td>Casa</td>\n",
              "      <td>Campo Grande</td>\n",
              "      <td>3</td>\n",
              "      <td>2</td>\n",
              "      <td>1</td>\n",
              "      <td>100</td>\n",
              "      <td>NaN</td>\n",
              "      <td>NaN</td>\n",
              "      <td>NaN</td>\n",
              "    </tr>\n",
              "    <tr>\n",
              "      <th>8568</th>\n",
              "      <td>Apartamento</td>\n",
              "      <td>Leme</td>\n",
              "      <td>2</td>\n",
              "      <td>0</td>\n",
              "      <td>1</td>\n",
              "      <td>75</td>\n",
              "      <td>NaN</td>\n",
              "      <td>878.0</td>\n",
              "      <td>NaN</td>\n",
              "    </tr>\n",
              "    <tr>\n",
              "      <th>8947</th>\n",
              "      <td>Apartamento</td>\n",
              "      <td>Glória</td>\n",
              "      <td>3</td>\n",
              "      <td>0</td>\n",
              "      <td>1</td>\n",
              "      <td>135</td>\n",
              "      <td>NaN</td>\n",
              "      <td>910.0</td>\n",
              "      <td>228.0</td>\n",
              "    </tr>\n",
              "    <tr>\n",
              "      <th>9149</th>\n",
              "      <td>Apartamento</td>\n",
              "      <td>Gávea</td>\n",
              "      <td>3</td>\n",
              "      <td>1</td>\n",
              "      <td>1</td>\n",
              "      <td>105</td>\n",
              "      <td>NaN</td>\n",
              "      <td>880.0</td>\n",
              "      <td>221.0</td>\n",
              "    </tr>\n",
              "  </tbody>\n",
              "</table>\n",
              "</div>"
            ],
            "text/plain": [
              "             Tipo           Bairro  Quartos  ...  Valor  Condominio   IPTU\n",
              "58    Apartamento  Barra da Tijuca        2  ...    NaN       970.0   68.0\n",
              "1492  Apartamento             Leme        2  ...    NaN       878.0    NaN\n",
              "1683         Casa     Campo Grande        3  ...    NaN         NaN    NaN\n",
              "2012  Apartamento         Botafogo        2  ...    NaN      1010.0  170.0\n",
              "2034  Apartamento       Copacabana        2  ...    NaN       850.0    NaN\n",
              "4941         Casa     Campo Grande        3  ...    NaN         NaN    NaN\n",
              "8568  Apartamento             Leme        2  ...    NaN       878.0    NaN\n",
              "8947  Apartamento           Glória        3  ...    NaN       910.0  228.0\n",
              "9149  Apartamento            Gávea        3  ...    NaN       880.0  221.0\n",
              "\n",
              "[9 rows x 9 columns]"
            ]
          },
          "metadata": {},
          "execution_count": 31
        }
      ]
    },
    {
      "cell_type": "markdown",
      "metadata": {
        "id": "lX48Fur4qNZq"
      },
      "source": [
        "Como são poucas as entradas que faltam os dados do valor do aluguel, isso não causará impactos significativos nas análises, por isso, esses imóveis serão removidos."
      ]
    },
    {
      "cell_type": "code",
      "metadata": {
        "id": "qxEr_ehbpxsD"
      },
      "source": [
        "# Removendo as linhas que apresentam dados nulos na coluna Valor\n",
        "dados_residencial.dropna(subset=['Valor'], inplace=True)"
      ],
      "execution_count": 32,
      "outputs": []
    },
    {
      "cell_type": "markdown",
      "metadata": {
        "id": "YVlH15j3q9md"
      },
      "source": [
        "Quanto ao condomínio, se o imóvel não é um apartamento ou uma casa de condomínio, o preço do condomínio é igual a zero. Portanto, vou investigar se esses dados nulos são apenas referentes a esses tipos de imóveis."
      ]
    },
    {
      "cell_type": "code",
      "metadata": {
        "colab": {
          "base_uri": "https://localhost:8080/",
          "height": 424
        },
        "id": "AneE9RSgqAWv",
        "outputId": "f8c4e0cc-a4c0-4a36-bd2b-261305006f86"
      },
      "source": [
        "# Selecionando apartamento e casa de condomínio com condomínio nulo\n",
        "selecao = ((dados_residencial['Tipo'] == 'Apartamento') | (dados_residencial['Tipo'] == 'Casa de Condomínio')) & (dados_residencial['Condominio'].isnull())\n",
        "dados_residencial[selecao]"
      ],
      "execution_count": 33,
      "outputs": [
        {
          "output_type": "execute_result",
          "data": {
            "text/html": [
              "<div>\n",
              "<style scoped>\n",
              "    .dataframe tbody tr th:only-of-type {\n",
              "        vertical-align: middle;\n",
              "    }\n",
              "\n",
              "    .dataframe tbody tr th {\n",
              "        vertical-align: top;\n",
              "    }\n",
              "\n",
              "    .dataframe thead th {\n",
              "        text-align: right;\n",
              "    }\n",
              "</style>\n",
              "<table border=\"1\" class=\"dataframe\">\n",
              "  <thead>\n",
              "    <tr style=\"text-align: right;\">\n",
              "      <th></th>\n",
              "      <th>Tipo</th>\n",
              "      <th>Bairro</th>\n",
              "      <th>Quartos</th>\n",
              "      <th>Vagas</th>\n",
              "      <th>Suites</th>\n",
              "      <th>Area</th>\n",
              "      <th>Valor</th>\n",
              "      <th>Condominio</th>\n",
              "      <th>IPTU</th>\n",
              "    </tr>\n",
              "  </thead>\n",
              "  <tbody>\n",
              "    <tr>\n",
              "      <th>4</th>\n",
              "      <td>Apartamento</td>\n",
              "      <td>Vista Alegre</td>\n",
              "      <td>3</td>\n",
              "      <td>1</td>\n",
              "      <td>0</td>\n",
              "      <td>70</td>\n",
              "      <td>1200.0</td>\n",
              "      <td>NaN</td>\n",
              "      <td>NaN</td>\n",
              "    </tr>\n",
              "    <tr>\n",
              "      <th>6</th>\n",
              "      <td>Casa de Condomínio</td>\n",
              "      <td>Barra da Tijuca</td>\n",
              "      <td>5</td>\n",
              "      <td>4</td>\n",
              "      <td>5</td>\n",
              "      <td>750</td>\n",
              "      <td>22000.0</td>\n",
              "      <td>NaN</td>\n",
              "      <td>NaN</td>\n",
              "    </tr>\n",
              "    <tr>\n",
              "      <th>7</th>\n",
              "      <td>Casa de Condomínio</td>\n",
              "      <td>Ramos</td>\n",
              "      <td>2</td>\n",
              "      <td>2</td>\n",
              "      <td>0</td>\n",
              "      <td>65</td>\n",
              "      <td>1000.0</td>\n",
              "      <td>NaN</td>\n",
              "      <td>NaN</td>\n",
              "    </tr>\n",
              "    <tr>\n",
              "      <th>8</th>\n",
              "      <td>Apartamento</td>\n",
              "      <td>Centro</td>\n",
              "      <td>1</td>\n",
              "      <td>0</td>\n",
              "      <td>0</td>\n",
              "      <td>36</td>\n",
              "      <td>1200.0</td>\n",
              "      <td>NaN</td>\n",
              "      <td>NaN</td>\n",
              "    </tr>\n",
              "    <tr>\n",
              "      <th>14</th>\n",
              "      <td>Casa de Condomínio</td>\n",
              "      <td>Taquara</td>\n",
              "      <td>3</td>\n",
              "      <td>1</td>\n",
              "      <td>1</td>\n",
              "      <td>115</td>\n",
              "      <td>2000.0</td>\n",
              "      <td>NaN</td>\n",
              "      <td>NaN</td>\n",
              "    </tr>\n",
              "    <tr>\n",
              "      <th>...</th>\n",
              "      <td>...</td>\n",
              "      <td>...</td>\n",
              "      <td>...</td>\n",
              "      <td>...</td>\n",
              "      <td>...</td>\n",
              "      <td>...</td>\n",
              "      <td>...</td>\n",
              "      <td>...</td>\n",
              "      <td>...</td>\n",
              "    </tr>\n",
              "    <tr>\n",
              "      <th>22328</th>\n",
              "      <td>Apartamento</td>\n",
              "      <td>Copacabana</td>\n",
              "      <td>3</td>\n",
              "      <td>0</td>\n",
              "      <td>0</td>\n",
              "      <td>130</td>\n",
              "      <td>4600.0</td>\n",
              "      <td>NaN</td>\n",
              "      <td>NaN</td>\n",
              "    </tr>\n",
              "    <tr>\n",
              "      <th>22356</th>\n",
              "      <td>Apartamento</td>\n",
              "      <td>Guadalupe</td>\n",
              "      <td>1</td>\n",
              "      <td>0</td>\n",
              "      <td>0</td>\n",
              "      <td>40</td>\n",
              "      <td>550.0</td>\n",
              "      <td>NaN</td>\n",
              "      <td>NaN</td>\n",
              "    </tr>\n",
              "    <tr>\n",
              "      <th>22373</th>\n",
              "      <td>Apartamento</td>\n",
              "      <td>Bonsucesso</td>\n",
              "      <td>1</td>\n",
              "      <td>0</td>\n",
              "      <td>0</td>\n",
              "      <td>60</td>\n",
              "      <td>1000.0</td>\n",
              "      <td>NaN</td>\n",
              "      <td>NaN</td>\n",
              "    </tr>\n",
              "    <tr>\n",
              "      <th>22403</th>\n",
              "      <td>Apartamento</td>\n",
              "      <td>Flamengo</td>\n",
              "      <td>2</td>\n",
              "      <td>0</td>\n",
              "      <td>0</td>\n",
              "      <td>59</td>\n",
              "      <td>3500.0</td>\n",
              "      <td>NaN</td>\n",
              "      <td>NaN</td>\n",
              "    </tr>\n",
              "    <tr>\n",
              "      <th>22474</th>\n",
              "      <td>Apartamento</td>\n",
              "      <td>Cascadura</td>\n",
              "      <td>3</td>\n",
              "      <td>0</td>\n",
              "      <td>1</td>\n",
              "      <td>70</td>\n",
              "      <td>1200.0</td>\n",
              "      <td>NaN</td>\n",
              "      <td>NaN</td>\n",
              "    </tr>\n",
              "  </tbody>\n",
              "</table>\n",
              "<p>840 rows × 9 columns</p>\n",
              "</div>"
            ],
            "text/plain": [
              "                     Tipo           Bairro  Quartos  ...    Valor  Condominio  IPTU\n",
              "4             Apartamento     Vista Alegre        3  ...   1200.0         NaN   NaN\n",
              "6      Casa de Condomínio  Barra da Tijuca        5  ...  22000.0         NaN   NaN\n",
              "7      Casa de Condomínio            Ramos        2  ...   1000.0         NaN   NaN\n",
              "8             Apartamento           Centro        1  ...   1200.0         NaN   NaN\n",
              "14     Casa de Condomínio          Taquara        3  ...   2000.0         NaN   NaN\n",
              "...                   ...              ...      ...  ...      ...         ...   ...\n",
              "22328         Apartamento       Copacabana        3  ...   4600.0         NaN   NaN\n",
              "22356         Apartamento        Guadalupe        1  ...    550.0         NaN   NaN\n",
              "22373         Apartamento       Bonsucesso        1  ...   1000.0         NaN   NaN\n",
              "22403         Apartamento         Flamengo        2  ...   3500.0         NaN   NaN\n",
              "22474         Apartamento        Cascadura        3  ...   1200.0         NaN   NaN\n",
              "\n",
              "[840 rows x 9 columns]"
            ]
          },
          "metadata": {},
          "execution_count": 33
        }
      ]
    },
    {
      "cell_type": "markdown",
      "metadata": {
        "id": "1AyzkzWdsgt7"
      },
      "source": [
        "Há 840 imóveis do tipo apartamento e casa de condomínio que não possuem informação quanto ao preço do condomínio. Como essa informação é relevante para esse tipo de imóvel e ela está faltando, esses imóveis serão removidos da base."
      ]
    },
    {
      "cell_type": "code",
      "metadata": {
        "colab": {
          "base_uri": "https://localhost:8080/",
          "height": 363
        },
        "id": "xk3LKUqXrWuK",
        "outputId": "53152379-7750-4d09-f8f4-f3cba902e053"
      },
      "source": [
        "# Invertendo a seleção para pegar todos os dados desejados\n",
        "dados_residencial = dados_residencial[~selecao]\n",
        "\n",
        "# Visualizando os dados \n",
        "dados_residencial.head(10)"
      ],
      "execution_count": 34,
      "outputs": [
        {
          "output_type": "execute_result",
          "data": {
            "text/html": [
              "<div>\n",
              "<style scoped>\n",
              "    .dataframe tbody tr th:only-of-type {\n",
              "        vertical-align: middle;\n",
              "    }\n",
              "\n",
              "    .dataframe tbody tr th {\n",
              "        vertical-align: top;\n",
              "    }\n",
              "\n",
              "    .dataframe thead th {\n",
              "        text-align: right;\n",
              "    }\n",
              "</style>\n",
              "<table border=\"1\" class=\"dataframe\">\n",
              "  <thead>\n",
              "    <tr style=\"text-align: right;\">\n",
              "      <th></th>\n",
              "      <th>Tipo</th>\n",
              "      <th>Bairro</th>\n",
              "      <th>Quartos</th>\n",
              "      <th>Vagas</th>\n",
              "      <th>Suites</th>\n",
              "      <th>Area</th>\n",
              "      <th>Valor</th>\n",
              "      <th>Condominio</th>\n",
              "      <th>IPTU</th>\n",
              "    </tr>\n",
              "  </thead>\n",
              "  <tbody>\n",
              "    <tr>\n",
              "      <th>0</th>\n",
              "      <td>Quitinete</td>\n",
              "      <td>Copacabana</td>\n",
              "      <td>1</td>\n",
              "      <td>0</td>\n",
              "      <td>0</td>\n",
              "      <td>40</td>\n",
              "      <td>1700.0</td>\n",
              "      <td>500.0</td>\n",
              "      <td>60.0</td>\n",
              "    </tr>\n",
              "    <tr>\n",
              "      <th>1</th>\n",
              "      <td>Casa</td>\n",
              "      <td>Jardim Botânico</td>\n",
              "      <td>2</td>\n",
              "      <td>0</td>\n",
              "      <td>1</td>\n",
              "      <td>100</td>\n",
              "      <td>7000.0</td>\n",
              "      <td>NaN</td>\n",
              "      <td>NaN</td>\n",
              "    </tr>\n",
              "    <tr>\n",
              "      <th>2</th>\n",
              "      <td>Apartamento</td>\n",
              "      <td>Centro</td>\n",
              "      <td>1</td>\n",
              "      <td>0</td>\n",
              "      <td>0</td>\n",
              "      <td>15</td>\n",
              "      <td>800.0</td>\n",
              "      <td>390.0</td>\n",
              "      <td>20.0</td>\n",
              "    </tr>\n",
              "    <tr>\n",
              "      <th>3</th>\n",
              "      <td>Apartamento</td>\n",
              "      <td>Higienópolis</td>\n",
              "      <td>1</td>\n",
              "      <td>0</td>\n",
              "      <td>0</td>\n",
              "      <td>48</td>\n",
              "      <td>800.0</td>\n",
              "      <td>230.0</td>\n",
              "      <td>NaN</td>\n",
              "    </tr>\n",
              "    <tr>\n",
              "      <th>5</th>\n",
              "      <td>Apartamento</td>\n",
              "      <td>Cachambi</td>\n",
              "      <td>2</td>\n",
              "      <td>0</td>\n",
              "      <td>0</td>\n",
              "      <td>50</td>\n",
              "      <td>1300.0</td>\n",
              "      <td>301.0</td>\n",
              "      <td>17.0</td>\n",
              "    </tr>\n",
              "    <tr>\n",
              "      <th>9</th>\n",
              "      <td>Apartamento</td>\n",
              "      <td>Grajaú</td>\n",
              "      <td>2</td>\n",
              "      <td>1</td>\n",
              "      <td>0</td>\n",
              "      <td>70</td>\n",
              "      <td>1500.0</td>\n",
              "      <td>642.0</td>\n",
              "      <td>74.0</td>\n",
              "    </tr>\n",
              "    <tr>\n",
              "      <th>10</th>\n",
              "      <td>Apartamento</td>\n",
              "      <td>Lins de Vasconcelos</td>\n",
              "      <td>3</td>\n",
              "      <td>1</td>\n",
              "      <td>1</td>\n",
              "      <td>90</td>\n",
              "      <td>1500.0</td>\n",
              "      <td>455.0</td>\n",
              "      <td>14.0</td>\n",
              "    </tr>\n",
              "    <tr>\n",
              "      <th>11</th>\n",
              "      <td>Apartamento</td>\n",
              "      <td>Copacabana</td>\n",
              "      <td>1</td>\n",
              "      <td>0</td>\n",
              "      <td>1</td>\n",
              "      <td>40</td>\n",
              "      <td>2000.0</td>\n",
              "      <td>561.0</td>\n",
              "      <td>50.0</td>\n",
              "    </tr>\n",
              "    <tr>\n",
              "      <th>12</th>\n",
              "      <td>Quitinete</td>\n",
              "      <td>Copacabana</td>\n",
              "      <td>1</td>\n",
              "      <td>0</td>\n",
              "      <td>0</td>\n",
              "      <td>27</td>\n",
              "      <td>1800.0</td>\n",
              "      <td>501.0</td>\n",
              "      <td>NaN</td>\n",
              "    </tr>\n",
              "    <tr>\n",
              "      <th>13</th>\n",
              "      <td>Apartamento</td>\n",
              "      <td>Copacabana</td>\n",
              "      <td>4</td>\n",
              "      <td>3</td>\n",
              "      <td>1</td>\n",
              "      <td>243</td>\n",
              "      <td>13000.0</td>\n",
              "      <td>2000.0</td>\n",
              "      <td>803.0</td>\n",
              "    </tr>\n",
              "  </tbody>\n",
              "</table>\n",
              "</div>"
            ],
            "text/plain": [
              "           Tipo               Bairro  Quartos  ...    Valor  Condominio   IPTU\n",
              "0     Quitinete           Copacabana        1  ...   1700.0       500.0   60.0\n",
              "1          Casa      Jardim Botânico        2  ...   7000.0         NaN    NaN\n",
              "2   Apartamento               Centro        1  ...    800.0       390.0   20.0\n",
              "3   Apartamento         Higienópolis        1  ...    800.0       230.0    NaN\n",
              "5   Apartamento             Cachambi        2  ...   1300.0       301.0   17.0\n",
              "9   Apartamento               Grajaú        2  ...   1500.0       642.0   74.0\n",
              "10  Apartamento  Lins de Vasconcelos        3  ...   1500.0       455.0   14.0\n",
              "11  Apartamento           Copacabana        1  ...   2000.0       561.0   50.0\n",
              "12    Quitinete           Copacabana        1  ...   1800.0       501.0    NaN\n",
              "13  Apartamento           Copacabana        4  ...  13000.0      2000.0  803.0\n",
              "\n",
              "[10 rows x 9 columns]"
            ]
          },
          "metadata": {},
          "execution_count": 34
        }
      ]
    },
    {
      "cell_type": "markdown",
      "metadata": {
        "id": "6rWgr_XRtcHE"
      },
      "source": [
        "Verificando quantos dados faltantes restaram na coluna condomínio"
      ]
    },
    {
      "cell_type": "code",
      "metadata": {
        "colab": {
          "base_uri": "https://localhost:8080/"
        },
        "id": "L-vXWvOAsZLP",
        "outputId": "0e065dfb-6280-4494-93b2-f1326f96219e"
      },
      "source": [
        "dados_residencial[dados_residencial['Condominio'].isnull()].shape[0]"
      ],
      "execution_count": 35,
      "outputs": [
        {
          "output_type": "execute_result",
          "data": {
            "text/plain": [
              "973"
            ]
          },
          "metadata": {},
          "execution_count": 35
        }
      ]
    },
    {
      "cell_type": "markdown",
      "metadata": {
        "id": "VAuGgkfyt09v"
      },
      "source": [
        "Verificando quantos dados nulos temos no IPTU"
      ]
    },
    {
      "cell_type": "code",
      "metadata": {
        "colab": {
          "base_uri": "https://localhost:8080/"
        },
        "id": "qERNat-WtnTG",
        "outputId": "3f33d0e3-2c0e-4b2c-bb25-9a69a7e8c1ba"
      },
      "source": [
        "dados_residencial[dados_residencial['IPTU'].isnull()].shape[0]"
      ],
      "execution_count": 36,
      "outputs": [
        {
          "output_type": "execute_result",
          "data": {
            "text/plain": [
              "6061"
            ]
          },
          "metadata": {},
          "execution_count": 36
        }
      ]
    },
    {
      "cell_type": "markdown",
      "metadata": {
        "id": "66CjAOUdt-ji"
      },
      "source": [
        "O tratamento feito para esses dados faltantes agora será de substituir os seus valores nulos por zero. No caso do condomínio, porque os imóveis que permanecem com o valor nulo não tem condomínio a ser pago e, para o IPTU, há uma grande quantidade de dados faltantes, o que indica que esse valor não costuma ser informado e não é interessante perder todos esses dados, por isso, será aplicado esse tratamento."
      ]
    },
    {
      "cell_type": "code",
      "metadata": {
        "colab": {
          "base_uri": "https://localhost:8080/",
          "height": 363
        },
        "id": "TDMq1Q85t71j",
        "outputId": "85d1c449-9852-4944-85c2-ec6f95d0a2b6"
      },
      "source": [
        "# Substituindo os valores nulos por zero\n",
        "dados_residencial = dados_residencial.fillna({'Condominio': 0, 'IPTU': 0})\n",
        "\n",
        "# Visualizando os dados\n",
        "dados_residencial.head(10)"
      ],
      "execution_count": 37,
      "outputs": [
        {
          "output_type": "execute_result",
          "data": {
            "text/html": [
              "<div>\n",
              "<style scoped>\n",
              "    .dataframe tbody tr th:only-of-type {\n",
              "        vertical-align: middle;\n",
              "    }\n",
              "\n",
              "    .dataframe tbody tr th {\n",
              "        vertical-align: top;\n",
              "    }\n",
              "\n",
              "    .dataframe thead th {\n",
              "        text-align: right;\n",
              "    }\n",
              "</style>\n",
              "<table border=\"1\" class=\"dataframe\">\n",
              "  <thead>\n",
              "    <tr style=\"text-align: right;\">\n",
              "      <th></th>\n",
              "      <th>Tipo</th>\n",
              "      <th>Bairro</th>\n",
              "      <th>Quartos</th>\n",
              "      <th>Vagas</th>\n",
              "      <th>Suites</th>\n",
              "      <th>Area</th>\n",
              "      <th>Valor</th>\n",
              "      <th>Condominio</th>\n",
              "      <th>IPTU</th>\n",
              "    </tr>\n",
              "  </thead>\n",
              "  <tbody>\n",
              "    <tr>\n",
              "      <th>0</th>\n",
              "      <td>Quitinete</td>\n",
              "      <td>Copacabana</td>\n",
              "      <td>1</td>\n",
              "      <td>0</td>\n",
              "      <td>0</td>\n",
              "      <td>40</td>\n",
              "      <td>1700.0</td>\n",
              "      <td>500.0</td>\n",
              "      <td>60.0</td>\n",
              "    </tr>\n",
              "    <tr>\n",
              "      <th>1</th>\n",
              "      <td>Casa</td>\n",
              "      <td>Jardim Botânico</td>\n",
              "      <td>2</td>\n",
              "      <td>0</td>\n",
              "      <td>1</td>\n",
              "      <td>100</td>\n",
              "      <td>7000.0</td>\n",
              "      <td>0.0</td>\n",
              "      <td>0.0</td>\n",
              "    </tr>\n",
              "    <tr>\n",
              "      <th>2</th>\n",
              "      <td>Apartamento</td>\n",
              "      <td>Centro</td>\n",
              "      <td>1</td>\n",
              "      <td>0</td>\n",
              "      <td>0</td>\n",
              "      <td>15</td>\n",
              "      <td>800.0</td>\n",
              "      <td>390.0</td>\n",
              "      <td>20.0</td>\n",
              "    </tr>\n",
              "    <tr>\n",
              "      <th>3</th>\n",
              "      <td>Apartamento</td>\n",
              "      <td>Higienópolis</td>\n",
              "      <td>1</td>\n",
              "      <td>0</td>\n",
              "      <td>0</td>\n",
              "      <td>48</td>\n",
              "      <td>800.0</td>\n",
              "      <td>230.0</td>\n",
              "      <td>0.0</td>\n",
              "    </tr>\n",
              "    <tr>\n",
              "      <th>5</th>\n",
              "      <td>Apartamento</td>\n",
              "      <td>Cachambi</td>\n",
              "      <td>2</td>\n",
              "      <td>0</td>\n",
              "      <td>0</td>\n",
              "      <td>50</td>\n",
              "      <td>1300.0</td>\n",
              "      <td>301.0</td>\n",
              "      <td>17.0</td>\n",
              "    </tr>\n",
              "    <tr>\n",
              "      <th>9</th>\n",
              "      <td>Apartamento</td>\n",
              "      <td>Grajaú</td>\n",
              "      <td>2</td>\n",
              "      <td>1</td>\n",
              "      <td>0</td>\n",
              "      <td>70</td>\n",
              "      <td>1500.0</td>\n",
              "      <td>642.0</td>\n",
              "      <td>74.0</td>\n",
              "    </tr>\n",
              "    <tr>\n",
              "      <th>10</th>\n",
              "      <td>Apartamento</td>\n",
              "      <td>Lins de Vasconcelos</td>\n",
              "      <td>3</td>\n",
              "      <td>1</td>\n",
              "      <td>1</td>\n",
              "      <td>90</td>\n",
              "      <td>1500.0</td>\n",
              "      <td>455.0</td>\n",
              "      <td>14.0</td>\n",
              "    </tr>\n",
              "    <tr>\n",
              "      <th>11</th>\n",
              "      <td>Apartamento</td>\n",
              "      <td>Copacabana</td>\n",
              "      <td>1</td>\n",
              "      <td>0</td>\n",
              "      <td>1</td>\n",
              "      <td>40</td>\n",
              "      <td>2000.0</td>\n",
              "      <td>561.0</td>\n",
              "      <td>50.0</td>\n",
              "    </tr>\n",
              "    <tr>\n",
              "      <th>12</th>\n",
              "      <td>Quitinete</td>\n",
              "      <td>Copacabana</td>\n",
              "      <td>1</td>\n",
              "      <td>0</td>\n",
              "      <td>0</td>\n",
              "      <td>27</td>\n",
              "      <td>1800.0</td>\n",
              "      <td>501.0</td>\n",
              "      <td>0.0</td>\n",
              "    </tr>\n",
              "    <tr>\n",
              "      <th>13</th>\n",
              "      <td>Apartamento</td>\n",
              "      <td>Copacabana</td>\n",
              "      <td>4</td>\n",
              "      <td>3</td>\n",
              "      <td>1</td>\n",
              "      <td>243</td>\n",
              "      <td>13000.0</td>\n",
              "      <td>2000.0</td>\n",
              "      <td>803.0</td>\n",
              "    </tr>\n",
              "  </tbody>\n",
              "</table>\n",
              "</div>"
            ],
            "text/plain": [
              "           Tipo               Bairro  Quartos  ...    Valor  Condominio   IPTU\n",
              "0     Quitinete           Copacabana        1  ...   1700.0       500.0   60.0\n",
              "1          Casa      Jardim Botânico        2  ...   7000.0         0.0    0.0\n",
              "2   Apartamento               Centro        1  ...    800.0       390.0   20.0\n",
              "3   Apartamento         Higienópolis        1  ...    800.0       230.0    0.0\n",
              "5   Apartamento             Cachambi        2  ...   1300.0       301.0   17.0\n",
              "9   Apartamento               Grajaú        2  ...   1500.0       642.0   74.0\n",
              "10  Apartamento  Lins de Vasconcelos        3  ...   1500.0       455.0   14.0\n",
              "11  Apartamento           Copacabana        1  ...   2000.0       561.0   50.0\n",
              "12    Quitinete           Copacabana        1  ...   1800.0       501.0    0.0\n",
              "13  Apartamento           Copacabana        4  ...  13000.0      2000.0  803.0\n",
              "\n",
              "[10 rows x 9 columns]"
            ]
          },
          "metadata": {},
          "execution_count": 37
        }
      ]
    },
    {
      "cell_type": "code",
      "metadata": {
        "colab": {
          "base_uri": "https://localhost:8080/"
        },
        "id": "u2Ezj90Vu_cO",
        "outputId": "b2ab0bef-ddf8-4aa1-c39f-cde359580087"
      },
      "source": [
        "# Verificando agora o resumo das informações do DataFrame novamente\n",
        "dados_residencial.info()"
      ],
      "execution_count": 38,
      "outputs": [
        {
          "output_type": "stream",
          "name": "stdout",
          "text": [
            "<class 'pandas.core.frame.DataFrame'>\n",
            "Int64Index: 21731 entries, 0 to 22579\n",
            "Data columns (total 9 columns):\n",
            " #   Column      Non-Null Count  Dtype  \n",
            "---  ------      --------------  -----  \n",
            " 0   Tipo        21731 non-null  object \n",
            " 1   Bairro      21731 non-null  object \n",
            " 2   Quartos     21731 non-null  int64  \n",
            " 3   Vagas       21731 non-null  int64  \n",
            " 4   Suites      21731 non-null  int64  \n",
            " 5   Area        21731 non-null  int64  \n",
            " 6   Valor       21731 non-null  float64\n",
            " 7   Condominio  21731 non-null  float64\n",
            " 8   IPTU        21731 non-null  float64\n",
            "dtypes: float64(3), int64(4), object(2)\n",
            "memory usage: 1.7+ MB\n"
          ]
        }
      ]
    },
    {
      "cell_type": "markdown",
      "metadata": {
        "id": "2gXPr34OvS2h"
      },
      "source": [
        "Agora tem-se a mesma quantidade de entradas e de dados não nulos em todas as colunas"
      ]
    },
    {
      "cell_type": "code",
      "metadata": {
        "id": "lCGCQ4s-vLnw"
      },
      "source": [
        "# Ajustando o index do DataFrame após o tratamento dos dados faltantes\n",
        "dados_residencial.reset_index(inplace=True)"
      ],
      "execution_count": 39,
      "outputs": []
    },
    {
      "cell_type": "code",
      "metadata": {
        "colab": {
          "base_uri": "https://localhost:8080/",
          "height": 206
        },
        "id": "VZOncM6kvt-x",
        "outputId": "3ac52544-7ac9-4842-b464-21d92d4da4c0"
      },
      "source": [
        "dados_residencial = dados_residencial.drop(columns=['index'])\n",
        "dados_residencial.head()"
      ],
      "execution_count": 40,
      "outputs": [
        {
          "output_type": "execute_result",
          "data": {
            "text/html": [
              "<div>\n",
              "<style scoped>\n",
              "    .dataframe tbody tr th:only-of-type {\n",
              "        vertical-align: middle;\n",
              "    }\n",
              "\n",
              "    .dataframe tbody tr th {\n",
              "        vertical-align: top;\n",
              "    }\n",
              "\n",
              "    .dataframe thead th {\n",
              "        text-align: right;\n",
              "    }\n",
              "</style>\n",
              "<table border=\"1\" class=\"dataframe\">\n",
              "  <thead>\n",
              "    <tr style=\"text-align: right;\">\n",
              "      <th></th>\n",
              "      <th>Tipo</th>\n",
              "      <th>Bairro</th>\n",
              "      <th>Quartos</th>\n",
              "      <th>Vagas</th>\n",
              "      <th>Suites</th>\n",
              "      <th>Area</th>\n",
              "      <th>Valor</th>\n",
              "      <th>Condominio</th>\n",
              "      <th>IPTU</th>\n",
              "    </tr>\n",
              "  </thead>\n",
              "  <tbody>\n",
              "    <tr>\n",
              "      <th>0</th>\n",
              "      <td>Quitinete</td>\n",
              "      <td>Copacabana</td>\n",
              "      <td>1</td>\n",
              "      <td>0</td>\n",
              "      <td>0</td>\n",
              "      <td>40</td>\n",
              "      <td>1700.0</td>\n",
              "      <td>500.0</td>\n",
              "      <td>60.0</td>\n",
              "    </tr>\n",
              "    <tr>\n",
              "      <th>1</th>\n",
              "      <td>Casa</td>\n",
              "      <td>Jardim Botânico</td>\n",
              "      <td>2</td>\n",
              "      <td>0</td>\n",
              "      <td>1</td>\n",
              "      <td>100</td>\n",
              "      <td>7000.0</td>\n",
              "      <td>0.0</td>\n",
              "      <td>0.0</td>\n",
              "    </tr>\n",
              "    <tr>\n",
              "      <th>2</th>\n",
              "      <td>Apartamento</td>\n",
              "      <td>Centro</td>\n",
              "      <td>1</td>\n",
              "      <td>0</td>\n",
              "      <td>0</td>\n",
              "      <td>15</td>\n",
              "      <td>800.0</td>\n",
              "      <td>390.0</td>\n",
              "      <td>20.0</td>\n",
              "    </tr>\n",
              "    <tr>\n",
              "      <th>3</th>\n",
              "      <td>Apartamento</td>\n",
              "      <td>Higienópolis</td>\n",
              "      <td>1</td>\n",
              "      <td>0</td>\n",
              "      <td>0</td>\n",
              "      <td>48</td>\n",
              "      <td>800.0</td>\n",
              "      <td>230.0</td>\n",
              "      <td>0.0</td>\n",
              "    </tr>\n",
              "    <tr>\n",
              "      <th>4</th>\n",
              "      <td>Apartamento</td>\n",
              "      <td>Cachambi</td>\n",
              "      <td>2</td>\n",
              "      <td>0</td>\n",
              "      <td>0</td>\n",
              "      <td>50</td>\n",
              "      <td>1300.0</td>\n",
              "      <td>301.0</td>\n",
              "      <td>17.0</td>\n",
              "    </tr>\n",
              "  </tbody>\n",
              "</table>\n",
              "</div>"
            ],
            "text/plain": [
              "          Tipo           Bairro  Quartos  Vagas  ...  Area   Valor  Condominio  IPTU\n",
              "0    Quitinete       Copacabana        1      0  ...    40  1700.0       500.0  60.0\n",
              "1         Casa  Jardim Botânico        2      0  ...   100  7000.0         0.0   0.0\n",
              "2  Apartamento           Centro        1      0  ...    15   800.0       390.0  20.0\n",
              "3  Apartamento     Higienópolis        1      0  ...    48   800.0       230.0   0.0\n",
              "4  Apartamento         Cachambi        2      0  ...    50  1300.0       301.0  17.0\n",
              "\n",
              "[5 rows x 9 columns]"
            ]
          },
          "metadata": {},
          "execution_count": 40
        }
      ]
    },
    {
      "cell_type": "markdown",
      "metadata": {
        "id": "Ipiwq_gkwOBz"
      },
      "source": [
        "#### Criando novas variáveis"
      ]
    },
    {
      "cell_type": "markdown",
      "metadata": {
        "id": "sQMd-h2mwUxA"
      },
      "source": [
        "Vamos criar uma variável para apresenta o valor bruto, que é o total a ser pago por mês, somando o valor do aluguel, condomínio e IPTU"
      ]
    },
    {
      "cell_type": "code",
      "metadata": {
        "colab": {
          "base_uri": "https://localhost:8080/",
          "height": 363
        },
        "id": "2VHsX6fmv-Qr",
        "outputId": "fcae6403-d64d-4394-c372-8dcbc7a77a33"
      },
      "source": [
        "dados_residencial['Valor Bruto'] = dados_residencial['Valor'] + dados_residencial['Condominio'] + dados_residencial['IPTU']\n",
        "\n",
        "dados_residencial.head(10)"
      ],
      "execution_count": 41,
      "outputs": [
        {
          "output_type": "execute_result",
          "data": {
            "text/html": [
              "<div>\n",
              "<style scoped>\n",
              "    .dataframe tbody tr th:only-of-type {\n",
              "        vertical-align: middle;\n",
              "    }\n",
              "\n",
              "    .dataframe tbody tr th {\n",
              "        vertical-align: top;\n",
              "    }\n",
              "\n",
              "    .dataframe thead th {\n",
              "        text-align: right;\n",
              "    }\n",
              "</style>\n",
              "<table border=\"1\" class=\"dataframe\">\n",
              "  <thead>\n",
              "    <tr style=\"text-align: right;\">\n",
              "      <th></th>\n",
              "      <th>Tipo</th>\n",
              "      <th>Bairro</th>\n",
              "      <th>Quartos</th>\n",
              "      <th>Vagas</th>\n",
              "      <th>Suites</th>\n",
              "      <th>Area</th>\n",
              "      <th>Valor</th>\n",
              "      <th>Condominio</th>\n",
              "      <th>IPTU</th>\n",
              "      <th>Valor Bruto</th>\n",
              "    </tr>\n",
              "  </thead>\n",
              "  <tbody>\n",
              "    <tr>\n",
              "      <th>0</th>\n",
              "      <td>Quitinete</td>\n",
              "      <td>Copacabana</td>\n",
              "      <td>1</td>\n",
              "      <td>0</td>\n",
              "      <td>0</td>\n",
              "      <td>40</td>\n",
              "      <td>1700.0</td>\n",
              "      <td>500.0</td>\n",
              "      <td>60.0</td>\n",
              "      <td>2260.0</td>\n",
              "    </tr>\n",
              "    <tr>\n",
              "      <th>1</th>\n",
              "      <td>Casa</td>\n",
              "      <td>Jardim Botânico</td>\n",
              "      <td>2</td>\n",
              "      <td>0</td>\n",
              "      <td>1</td>\n",
              "      <td>100</td>\n",
              "      <td>7000.0</td>\n",
              "      <td>0.0</td>\n",
              "      <td>0.0</td>\n",
              "      <td>7000.0</td>\n",
              "    </tr>\n",
              "    <tr>\n",
              "      <th>2</th>\n",
              "      <td>Apartamento</td>\n",
              "      <td>Centro</td>\n",
              "      <td>1</td>\n",
              "      <td>0</td>\n",
              "      <td>0</td>\n",
              "      <td>15</td>\n",
              "      <td>800.0</td>\n",
              "      <td>390.0</td>\n",
              "      <td>20.0</td>\n",
              "      <td>1210.0</td>\n",
              "    </tr>\n",
              "    <tr>\n",
              "      <th>3</th>\n",
              "      <td>Apartamento</td>\n",
              "      <td>Higienópolis</td>\n",
              "      <td>1</td>\n",
              "      <td>0</td>\n",
              "      <td>0</td>\n",
              "      <td>48</td>\n",
              "      <td>800.0</td>\n",
              "      <td>230.0</td>\n",
              "      <td>0.0</td>\n",
              "      <td>1030.0</td>\n",
              "    </tr>\n",
              "    <tr>\n",
              "      <th>4</th>\n",
              "      <td>Apartamento</td>\n",
              "      <td>Cachambi</td>\n",
              "      <td>2</td>\n",
              "      <td>0</td>\n",
              "      <td>0</td>\n",
              "      <td>50</td>\n",
              "      <td>1300.0</td>\n",
              "      <td>301.0</td>\n",
              "      <td>17.0</td>\n",
              "      <td>1618.0</td>\n",
              "    </tr>\n",
              "    <tr>\n",
              "      <th>5</th>\n",
              "      <td>Apartamento</td>\n",
              "      <td>Grajaú</td>\n",
              "      <td>2</td>\n",
              "      <td>1</td>\n",
              "      <td>0</td>\n",
              "      <td>70</td>\n",
              "      <td>1500.0</td>\n",
              "      <td>642.0</td>\n",
              "      <td>74.0</td>\n",
              "      <td>2216.0</td>\n",
              "    </tr>\n",
              "    <tr>\n",
              "      <th>6</th>\n",
              "      <td>Apartamento</td>\n",
              "      <td>Lins de Vasconcelos</td>\n",
              "      <td>3</td>\n",
              "      <td>1</td>\n",
              "      <td>1</td>\n",
              "      <td>90</td>\n",
              "      <td>1500.0</td>\n",
              "      <td>455.0</td>\n",
              "      <td>14.0</td>\n",
              "      <td>1969.0</td>\n",
              "    </tr>\n",
              "    <tr>\n",
              "      <th>7</th>\n",
              "      <td>Apartamento</td>\n",
              "      <td>Copacabana</td>\n",
              "      <td>1</td>\n",
              "      <td>0</td>\n",
              "      <td>1</td>\n",
              "      <td>40</td>\n",
              "      <td>2000.0</td>\n",
              "      <td>561.0</td>\n",
              "      <td>50.0</td>\n",
              "      <td>2611.0</td>\n",
              "    </tr>\n",
              "    <tr>\n",
              "      <th>8</th>\n",
              "      <td>Quitinete</td>\n",
              "      <td>Copacabana</td>\n",
              "      <td>1</td>\n",
              "      <td>0</td>\n",
              "      <td>0</td>\n",
              "      <td>27</td>\n",
              "      <td>1800.0</td>\n",
              "      <td>501.0</td>\n",
              "      <td>0.0</td>\n",
              "      <td>2301.0</td>\n",
              "    </tr>\n",
              "    <tr>\n",
              "      <th>9</th>\n",
              "      <td>Apartamento</td>\n",
              "      <td>Copacabana</td>\n",
              "      <td>4</td>\n",
              "      <td>3</td>\n",
              "      <td>1</td>\n",
              "      <td>243</td>\n",
              "      <td>13000.0</td>\n",
              "      <td>2000.0</td>\n",
              "      <td>803.0</td>\n",
              "      <td>15803.0</td>\n",
              "    </tr>\n",
              "  </tbody>\n",
              "</table>\n",
              "</div>"
            ],
            "text/plain": [
              "          Tipo               Bairro  Quartos  ...  Condominio   IPTU  Valor Bruto\n",
              "0    Quitinete           Copacabana        1  ...       500.0   60.0       2260.0\n",
              "1         Casa      Jardim Botânico        2  ...         0.0    0.0       7000.0\n",
              "2  Apartamento               Centro        1  ...       390.0   20.0       1210.0\n",
              "3  Apartamento         Higienópolis        1  ...       230.0    0.0       1030.0\n",
              "4  Apartamento             Cachambi        2  ...       301.0   17.0       1618.0\n",
              "5  Apartamento               Grajaú        2  ...       642.0   74.0       2216.0\n",
              "6  Apartamento  Lins de Vasconcelos        3  ...       455.0   14.0       1969.0\n",
              "7  Apartamento           Copacabana        1  ...       561.0   50.0       2611.0\n",
              "8    Quitinete           Copacabana        1  ...       501.0    0.0       2301.0\n",
              "9  Apartamento           Copacabana        4  ...      2000.0  803.0      15803.0\n",
              "\n",
              "[10 rows x 10 columns]"
            ]
          },
          "metadata": {},
          "execution_count": 41
        }
      ]
    },
    {
      "cell_type": "markdown",
      "metadata": {
        "id": "yAF9fAbHwuGQ"
      },
      "source": [
        "Valor do m²"
      ]
    },
    {
      "cell_type": "code",
      "metadata": {
        "colab": {
          "base_uri": "https://localhost:8080/",
          "height": 363
        },
        "id": "VJFn4yr3wqc0",
        "outputId": "0d4a5a7d-545a-4130-d862-1a31a8ef0220"
      },
      "source": [
        "dados_residencial['Valor/m²'] = round((dados_residencial['Valor'] / dados_residencial['Area']), 2)\n",
        "\n",
        "dados_residencial.head(10)"
      ],
      "execution_count": 42,
      "outputs": [
        {
          "output_type": "execute_result",
          "data": {
            "text/html": [
              "<div>\n",
              "<style scoped>\n",
              "    .dataframe tbody tr th:only-of-type {\n",
              "        vertical-align: middle;\n",
              "    }\n",
              "\n",
              "    .dataframe tbody tr th {\n",
              "        vertical-align: top;\n",
              "    }\n",
              "\n",
              "    .dataframe thead th {\n",
              "        text-align: right;\n",
              "    }\n",
              "</style>\n",
              "<table border=\"1\" class=\"dataframe\">\n",
              "  <thead>\n",
              "    <tr style=\"text-align: right;\">\n",
              "      <th></th>\n",
              "      <th>Tipo</th>\n",
              "      <th>Bairro</th>\n",
              "      <th>Quartos</th>\n",
              "      <th>Vagas</th>\n",
              "      <th>Suites</th>\n",
              "      <th>Area</th>\n",
              "      <th>Valor</th>\n",
              "      <th>Condominio</th>\n",
              "      <th>IPTU</th>\n",
              "      <th>Valor Bruto</th>\n",
              "      <th>Valor/m²</th>\n",
              "    </tr>\n",
              "  </thead>\n",
              "  <tbody>\n",
              "    <tr>\n",
              "      <th>0</th>\n",
              "      <td>Quitinete</td>\n",
              "      <td>Copacabana</td>\n",
              "      <td>1</td>\n",
              "      <td>0</td>\n",
              "      <td>0</td>\n",
              "      <td>40</td>\n",
              "      <td>1700.0</td>\n",
              "      <td>500.0</td>\n",
              "      <td>60.0</td>\n",
              "      <td>2260.0</td>\n",
              "      <td>42.50</td>\n",
              "    </tr>\n",
              "    <tr>\n",
              "      <th>1</th>\n",
              "      <td>Casa</td>\n",
              "      <td>Jardim Botânico</td>\n",
              "      <td>2</td>\n",
              "      <td>0</td>\n",
              "      <td>1</td>\n",
              "      <td>100</td>\n",
              "      <td>7000.0</td>\n",
              "      <td>0.0</td>\n",
              "      <td>0.0</td>\n",
              "      <td>7000.0</td>\n",
              "      <td>70.00</td>\n",
              "    </tr>\n",
              "    <tr>\n",
              "      <th>2</th>\n",
              "      <td>Apartamento</td>\n",
              "      <td>Centro</td>\n",
              "      <td>1</td>\n",
              "      <td>0</td>\n",
              "      <td>0</td>\n",
              "      <td>15</td>\n",
              "      <td>800.0</td>\n",
              "      <td>390.0</td>\n",
              "      <td>20.0</td>\n",
              "      <td>1210.0</td>\n",
              "      <td>53.33</td>\n",
              "    </tr>\n",
              "    <tr>\n",
              "      <th>3</th>\n",
              "      <td>Apartamento</td>\n",
              "      <td>Higienópolis</td>\n",
              "      <td>1</td>\n",
              "      <td>0</td>\n",
              "      <td>0</td>\n",
              "      <td>48</td>\n",
              "      <td>800.0</td>\n",
              "      <td>230.0</td>\n",
              "      <td>0.0</td>\n",
              "      <td>1030.0</td>\n",
              "      <td>16.67</td>\n",
              "    </tr>\n",
              "    <tr>\n",
              "      <th>4</th>\n",
              "      <td>Apartamento</td>\n",
              "      <td>Cachambi</td>\n",
              "      <td>2</td>\n",
              "      <td>0</td>\n",
              "      <td>0</td>\n",
              "      <td>50</td>\n",
              "      <td>1300.0</td>\n",
              "      <td>301.0</td>\n",
              "      <td>17.0</td>\n",
              "      <td>1618.0</td>\n",
              "      <td>26.00</td>\n",
              "    </tr>\n",
              "    <tr>\n",
              "      <th>5</th>\n",
              "      <td>Apartamento</td>\n",
              "      <td>Grajaú</td>\n",
              "      <td>2</td>\n",
              "      <td>1</td>\n",
              "      <td>0</td>\n",
              "      <td>70</td>\n",
              "      <td>1500.0</td>\n",
              "      <td>642.0</td>\n",
              "      <td>74.0</td>\n",
              "      <td>2216.0</td>\n",
              "      <td>21.43</td>\n",
              "    </tr>\n",
              "    <tr>\n",
              "      <th>6</th>\n",
              "      <td>Apartamento</td>\n",
              "      <td>Lins de Vasconcelos</td>\n",
              "      <td>3</td>\n",
              "      <td>1</td>\n",
              "      <td>1</td>\n",
              "      <td>90</td>\n",
              "      <td>1500.0</td>\n",
              "      <td>455.0</td>\n",
              "      <td>14.0</td>\n",
              "      <td>1969.0</td>\n",
              "      <td>16.67</td>\n",
              "    </tr>\n",
              "    <tr>\n",
              "      <th>7</th>\n",
              "      <td>Apartamento</td>\n",
              "      <td>Copacabana</td>\n",
              "      <td>1</td>\n",
              "      <td>0</td>\n",
              "      <td>1</td>\n",
              "      <td>40</td>\n",
              "      <td>2000.0</td>\n",
              "      <td>561.0</td>\n",
              "      <td>50.0</td>\n",
              "      <td>2611.0</td>\n",
              "      <td>50.00</td>\n",
              "    </tr>\n",
              "    <tr>\n",
              "      <th>8</th>\n",
              "      <td>Quitinete</td>\n",
              "      <td>Copacabana</td>\n",
              "      <td>1</td>\n",
              "      <td>0</td>\n",
              "      <td>0</td>\n",
              "      <td>27</td>\n",
              "      <td>1800.0</td>\n",
              "      <td>501.0</td>\n",
              "      <td>0.0</td>\n",
              "      <td>2301.0</td>\n",
              "      <td>66.67</td>\n",
              "    </tr>\n",
              "    <tr>\n",
              "      <th>9</th>\n",
              "      <td>Apartamento</td>\n",
              "      <td>Copacabana</td>\n",
              "      <td>4</td>\n",
              "      <td>3</td>\n",
              "      <td>1</td>\n",
              "      <td>243</td>\n",
              "      <td>13000.0</td>\n",
              "      <td>2000.0</td>\n",
              "      <td>803.0</td>\n",
              "      <td>15803.0</td>\n",
              "      <td>53.50</td>\n",
              "    </tr>\n",
              "  </tbody>\n",
              "</table>\n",
              "</div>"
            ],
            "text/plain": [
              "          Tipo               Bairro  Quartos  ...   IPTU  Valor Bruto  Valor/m²\n",
              "0    Quitinete           Copacabana        1  ...   60.0       2260.0     42.50\n",
              "1         Casa      Jardim Botânico        2  ...    0.0       7000.0     70.00\n",
              "2  Apartamento               Centro        1  ...   20.0       1210.0     53.33\n",
              "3  Apartamento         Higienópolis        1  ...    0.0       1030.0     16.67\n",
              "4  Apartamento             Cachambi        2  ...   17.0       1618.0     26.00\n",
              "5  Apartamento               Grajaú        2  ...   74.0       2216.0     21.43\n",
              "6  Apartamento  Lins de Vasconcelos        3  ...   14.0       1969.0     16.67\n",
              "7  Apartamento           Copacabana        1  ...   50.0       2611.0     50.00\n",
              "8    Quitinete           Copacabana        1  ...    0.0       2301.0     66.67\n",
              "9  Apartamento           Copacabana        4  ...  803.0      15803.0     53.50\n",
              "\n",
              "[10 rows x 11 columns]"
            ]
          },
          "metadata": {},
          "execution_count": 42
        }
      ]
    },
    {
      "cell_type": "markdown",
      "metadata": {
        "id": "bKUo2irZxL-n"
      },
      "source": [
        "Valor bruto do m²"
      ]
    },
    {
      "cell_type": "code",
      "metadata": {
        "colab": {
          "base_uri": "https://localhost:8080/",
          "height": 363
        },
        "id": "qjwyRTUSw_9e",
        "outputId": "c3f1d855-0210-4886-fdaf-4b330ac7549a"
      },
      "source": [
        "dados_residencial['Valor Bruto/m²'] = round((dados_residencial['Valor Bruto'] / dados_residencial['Area']), 2)\n",
        "\n",
        "dados_residencial.head(10)"
      ],
      "execution_count": 43,
      "outputs": [
        {
          "output_type": "execute_result",
          "data": {
            "text/html": [
              "<div>\n",
              "<style scoped>\n",
              "    .dataframe tbody tr th:only-of-type {\n",
              "        vertical-align: middle;\n",
              "    }\n",
              "\n",
              "    .dataframe tbody tr th {\n",
              "        vertical-align: top;\n",
              "    }\n",
              "\n",
              "    .dataframe thead th {\n",
              "        text-align: right;\n",
              "    }\n",
              "</style>\n",
              "<table border=\"1\" class=\"dataframe\">\n",
              "  <thead>\n",
              "    <tr style=\"text-align: right;\">\n",
              "      <th></th>\n",
              "      <th>Tipo</th>\n",
              "      <th>Bairro</th>\n",
              "      <th>Quartos</th>\n",
              "      <th>Vagas</th>\n",
              "      <th>Suites</th>\n",
              "      <th>Area</th>\n",
              "      <th>Valor</th>\n",
              "      <th>Condominio</th>\n",
              "      <th>IPTU</th>\n",
              "      <th>Valor Bruto</th>\n",
              "      <th>Valor/m²</th>\n",
              "      <th>Valor Bruto/m²</th>\n",
              "    </tr>\n",
              "  </thead>\n",
              "  <tbody>\n",
              "    <tr>\n",
              "      <th>0</th>\n",
              "      <td>Quitinete</td>\n",
              "      <td>Copacabana</td>\n",
              "      <td>1</td>\n",
              "      <td>0</td>\n",
              "      <td>0</td>\n",
              "      <td>40</td>\n",
              "      <td>1700.0</td>\n",
              "      <td>500.0</td>\n",
              "      <td>60.0</td>\n",
              "      <td>2260.0</td>\n",
              "      <td>42.50</td>\n",
              "      <td>56.50</td>\n",
              "    </tr>\n",
              "    <tr>\n",
              "      <th>1</th>\n",
              "      <td>Casa</td>\n",
              "      <td>Jardim Botânico</td>\n",
              "      <td>2</td>\n",
              "      <td>0</td>\n",
              "      <td>1</td>\n",
              "      <td>100</td>\n",
              "      <td>7000.0</td>\n",
              "      <td>0.0</td>\n",
              "      <td>0.0</td>\n",
              "      <td>7000.0</td>\n",
              "      <td>70.00</td>\n",
              "      <td>70.00</td>\n",
              "    </tr>\n",
              "    <tr>\n",
              "      <th>2</th>\n",
              "      <td>Apartamento</td>\n",
              "      <td>Centro</td>\n",
              "      <td>1</td>\n",
              "      <td>0</td>\n",
              "      <td>0</td>\n",
              "      <td>15</td>\n",
              "      <td>800.0</td>\n",
              "      <td>390.0</td>\n",
              "      <td>20.0</td>\n",
              "      <td>1210.0</td>\n",
              "      <td>53.33</td>\n",
              "      <td>80.67</td>\n",
              "    </tr>\n",
              "    <tr>\n",
              "      <th>3</th>\n",
              "      <td>Apartamento</td>\n",
              "      <td>Higienópolis</td>\n",
              "      <td>1</td>\n",
              "      <td>0</td>\n",
              "      <td>0</td>\n",
              "      <td>48</td>\n",
              "      <td>800.0</td>\n",
              "      <td>230.0</td>\n",
              "      <td>0.0</td>\n",
              "      <td>1030.0</td>\n",
              "      <td>16.67</td>\n",
              "      <td>21.46</td>\n",
              "    </tr>\n",
              "    <tr>\n",
              "      <th>4</th>\n",
              "      <td>Apartamento</td>\n",
              "      <td>Cachambi</td>\n",
              "      <td>2</td>\n",
              "      <td>0</td>\n",
              "      <td>0</td>\n",
              "      <td>50</td>\n",
              "      <td>1300.0</td>\n",
              "      <td>301.0</td>\n",
              "      <td>17.0</td>\n",
              "      <td>1618.0</td>\n",
              "      <td>26.00</td>\n",
              "      <td>32.36</td>\n",
              "    </tr>\n",
              "    <tr>\n",
              "      <th>5</th>\n",
              "      <td>Apartamento</td>\n",
              "      <td>Grajaú</td>\n",
              "      <td>2</td>\n",
              "      <td>1</td>\n",
              "      <td>0</td>\n",
              "      <td>70</td>\n",
              "      <td>1500.0</td>\n",
              "      <td>642.0</td>\n",
              "      <td>74.0</td>\n",
              "      <td>2216.0</td>\n",
              "      <td>21.43</td>\n",
              "      <td>31.66</td>\n",
              "    </tr>\n",
              "    <tr>\n",
              "      <th>6</th>\n",
              "      <td>Apartamento</td>\n",
              "      <td>Lins de Vasconcelos</td>\n",
              "      <td>3</td>\n",
              "      <td>1</td>\n",
              "      <td>1</td>\n",
              "      <td>90</td>\n",
              "      <td>1500.0</td>\n",
              "      <td>455.0</td>\n",
              "      <td>14.0</td>\n",
              "      <td>1969.0</td>\n",
              "      <td>16.67</td>\n",
              "      <td>21.88</td>\n",
              "    </tr>\n",
              "    <tr>\n",
              "      <th>7</th>\n",
              "      <td>Apartamento</td>\n",
              "      <td>Copacabana</td>\n",
              "      <td>1</td>\n",
              "      <td>0</td>\n",
              "      <td>1</td>\n",
              "      <td>40</td>\n",
              "      <td>2000.0</td>\n",
              "      <td>561.0</td>\n",
              "      <td>50.0</td>\n",
              "      <td>2611.0</td>\n",
              "      <td>50.00</td>\n",
              "      <td>65.28</td>\n",
              "    </tr>\n",
              "    <tr>\n",
              "      <th>8</th>\n",
              "      <td>Quitinete</td>\n",
              "      <td>Copacabana</td>\n",
              "      <td>1</td>\n",
              "      <td>0</td>\n",
              "      <td>0</td>\n",
              "      <td>27</td>\n",
              "      <td>1800.0</td>\n",
              "      <td>501.0</td>\n",
              "      <td>0.0</td>\n",
              "      <td>2301.0</td>\n",
              "      <td>66.67</td>\n",
              "      <td>85.22</td>\n",
              "    </tr>\n",
              "    <tr>\n",
              "      <th>9</th>\n",
              "      <td>Apartamento</td>\n",
              "      <td>Copacabana</td>\n",
              "      <td>4</td>\n",
              "      <td>3</td>\n",
              "      <td>1</td>\n",
              "      <td>243</td>\n",
              "      <td>13000.0</td>\n",
              "      <td>2000.0</td>\n",
              "      <td>803.0</td>\n",
              "      <td>15803.0</td>\n",
              "      <td>53.50</td>\n",
              "      <td>65.03</td>\n",
              "    </tr>\n",
              "  </tbody>\n",
              "</table>\n",
              "</div>"
            ],
            "text/plain": [
              "          Tipo               Bairro  ...  Valor/m²  Valor Bruto/m²\n",
              "0    Quitinete           Copacabana  ...     42.50           56.50\n",
              "1         Casa      Jardim Botânico  ...     70.00           70.00\n",
              "2  Apartamento               Centro  ...     53.33           80.67\n",
              "3  Apartamento         Higienópolis  ...     16.67           21.46\n",
              "4  Apartamento             Cachambi  ...     26.00           32.36\n",
              "5  Apartamento               Grajaú  ...     21.43           31.66\n",
              "6  Apartamento  Lins de Vasconcelos  ...     16.67           21.88\n",
              "7  Apartamento           Copacabana  ...     50.00           65.28\n",
              "8    Quitinete           Copacabana  ...     66.67           85.22\n",
              "9  Apartamento           Copacabana  ...     53.50           65.03\n",
              "\n",
              "[10 rows x 12 columns]"
            ]
          },
          "metadata": {},
          "execution_count": 43
        }
      ]
    },
    {
      "cell_type": "markdown",
      "metadata": {
        "id": "SQoCCn06xeOS"
      },
      "source": [
        "Separando os tipos de imóveis em dois grandes grupos Apartamento e Casa e salvando em uma nova variável chamada Tipo Agregado"
      ]
    },
    {
      "cell_type": "code",
      "metadata": {
        "id": "fHnRM58HxYza"
      },
      "source": [
        "# Definindo quais tipos de imóveis farão parte do grande grupo Casa\n",
        "casa = ['Casa', 'Casa de Condomínio', 'Casa de Vila']"
      ],
      "execution_count": 44,
      "outputs": []
    },
    {
      "cell_type": "code",
      "metadata": {
        "id": "X9ffNN_zx3dV"
      },
      "source": [
        "# Fazendo uma iteração para verificar quais imóveis são casa e quais são apartamento e salvar em Tipo Agregado\n",
        "dados_residencial['Tipo Agregado'] = dados_residencial['Tipo'].apply(lambda x: 'Casa' if x in casa else 'Apartamento')"
      ],
      "execution_count": 45,
      "outputs": []
    },
    {
      "cell_type": "code",
      "metadata": {
        "colab": {
          "base_uri": "https://localhost:8080/",
          "height": 363
        },
        "id": "tL4q-CQ9yPhR",
        "outputId": "b36a40b6-68d6-449c-849d-47b5501a754a"
      },
      "source": [
        "dados_residencial.head(10)"
      ],
      "execution_count": 46,
      "outputs": [
        {
          "output_type": "execute_result",
          "data": {
            "text/html": [
              "<div>\n",
              "<style scoped>\n",
              "    .dataframe tbody tr th:only-of-type {\n",
              "        vertical-align: middle;\n",
              "    }\n",
              "\n",
              "    .dataframe tbody tr th {\n",
              "        vertical-align: top;\n",
              "    }\n",
              "\n",
              "    .dataframe thead th {\n",
              "        text-align: right;\n",
              "    }\n",
              "</style>\n",
              "<table border=\"1\" class=\"dataframe\">\n",
              "  <thead>\n",
              "    <tr style=\"text-align: right;\">\n",
              "      <th></th>\n",
              "      <th>Tipo</th>\n",
              "      <th>Bairro</th>\n",
              "      <th>Quartos</th>\n",
              "      <th>Vagas</th>\n",
              "      <th>Suites</th>\n",
              "      <th>Area</th>\n",
              "      <th>Valor</th>\n",
              "      <th>Condominio</th>\n",
              "      <th>IPTU</th>\n",
              "      <th>Valor Bruto</th>\n",
              "      <th>Valor/m²</th>\n",
              "      <th>Valor Bruto/m²</th>\n",
              "      <th>Tipo Agregado</th>\n",
              "    </tr>\n",
              "  </thead>\n",
              "  <tbody>\n",
              "    <tr>\n",
              "      <th>0</th>\n",
              "      <td>Quitinete</td>\n",
              "      <td>Copacabana</td>\n",
              "      <td>1</td>\n",
              "      <td>0</td>\n",
              "      <td>0</td>\n",
              "      <td>40</td>\n",
              "      <td>1700.0</td>\n",
              "      <td>500.0</td>\n",
              "      <td>60.0</td>\n",
              "      <td>2260.0</td>\n",
              "      <td>42.50</td>\n",
              "      <td>56.50</td>\n",
              "      <td>Apartamento</td>\n",
              "    </tr>\n",
              "    <tr>\n",
              "      <th>1</th>\n",
              "      <td>Casa</td>\n",
              "      <td>Jardim Botânico</td>\n",
              "      <td>2</td>\n",
              "      <td>0</td>\n",
              "      <td>1</td>\n",
              "      <td>100</td>\n",
              "      <td>7000.0</td>\n",
              "      <td>0.0</td>\n",
              "      <td>0.0</td>\n",
              "      <td>7000.0</td>\n",
              "      <td>70.00</td>\n",
              "      <td>70.00</td>\n",
              "      <td>Casa</td>\n",
              "    </tr>\n",
              "    <tr>\n",
              "      <th>2</th>\n",
              "      <td>Apartamento</td>\n",
              "      <td>Centro</td>\n",
              "      <td>1</td>\n",
              "      <td>0</td>\n",
              "      <td>0</td>\n",
              "      <td>15</td>\n",
              "      <td>800.0</td>\n",
              "      <td>390.0</td>\n",
              "      <td>20.0</td>\n",
              "      <td>1210.0</td>\n",
              "      <td>53.33</td>\n",
              "      <td>80.67</td>\n",
              "      <td>Apartamento</td>\n",
              "    </tr>\n",
              "    <tr>\n",
              "      <th>3</th>\n",
              "      <td>Apartamento</td>\n",
              "      <td>Higienópolis</td>\n",
              "      <td>1</td>\n",
              "      <td>0</td>\n",
              "      <td>0</td>\n",
              "      <td>48</td>\n",
              "      <td>800.0</td>\n",
              "      <td>230.0</td>\n",
              "      <td>0.0</td>\n",
              "      <td>1030.0</td>\n",
              "      <td>16.67</td>\n",
              "      <td>21.46</td>\n",
              "      <td>Apartamento</td>\n",
              "    </tr>\n",
              "    <tr>\n",
              "      <th>4</th>\n",
              "      <td>Apartamento</td>\n",
              "      <td>Cachambi</td>\n",
              "      <td>2</td>\n",
              "      <td>0</td>\n",
              "      <td>0</td>\n",
              "      <td>50</td>\n",
              "      <td>1300.0</td>\n",
              "      <td>301.0</td>\n",
              "      <td>17.0</td>\n",
              "      <td>1618.0</td>\n",
              "      <td>26.00</td>\n",
              "      <td>32.36</td>\n",
              "      <td>Apartamento</td>\n",
              "    </tr>\n",
              "    <tr>\n",
              "      <th>5</th>\n",
              "      <td>Apartamento</td>\n",
              "      <td>Grajaú</td>\n",
              "      <td>2</td>\n",
              "      <td>1</td>\n",
              "      <td>0</td>\n",
              "      <td>70</td>\n",
              "      <td>1500.0</td>\n",
              "      <td>642.0</td>\n",
              "      <td>74.0</td>\n",
              "      <td>2216.0</td>\n",
              "      <td>21.43</td>\n",
              "      <td>31.66</td>\n",
              "      <td>Apartamento</td>\n",
              "    </tr>\n",
              "    <tr>\n",
              "      <th>6</th>\n",
              "      <td>Apartamento</td>\n",
              "      <td>Lins de Vasconcelos</td>\n",
              "      <td>3</td>\n",
              "      <td>1</td>\n",
              "      <td>1</td>\n",
              "      <td>90</td>\n",
              "      <td>1500.0</td>\n",
              "      <td>455.0</td>\n",
              "      <td>14.0</td>\n",
              "      <td>1969.0</td>\n",
              "      <td>16.67</td>\n",
              "      <td>21.88</td>\n",
              "      <td>Apartamento</td>\n",
              "    </tr>\n",
              "    <tr>\n",
              "      <th>7</th>\n",
              "      <td>Apartamento</td>\n",
              "      <td>Copacabana</td>\n",
              "      <td>1</td>\n",
              "      <td>0</td>\n",
              "      <td>1</td>\n",
              "      <td>40</td>\n",
              "      <td>2000.0</td>\n",
              "      <td>561.0</td>\n",
              "      <td>50.0</td>\n",
              "      <td>2611.0</td>\n",
              "      <td>50.00</td>\n",
              "      <td>65.28</td>\n",
              "      <td>Apartamento</td>\n",
              "    </tr>\n",
              "    <tr>\n",
              "      <th>8</th>\n",
              "      <td>Quitinete</td>\n",
              "      <td>Copacabana</td>\n",
              "      <td>1</td>\n",
              "      <td>0</td>\n",
              "      <td>0</td>\n",
              "      <td>27</td>\n",
              "      <td>1800.0</td>\n",
              "      <td>501.0</td>\n",
              "      <td>0.0</td>\n",
              "      <td>2301.0</td>\n",
              "      <td>66.67</td>\n",
              "      <td>85.22</td>\n",
              "      <td>Apartamento</td>\n",
              "    </tr>\n",
              "    <tr>\n",
              "      <th>9</th>\n",
              "      <td>Apartamento</td>\n",
              "      <td>Copacabana</td>\n",
              "      <td>4</td>\n",
              "      <td>3</td>\n",
              "      <td>1</td>\n",
              "      <td>243</td>\n",
              "      <td>13000.0</td>\n",
              "      <td>2000.0</td>\n",
              "      <td>803.0</td>\n",
              "      <td>15803.0</td>\n",
              "      <td>53.50</td>\n",
              "      <td>65.03</td>\n",
              "      <td>Apartamento</td>\n",
              "    </tr>\n",
              "  </tbody>\n",
              "</table>\n",
              "</div>"
            ],
            "text/plain": [
              "          Tipo               Bairro  ...  Valor Bruto/m²  Tipo Agregado\n",
              "0    Quitinete           Copacabana  ...           56.50    Apartamento\n",
              "1         Casa      Jardim Botânico  ...           70.00           Casa\n",
              "2  Apartamento               Centro  ...           80.67    Apartamento\n",
              "3  Apartamento         Higienópolis  ...           21.46    Apartamento\n",
              "4  Apartamento             Cachambi  ...           32.36    Apartamento\n",
              "5  Apartamento               Grajaú  ...           31.66    Apartamento\n",
              "6  Apartamento  Lins de Vasconcelos  ...           21.88    Apartamento\n",
              "7  Apartamento           Copacabana  ...           65.28    Apartamento\n",
              "8    Quitinete           Copacabana  ...           85.22    Apartamento\n",
              "9  Apartamento           Copacabana  ...           65.03    Apartamento\n",
              "\n",
              "[10 rows x 13 columns]"
            ]
          },
          "metadata": {},
          "execution_count": 46
        }
      ]
    },
    {
      "cell_type": "markdown",
      "metadata": {
        "id": "BE6imlxnyoQ2"
      },
      "source": [
        "#### Excluindo variáveis"
      ]
    },
    {
      "cell_type": "code",
      "metadata": {
        "colab": {
          "base_uri": "https://localhost:8080/",
          "height": 363
        },
        "id": "cw0vk31FyRUC",
        "outputId": "dad9e1c6-cde5-4839-e194-ec296500b83d"
      },
      "source": [
        "# Salvando as variáveis novas em um novo DataFrame\n",
        "dados_aux = pd.DataFrame(dados_residencial[['Tipo Agregado', 'Valor/m²', 'Valor Bruto', 'Valor Bruto/m²']])\n",
        "\n",
        "# Visualizando \n",
        "dados_aux.head(10)"
      ],
      "execution_count": 47,
      "outputs": [
        {
          "output_type": "execute_result",
          "data": {
            "text/html": [
              "<div>\n",
              "<style scoped>\n",
              "    .dataframe tbody tr th:only-of-type {\n",
              "        vertical-align: middle;\n",
              "    }\n",
              "\n",
              "    .dataframe tbody tr th {\n",
              "        vertical-align: top;\n",
              "    }\n",
              "\n",
              "    .dataframe thead th {\n",
              "        text-align: right;\n",
              "    }\n",
              "</style>\n",
              "<table border=\"1\" class=\"dataframe\">\n",
              "  <thead>\n",
              "    <tr style=\"text-align: right;\">\n",
              "      <th></th>\n",
              "      <th>Tipo Agregado</th>\n",
              "      <th>Valor/m²</th>\n",
              "      <th>Valor Bruto</th>\n",
              "      <th>Valor Bruto/m²</th>\n",
              "    </tr>\n",
              "  </thead>\n",
              "  <tbody>\n",
              "    <tr>\n",
              "      <th>0</th>\n",
              "      <td>Apartamento</td>\n",
              "      <td>42.50</td>\n",
              "      <td>2260.0</td>\n",
              "      <td>56.50</td>\n",
              "    </tr>\n",
              "    <tr>\n",
              "      <th>1</th>\n",
              "      <td>Casa</td>\n",
              "      <td>70.00</td>\n",
              "      <td>7000.0</td>\n",
              "      <td>70.00</td>\n",
              "    </tr>\n",
              "    <tr>\n",
              "      <th>2</th>\n",
              "      <td>Apartamento</td>\n",
              "      <td>53.33</td>\n",
              "      <td>1210.0</td>\n",
              "      <td>80.67</td>\n",
              "    </tr>\n",
              "    <tr>\n",
              "      <th>3</th>\n",
              "      <td>Apartamento</td>\n",
              "      <td>16.67</td>\n",
              "      <td>1030.0</td>\n",
              "      <td>21.46</td>\n",
              "    </tr>\n",
              "    <tr>\n",
              "      <th>4</th>\n",
              "      <td>Apartamento</td>\n",
              "      <td>26.00</td>\n",
              "      <td>1618.0</td>\n",
              "      <td>32.36</td>\n",
              "    </tr>\n",
              "    <tr>\n",
              "      <th>5</th>\n",
              "      <td>Apartamento</td>\n",
              "      <td>21.43</td>\n",
              "      <td>2216.0</td>\n",
              "      <td>31.66</td>\n",
              "    </tr>\n",
              "    <tr>\n",
              "      <th>6</th>\n",
              "      <td>Apartamento</td>\n",
              "      <td>16.67</td>\n",
              "      <td>1969.0</td>\n",
              "      <td>21.88</td>\n",
              "    </tr>\n",
              "    <tr>\n",
              "      <th>7</th>\n",
              "      <td>Apartamento</td>\n",
              "      <td>50.00</td>\n",
              "      <td>2611.0</td>\n",
              "      <td>65.28</td>\n",
              "    </tr>\n",
              "    <tr>\n",
              "      <th>8</th>\n",
              "      <td>Apartamento</td>\n",
              "      <td>66.67</td>\n",
              "      <td>2301.0</td>\n",
              "      <td>85.22</td>\n",
              "    </tr>\n",
              "    <tr>\n",
              "      <th>9</th>\n",
              "      <td>Apartamento</td>\n",
              "      <td>53.50</td>\n",
              "      <td>15803.0</td>\n",
              "      <td>65.03</td>\n",
              "    </tr>\n",
              "  </tbody>\n",
              "</table>\n",
              "</div>"
            ],
            "text/plain": [
              "  Tipo Agregado  Valor/m²  Valor Bruto  Valor Bruto/m²\n",
              "0   Apartamento     42.50       2260.0           56.50\n",
              "1          Casa     70.00       7000.0           70.00\n",
              "2   Apartamento     53.33       1210.0           80.67\n",
              "3   Apartamento     16.67       1030.0           21.46\n",
              "4   Apartamento     26.00       1618.0           32.36\n",
              "5   Apartamento     21.43       2216.0           31.66\n",
              "6   Apartamento     16.67       1969.0           21.88\n",
              "7   Apartamento     50.00       2611.0           65.28\n",
              "8   Apartamento     66.67       2301.0           85.22\n",
              "9   Apartamento     53.50      15803.0           65.03"
            ]
          },
          "metadata": {},
          "execution_count": 47
        }
      ]
    },
    {
      "cell_type": "code",
      "metadata": {
        "id": "mSEU8kZxzDZB"
      },
      "source": [
        "# Deletando a variável Valor Bruto\n",
        "del dados_aux['Valor Bruto']"
      ],
      "execution_count": 48,
      "outputs": []
    },
    {
      "cell_type": "code",
      "metadata": {
        "colab": {
          "base_uri": "https://localhost:8080/",
          "height": 363
        },
        "id": "jt6hIRqkzNEt",
        "outputId": "2c1ecb9f-a964-4455-de02-2a7a4a8e3ee7"
      },
      "source": [
        "dados_aux.head(10)"
      ],
      "execution_count": 49,
      "outputs": [
        {
          "output_type": "execute_result",
          "data": {
            "text/html": [
              "<div>\n",
              "<style scoped>\n",
              "    .dataframe tbody tr th:only-of-type {\n",
              "        vertical-align: middle;\n",
              "    }\n",
              "\n",
              "    .dataframe tbody tr th {\n",
              "        vertical-align: top;\n",
              "    }\n",
              "\n",
              "    .dataframe thead th {\n",
              "        text-align: right;\n",
              "    }\n",
              "</style>\n",
              "<table border=\"1\" class=\"dataframe\">\n",
              "  <thead>\n",
              "    <tr style=\"text-align: right;\">\n",
              "      <th></th>\n",
              "      <th>Tipo Agregado</th>\n",
              "      <th>Valor/m²</th>\n",
              "      <th>Valor Bruto/m²</th>\n",
              "    </tr>\n",
              "  </thead>\n",
              "  <tbody>\n",
              "    <tr>\n",
              "      <th>0</th>\n",
              "      <td>Apartamento</td>\n",
              "      <td>42.50</td>\n",
              "      <td>56.50</td>\n",
              "    </tr>\n",
              "    <tr>\n",
              "      <th>1</th>\n",
              "      <td>Casa</td>\n",
              "      <td>70.00</td>\n",
              "      <td>70.00</td>\n",
              "    </tr>\n",
              "    <tr>\n",
              "      <th>2</th>\n",
              "      <td>Apartamento</td>\n",
              "      <td>53.33</td>\n",
              "      <td>80.67</td>\n",
              "    </tr>\n",
              "    <tr>\n",
              "      <th>3</th>\n",
              "      <td>Apartamento</td>\n",
              "      <td>16.67</td>\n",
              "      <td>21.46</td>\n",
              "    </tr>\n",
              "    <tr>\n",
              "      <th>4</th>\n",
              "      <td>Apartamento</td>\n",
              "      <td>26.00</td>\n",
              "      <td>32.36</td>\n",
              "    </tr>\n",
              "    <tr>\n",
              "      <th>5</th>\n",
              "      <td>Apartamento</td>\n",
              "      <td>21.43</td>\n",
              "      <td>31.66</td>\n",
              "    </tr>\n",
              "    <tr>\n",
              "      <th>6</th>\n",
              "      <td>Apartamento</td>\n",
              "      <td>16.67</td>\n",
              "      <td>21.88</td>\n",
              "    </tr>\n",
              "    <tr>\n",
              "      <th>7</th>\n",
              "      <td>Apartamento</td>\n",
              "      <td>50.00</td>\n",
              "      <td>65.28</td>\n",
              "    </tr>\n",
              "    <tr>\n",
              "      <th>8</th>\n",
              "      <td>Apartamento</td>\n",
              "      <td>66.67</td>\n",
              "      <td>85.22</td>\n",
              "    </tr>\n",
              "    <tr>\n",
              "      <th>9</th>\n",
              "      <td>Apartamento</td>\n",
              "      <td>53.50</td>\n",
              "      <td>65.03</td>\n",
              "    </tr>\n",
              "  </tbody>\n",
              "</table>\n",
              "</div>"
            ],
            "text/plain": [
              "  Tipo Agregado  Valor/m²  Valor Bruto/m²\n",
              "0   Apartamento     42.50           56.50\n",
              "1          Casa     70.00           70.00\n",
              "2   Apartamento     53.33           80.67\n",
              "3   Apartamento     16.67           21.46\n",
              "4   Apartamento     26.00           32.36\n",
              "5   Apartamento     21.43           31.66\n",
              "6   Apartamento     16.67           21.88\n",
              "7   Apartamento     50.00           65.28\n",
              "8   Apartamento     66.67           85.22\n",
              "9   Apartamento     53.50           65.03"
            ]
          },
          "metadata": {},
          "execution_count": 49
        }
      ]
    },
    {
      "cell_type": "code",
      "metadata": {
        "colab": {
          "base_uri": "https://localhost:8080/"
        },
        "id": "h21rxPAvzPPi",
        "outputId": "8d30abec-5108-4315-a299-07cb00c78ed8"
      },
      "source": [
        "# Deletando a variável Valor Bruto/m²\n",
        "dados_aux.pop('Valor Bruto/m²')"
      ],
      "execution_count": 50,
      "outputs": [
        {
          "output_type": "execute_result",
          "data": {
            "text/plain": [
              "0        56.50\n",
              "1        70.00\n",
              "2        80.67\n",
              "3        21.46\n",
              "4        32.36\n",
              "         ...  \n",
              "21726    20.54\n",
              "21727    43.52\n",
              "21728    33.85\n",
              "21729    40.54\n",
              "21730    53.71\n",
              "Name: Valor Bruto/m², Length: 21731, dtype: float64"
            ]
          },
          "metadata": {},
          "execution_count": 50
        }
      ]
    },
    {
      "cell_type": "code",
      "metadata": {
        "colab": {
          "base_uri": "https://localhost:8080/",
          "height": 363
        },
        "id": "L1lXA8IczaBo",
        "outputId": "99f615b3-1772-4a7f-cfe2-c87de72e951b"
      },
      "source": [
        "dados_aux.head(10)"
      ],
      "execution_count": 51,
      "outputs": [
        {
          "output_type": "execute_result",
          "data": {
            "text/html": [
              "<div>\n",
              "<style scoped>\n",
              "    .dataframe tbody tr th:only-of-type {\n",
              "        vertical-align: middle;\n",
              "    }\n",
              "\n",
              "    .dataframe tbody tr th {\n",
              "        vertical-align: top;\n",
              "    }\n",
              "\n",
              "    .dataframe thead th {\n",
              "        text-align: right;\n",
              "    }\n",
              "</style>\n",
              "<table border=\"1\" class=\"dataframe\">\n",
              "  <thead>\n",
              "    <tr style=\"text-align: right;\">\n",
              "      <th></th>\n",
              "      <th>Tipo Agregado</th>\n",
              "      <th>Valor/m²</th>\n",
              "    </tr>\n",
              "  </thead>\n",
              "  <tbody>\n",
              "    <tr>\n",
              "      <th>0</th>\n",
              "      <td>Apartamento</td>\n",
              "      <td>42.50</td>\n",
              "    </tr>\n",
              "    <tr>\n",
              "      <th>1</th>\n",
              "      <td>Casa</td>\n",
              "      <td>70.00</td>\n",
              "    </tr>\n",
              "    <tr>\n",
              "      <th>2</th>\n",
              "      <td>Apartamento</td>\n",
              "      <td>53.33</td>\n",
              "    </tr>\n",
              "    <tr>\n",
              "      <th>3</th>\n",
              "      <td>Apartamento</td>\n",
              "      <td>16.67</td>\n",
              "    </tr>\n",
              "    <tr>\n",
              "      <th>4</th>\n",
              "      <td>Apartamento</td>\n",
              "      <td>26.00</td>\n",
              "    </tr>\n",
              "    <tr>\n",
              "      <th>5</th>\n",
              "      <td>Apartamento</td>\n",
              "      <td>21.43</td>\n",
              "    </tr>\n",
              "    <tr>\n",
              "      <th>6</th>\n",
              "      <td>Apartamento</td>\n",
              "      <td>16.67</td>\n",
              "    </tr>\n",
              "    <tr>\n",
              "      <th>7</th>\n",
              "      <td>Apartamento</td>\n",
              "      <td>50.00</td>\n",
              "    </tr>\n",
              "    <tr>\n",
              "      <th>8</th>\n",
              "      <td>Apartamento</td>\n",
              "      <td>66.67</td>\n",
              "    </tr>\n",
              "    <tr>\n",
              "      <th>9</th>\n",
              "      <td>Apartamento</td>\n",
              "      <td>53.50</td>\n",
              "    </tr>\n",
              "  </tbody>\n",
              "</table>\n",
              "</div>"
            ],
            "text/plain": [
              "  Tipo Agregado  Valor/m²\n",
              "0   Apartamento     42.50\n",
              "1          Casa     70.00\n",
              "2   Apartamento     53.33\n",
              "3   Apartamento     16.67\n",
              "4   Apartamento     26.00\n",
              "5   Apartamento     21.43\n",
              "6   Apartamento     16.67\n",
              "7   Apartamento     50.00\n",
              "8   Apartamento     66.67\n",
              "9   Apartamento     53.50"
            ]
          },
          "metadata": {},
          "execution_count": 51
        }
      ]
    },
    {
      "cell_type": "code",
      "metadata": {
        "id": "_fLFjnWUzdSY"
      },
      "source": [
        "# Removendo esses dados do DataFrame original\n",
        "dados_residencial.drop(['Valor Bruto', 'Valor Bruto/m²'], axis=1, inplace=True)"
      ],
      "execution_count": 52,
      "outputs": []
    },
    {
      "cell_type": "code",
      "metadata": {
        "colab": {
          "base_uri": "https://localhost:8080/",
          "height": 424
        },
        "id": "DiqhjNp7zzjR",
        "outputId": "a0e329b4-7444-42fb-e40c-00cb0fe5db50"
      },
      "source": [
        "dados_residencial"
      ],
      "execution_count": 53,
      "outputs": [
        {
          "output_type": "execute_result",
          "data": {
            "text/html": [
              "<div>\n",
              "<style scoped>\n",
              "    .dataframe tbody tr th:only-of-type {\n",
              "        vertical-align: middle;\n",
              "    }\n",
              "\n",
              "    .dataframe tbody tr th {\n",
              "        vertical-align: top;\n",
              "    }\n",
              "\n",
              "    .dataframe thead th {\n",
              "        text-align: right;\n",
              "    }\n",
              "</style>\n",
              "<table border=\"1\" class=\"dataframe\">\n",
              "  <thead>\n",
              "    <tr style=\"text-align: right;\">\n",
              "      <th></th>\n",
              "      <th>Tipo</th>\n",
              "      <th>Bairro</th>\n",
              "      <th>Quartos</th>\n",
              "      <th>Vagas</th>\n",
              "      <th>Suites</th>\n",
              "      <th>Area</th>\n",
              "      <th>Valor</th>\n",
              "      <th>Condominio</th>\n",
              "      <th>IPTU</th>\n",
              "      <th>Valor/m²</th>\n",
              "      <th>Tipo Agregado</th>\n",
              "    </tr>\n",
              "  </thead>\n",
              "  <tbody>\n",
              "    <tr>\n",
              "      <th>0</th>\n",
              "      <td>Quitinete</td>\n",
              "      <td>Copacabana</td>\n",
              "      <td>1</td>\n",
              "      <td>0</td>\n",
              "      <td>0</td>\n",
              "      <td>40</td>\n",
              "      <td>1700.0</td>\n",
              "      <td>500.0</td>\n",
              "      <td>60.0</td>\n",
              "      <td>42.50</td>\n",
              "      <td>Apartamento</td>\n",
              "    </tr>\n",
              "    <tr>\n",
              "      <th>1</th>\n",
              "      <td>Casa</td>\n",
              "      <td>Jardim Botânico</td>\n",
              "      <td>2</td>\n",
              "      <td>0</td>\n",
              "      <td>1</td>\n",
              "      <td>100</td>\n",
              "      <td>7000.0</td>\n",
              "      <td>0.0</td>\n",
              "      <td>0.0</td>\n",
              "      <td>70.00</td>\n",
              "      <td>Casa</td>\n",
              "    </tr>\n",
              "    <tr>\n",
              "      <th>2</th>\n",
              "      <td>Apartamento</td>\n",
              "      <td>Centro</td>\n",
              "      <td>1</td>\n",
              "      <td>0</td>\n",
              "      <td>0</td>\n",
              "      <td>15</td>\n",
              "      <td>800.0</td>\n",
              "      <td>390.0</td>\n",
              "      <td>20.0</td>\n",
              "      <td>53.33</td>\n",
              "      <td>Apartamento</td>\n",
              "    </tr>\n",
              "    <tr>\n",
              "      <th>3</th>\n",
              "      <td>Apartamento</td>\n",
              "      <td>Higienópolis</td>\n",
              "      <td>1</td>\n",
              "      <td>0</td>\n",
              "      <td>0</td>\n",
              "      <td>48</td>\n",
              "      <td>800.0</td>\n",
              "      <td>230.0</td>\n",
              "      <td>0.0</td>\n",
              "      <td>16.67</td>\n",
              "      <td>Apartamento</td>\n",
              "    </tr>\n",
              "    <tr>\n",
              "      <th>4</th>\n",
              "      <td>Apartamento</td>\n",
              "      <td>Cachambi</td>\n",
              "      <td>2</td>\n",
              "      <td>0</td>\n",
              "      <td>0</td>\n",
              "      <td>50</td>\n",
              "      <td>1300.0</td>\n",
              "      <td>301.0</td>\n",
              "      <td>17.0</td>\n",
              "      <td>26.00</td>\n",
              "      <td>Apartamento</td>\n",
              "    </tr>\n",
              "    <tr>\n",
              "      <th>...</th>\n",
              "      <td>...</td>\n",
              "      <td>...</td>\n",
              "      <td>...</td>\n",
              "      <td>...</td>\n",
              "      <td>...</td>\n",
              "      <td>...</td>\n",
              "      <td>...</td>\n",
              "      <td>...</td>\n",
              "      <td>...</td>\n",
              "      <td>...</td>\n",
              "      <td>...</td>\n",
              "    </tr>\n",
              "    <tr>\n",
              "      <th>21726</th>\n",
              "      <td>Apartamento</td>\n",
              "      <td>Méier</td>\n",
              "      <td>2</td>\n",
              "      <td>0</td>\n",
              "      <td>0</td>\n",
              "      <td>70</td>\n",
              "      <td>900.0</td>\n",
              "      <td>490.0</td>\n",
              "      <td>48.0</td>\n",
              "      <td>12.86</td>\n",
              "      <td>Apartamento</td>\n",
              "    </tr>\n",
              "    <tr>\n",
              "      <th>21727</th>\n",
              "      <td>Quitinete</td>\n",
              "      <td>Centro</td>\n",
              "      <td>0</td>\n",
              "      <td>0</td>\n",
              "      <td>0</td>\n",
              "      <td>27</td>\n",
              "      <td>800.0</td>\n",
              "      <td>350.0</td>\n",
              "      <td>25.0</td>\n",
              "      <td>29.63</td>\n",
              "      <td>Apartamento</td>\n",
              "    </tr>\n",
              "    <tr>\n",
              "      <th>21728</th>\n",
              "      <td>Apartamento</td>\n",
              "      <td>Jacarepaguá</td>\n",
              "      <td>3</td>\n",
              "      <td>1</td>\n",
              "      <td>2</td>\n",
              "      <td>78</td>\n",
              "      <td>1800.0</td>\n",
              "      <td>800.0</td>\n",
              "      <td>40.0</td>\n",
              "      <td>23.08</td>\n",
              "      <td>Apartamento</td>\n",
              "    </tr>\n",
              "    <tr>\n",
              "      <th>21729</th>\n",
              "      <td>Apartamento</td>\n",
              "      <td>São Francisco Xavier</td>\n",
              "      <td>2</td>\n",
              "      <td>1</td>\n",
              "      <td>0</td>\n",
              "      <td>48</td>\n",
              "      <td>1400.0</td>\n",
              "      <td>509.0</td>\n",
              "      <td>37.0</td>\n",
              "      <td>29.17</td>\n",
              "      <td>Apartamento</td>\n",
              "    </tr>\n",
              "    <tr>\n",
              "      <th>21730</th>\n",
              "      <td>Apartamento</td>\n",
              "      <td>Leblon</td>\n",
              "      <td>2</td>\n",
              "      <td>0</td>\n",
              "      <td>0</td>\n",
              "      <td>70</td>\n",
              "      <td>3000.0</td>\n",
              "      <td>760.0</td>\n",
              "      <td>0.0</td>\n",
              "      <td>42.86</td>\n",
              "      <td>Apartamento</td>\n",
              "    </tr>\n",
              "  </tbody>\n",
              "</table>\n",
              "<p>21731 rows × 11 columns</p>\n",
              "</div>"
            ],
            "text/plain": [
              "              Tipo                Bairro  Quartos  ...  IPTU  Valor/m²  Tipo Agregado\n",
              "0        Quitinete            Copacabana        1  ...  60.0     42.50    Apartamento\n",
              "1             Casa       Jardim Botânico        2  ...   0.0     70.00           Casa\n",
              "2      Apartamento                Centro        1  ...  20.0     53.33    Apartamento\n",
              "3      Apartamento          Higienópolis        1  ...   0.0     16.67    Apartamento\n",
              "4      Apartamento              Cachambi        2  ...  17.0     26.00    Apartamento\n",
              "...            ...                   ...      ...  ...   ...       ...            ...\n",
              "21726  Apartamento                 Méier        2  ...  48.0     12.86    Apartamento\n",
              "21727    Quitinete                Centro        0  ...  25.0     29.63    Apartamento\n",
              "21728  Apartamento           Jacarepaguá        3  ...  40.0     23.08    Apartamento\n",
              "21729  Apartamento  São Francisco Xavier        2  ...  37.0     29.17    Apartamento\n",
              "21730  Apartamento                Leblon        2  ...   0.0     42.86    Apartamento\n",
              "\n",
              "[21731 rows x 11 columns]"
            ]
          },
          "metadata": {},
          "execution_count": 53
        }
      ]
    },
    {
      "cell_type": "markdown",
      "metadata": {
        "id": "AqRUIznE0HYQ"
      },
      "source": [
        "#### Criando agrupamentos"
      ]
    },
    {
      "cell_type": "markdown",
      "metadata": {
        "id": "oRx-0HqA0NLw"
      },
      "source": [
        "Cálculo da média dos valores de aluguel"
      ]
    },
    {
      "cell_type": "code",
      "metadata": {
        "colab": {
          "base_uri": "https://localhost:8080/"
        },
        "id": "0UBjhpMgz0ji",
        "outputId": "eb881d80-b638-4a90-bea3-a566f548564e"
      },
      "source": [
        "dados['Valor'].mean()"
      ],
      "execution_count": 54,
      "outputs": [
        {
          "output_type": "execute_result",
          "data": {
            "text/plain": [
              "12952.659715265761"
            ]
          },
          "metadata": {},
          "execution_count": 54
        }
      ]
    },
    {
      "cell_type": "markdown",
      "metadata": {
        "id": "inLISFPO0ZpI"
      },
      "source": [
        "Agrupando os dados por bairro"
      ]
    },
    {
      "cell_type": "code",
      "metadata": {
        "id": "8WTb7wvc0SIm"
      },
      "source": [
        "# Método groupby\n",
        "grupo_bairros = dados_residencial.groupby('Bairro')"
      ],
      "execution_count": 55,
      "outputs": []
    },
    {
      "cell_type": "code",
      "metadata": {
        "colab": {
          "base_uri": "https://localhost:8080/"
        },
        "id": "PubUHEMP0fhE",
        "outputId": "338aa094-bc25-4d6b-8d59-545391f7dc29"
      },
      "source": [
        "# Tipo de dados\n",
        "type(grupo_bairros)"
      ],
      "execution_count": 56,
      "outputs": [
        {
          "output_type": "execute_result",
          "data": {
            "text/plain": [
              "pandas.core.groupby.generic.DataFrameGroupBy"
            ]
          },
          "metadata": {},
          "execution_count": 56
        }
      ]
    },
    {
      "cell_type": "code",
      "metadata": {
        "colab": {
          "base_uri": "https://localhost:8080/"
        },
        "id": "qJBzxtFf0qwA",
        "outputId": "812090fa-97ed-4a0f-e84b-4bcc1ad75f55"
      },
      "source": [
        "# Visualizando os grupos criados\n",
        "grupo_bairros.groups"
      ],
      "execution_count": 57,
      "outputs": [
        {
          "output_type": "execute_result",
          "data": {
            "text/plain": [
              "{'Abolição': [1544, 3170, 6623, 6919, 7600, 10100, 13112, 14131, 15989, 16569, 17066, 18716, 18724, 20017, 21292], 'Alto da Boa Vista': [2191, 11991, 12507, 13187, 13384, 14460], 'Anchieta': [3003, 8844, 15599, 17734], 'Andaraí': [381, 449, 511, 609, 786, 842, 850, 992, 1185, 1408, 1413, 1676, 1902, 2004, 2673, 3123, 3202, 3473, 3562, 3722, 3840, 4208, 4553, 4751, 4853, 4860, 4937, 5518, 5726, 5962, 6203, 6420, 6499, 6879, 7135, 7374, 7855, 7856, 8029, 8395, 9154, 9254, 9298, 9344, 9677, 9892, 10066, 10217, 10237, 10818, 10899, 10906, 11038, 11469, 11770, 12244, 12712, 13190, 13331, 13335, 13714, 13842, 13876, 13883, 14158, 14534, 14610, 15853, 15944, 16435, 16440, 16529, 16584, 17434, 17692, 17717, 17836, 18132, 18352, 18673, 18806, 18836, 18956, 19579, 19661, 19681, 20011, 20129, 20426, 20773, 20934, 20980, 21020, 21231, 21360, 21448, 21487], 'Anil': [238, 569, 601, 1221, 1623, 1655, 1779, 1922, 2117, 2368, 3570, 3659, 3844, 4134, 4350, 4630, 4747, 4767, 5235, 5314, 5633, 6101, 6121, 6299, 6337, 6453, 6566, 6838, 6891, 7011, 7025, 7396, 7488, 8065, 8118, 8756, 9463, 9595, 9893, 10124, 10283, 10536, 10591, 11905, 11912, 12429, 13136, 13342, 13344, 13361, 14008, 14318, 14470, 14814, 15451, 16511, 16589, 16689, 17451, 17727, 18110, 18243, 18442, 19365, 19468, 19618, 19689, 21037, 21157, 21568, 21622], 'Arpoador': [2765, 3001, 3171, 3335, 4508, 9495, 13812, 14059, 14757, 16469, 18394, 18594], 'Bancários': [13800, 14720, 15844, 20287], 'Bangu': [1286, 1675, 1694, 2123, 3847, 3939, 4061, 7330, 10451, 10502, 11163, 11468, 11814, 13424, 14544, 17800, 18103, 20389], 'Barra da Tijuca': [11, 13, 18, 27, 29, 32, 39, 40, 57, 58, 61, 65, 71, 76, 90, 104, 107, 109, 114, 127, 129, 133, 147, 150, 152, 162, 163, 170, 183, 186, 204, 211, 218, 221, 230, 233, 236, 241, 256, 262, 271, 273, 288, 289, 290, 292, 299, 305, 308, 322, 332, 333, 342, 357, 363, 365, 371, 377, 384, 386, 397, 409, 429, 430, 432, 433, 436, 446, 448, 459, 460, 462, 470, 473, 481, 491, 497, 500, 508, 534, 535, 536, 537, 540, 544, 549, 551, 552, 553, 581, 584, 585, 587, 591, 593, 598, 607, 618, 626, 628, ...], 'Barra de Guaratiba': [3660, 10060, 19408, 20783], 'Benfica': [97, 5697, 11231, 18184, 19116], 'Bento Ribeiro': [2240, 2940, 2971, 5147, 5980, 7406, 9841, 10145, 10908, 13041, 13403, 13569, 13706, 14123, 15734, 15775, 18314, 18941, 20069, 20808, 21276, 21538, 21698], 'Bonsucesso': [64, 261, 364, 710, 914, 1282, 1450, 1503, 2054, 2209, 2658, 2668, 3044, 3219, 3244, 4111, 4240, 4334, 4902, 5115, 5425, 5603, 6699, 6834, 7550, 7699, 7943, 8572, 9748, 9851, 10000, 10391, 11401, 11815, 12290, 12307, 12322, 12855, 12873, 14872, 14883, 14900, 15318, 15918, 16083, 16395, 16540, 16816, 16887, 16949, 17345, 17709, 18007, 18808, 18887, 18910, 19564, 20503, 20833], 'Botafogo': [20, 45, 84, 85, 108, 116, 124, 131, 193, 197, 222, 331, 359, 412, 413, 495, 521, 523, 542, 590, 645, 681, 715, 752, 761, 818, 823, 857, 911, 920, 924, 1002, 1039, 1076, 1087, 1105, 1110, 1121, 1134, 1159, 1195, 1199, 1217, 1244, 1276, 1289, 1298, 1311, 1341, 1376, 1406, 1411, 1446, 1508, 1520, 1570, 1621, 1646, 1661, 1690, 1732, 1733, 1778, 1804, 1813, 1816, 1843, 1912, 1921, 1947, 1962, 1971, 1979, 2019, 2056, 2059, 2071, 2073, 2074, 2078, 2087, 2138, 2139, 2155, 2169, 2187, 2232, 2237, 2287, 2342, 2371, 2386, 2403, 2421, 2423, 2460, 2499, 2509, 2522, 2570, ...], 'Braz de Pina': [869, 3977, 4271, 5947, 6780, 6813, 7208, 9085, 9256, 12003, 12194, 12944, 14108, 15052, 15664, 15831, 17581, 18150, 19511, 19567], 'Cachambi': [4, 53, 244, 249, 522, 625, 1382, 1674, 1852, 1939, 2077, 2168, 2546, 2623, 2878, 2995, 3031, 3066, 3739, 4041, 4142, 4176, 4185, 4379, 4427, 4614, 4617, 5246, 5254, 5266, 5282, 5429, 5496, 5545, 5722, 5834, 5891, 5959, 5968, 6144, 6147, 6210, 6348, 6356, 6455, 6568, 6739, 6800, 6818, 7281, 7389, 7407, 7591, 7703, 7873, 7980, 8011, 8031, 8165, 8182, 8565, 8650, 8860, 8868, 8908, 9083, 9087, 9196, 9440, 9542, 9546, 9646, 9818, 10149, 10156, 10314, 10743, 10772, 11034, 11049, 11313, 11326, 11408, 11432, 11441, 11762, 11982, 12345, 12761, 13038, 13253, 13256, 13291, 13644, 13699, 14141, 14275, 14619, 14685, 14851, ...], 'Cachamorra': [9328], 'Cacuia': [13079, 18533, 18715], 'Caju': [2343], 'Camorim': [546, 621, 664, 1010, 1141, 1894, 1948, 1949, 2083, 2166, 3058, 4126, 5453, 5763, 5888, 6229, 6510, 6606, 8091, 8757, 9890, 9918, 10347, 11506, 12657, 12814, 13398, 13687, 13691, 14776, 14788, 14997, 15391, 16140, 17273, 17980, 18234, 18350, 18906, 19147, 19737, 20154, 20786, 20811], 'Campinho': [1114, 6496, 6907, 7367, 7448, 8561, 9377, 13077, 13192, 14403, 14488, 18052, 20332, 21214, 21707], 'Campo Grande': [19, 134, 175, 250, 319, 375, 478, 499, 528, 539, 614, 658, 673, 719, 720, 776, 905, 982, 1000, 1008, 1037, 1063, 1104, 1115, 1140, 1157, 1234, 1243, 1294, 1328, 1404, 1463, 1595, 1653, 1704, 1753, 1870, 1882, 1895, 1932, 2009, 2013, 2183, 2307, 2376, 2622, 2640, 2745, 2755, 2774, 2846, 2868, 2887, 2930, 2949, 2992, 3035, 3061, 3087, 3133, 3165, 3186, 3210, 3222, 3443, 3461, 3483, 3526, 3527, 3762, 3777, 3804, 3805, 3830, 3866, 3870, 3934, 3940, 3972, 4005, 4017, 4062, 4081, 4095, 4159, 4167, 4282, 4407, 4417, 4468, 4501, 4509, 4515, 4536, 4555, 4559, 4592, 4694, 4714, 4974, ...], 'Cascadura': [555, 875, 1616, 1915, 4433, 5789, 6254, 6582, 8516, 9283, 10234, 10803, 11734, 11794, 11950, 12202, 12673, 14843, 15508, 15965, 15970, 16010, 16665, 16994, 17504, 19514, 19518, 19968, 20006, 20178, 21656], 'Catete': [91, 95, 117, 190, 297, 336, 678, 1168, 1344, 1395, 1683, 1788, 1814, 1893, 2001, 2115, 2276, 2387, 2413, 2919, 2920, 2974, 3230, 3513, 3657, 3692, 3742, 3798, 3903, 4101, 4196, 4200, 4272, 4304, 4388, 4748, 4794, 5451, 5585, 5590, 5608, 5680, 5683, 5700, 5861, 5920, 6131, 6221, 6567, 6856, 6925, 6985, 6987, 7017, 7040, 7129, 7311, 7352, 7824, 8400, 8617, 8741, 8840, 8906, 9053, 9248, 9291, 9313, 9415, 9530, 9796, 9817, 9941, 10096, 10134, 10203, 10211, 10238, 10327, 10517, 10791, 10951, 11124, 11454, 11503, 11526, 11567, 11682, 11692, 11741, 11859, 11965, 12158, 12231, 12241, 12553, 12604, 13051, 13304, 13314, ...], 'Catumbi': [1336, 3138, 4487, 8359, 8734, 16614, 17046, 20908], 'Cavalcanti': [15217, 18073], 'Centro': [2, 35, 62, 68, 143, 178, 188, 309, 424, 582, 661, 822, 866, 935, 940, 950, 1012, 1106, 1109, 1130, 1314, 1378, 1474, 1487, 1604, 1624, 1682, 1688, 1724, 1728, 1835, 1881, 1891, 1996, 2075, 2088, 2146, 2157, 2181, 2226, 2229, 2248, 2316, 2435, 2456, 2595, 2604, 2959, 3062, 3068, 3076, 3226, 3264, 3315, 3316, 3329, 3465, 3514, 3560, 3674, 3756, 3849, 3892, 3912, 3919, 4007, 4009, 4024, 4158, 4308, 4352, 4426, 4445, 4484, 4698, 4765, 4815, 4836, 4854, 4892, 4910, 4911, 4991, 5006, 5024, 5052, 5077, 5087, 5132, 5135, 5146, 5261, 5287, 5311, 5355, 5422, 5602, 5666, 5701, 5772, ...], 'Cidade Jardim': [15352], 'Cidade Nova': [2228, 2261, 2716, 6248, 12993, 16063, 21469], 'Cocotá': [8948, 18494, 20620], 'Coelho Neto': [16360], 'Colégio': [1577, 2862, 15212, 18417], 'Copacabana': [0, 7, 8, 9, 21, 22, 25, 28, 83, 88, 101, 106, 122, 126, 137, 139, 140, 148, 159, 171, 181, 189, 191, 203, 220, 246, 260, 272, 275, 278, 286, 287, 298, 304, 316, 324, 326, 345, 356, 362, 368, 369, 385, 393, 401, 422, 423, 434, 455, 457, 482, 483, 484, 494, 527, 529, 531, 554, 561, 570, 571, 580, 603, 606, 608, 611, 629, 646, 655, 662, 663, 674, 683, 685, 690, 697, 709, 726, 732, 735, 768, 804, 820, 832, 868, 877, 890, 894, 903, 908, 913, 915, 917, 918, 925, 948, 959, 960, 976, 985, ...], 'Cordovil': [2274, 6383, 7716, 10411, 13140, 14125, 15971, 18012, 19900], 'Cosme Velho': [63, 1053, 1552, 1590, 2696, 4170, 4638, 5406, 6542, 7433, 7923, 9373, 9705, 9813, 10937, 10967, 11005, 12746, 14555, 14915, 14953, 14955, 15506, 16094, 16598, 17128, 17229, 17768, 18017, 19413, 21113], 'Cosmos': [8378, 13630, 14857, 15504, 15806, 16283, 16559, 16734, 16882, 17435, 21185, 21192], 'Curicica': [428, 615, 1178, 1202, 1480, 1684, 2065, 2193, 2234, 2572, 3323, 3581, 3737, 3937, 4077, 4735, 6240, 7194, 7666, 8005, 8214, 8290, 8668, 9005, 9782, 9964, 10090, 10276, 10551, 10748, 10877, 11147, 11194, 11496, 11497, 11828, 11901, 12035, 12458, 12502, 12592, 12603, 12645, 12885, 12930, 13412, 13570, 13705, 13932, 14242, 14779, 15219, 15332, 15434, 15900, 15919, 16044, 16518, 16564, 16568, 17146, 17528, 17777, 17918, 18048, 18556, 20179, 20273, 20598, 20625, 20698, 20715, 21014, 21236, 21407, 21652], 'Del Castilho': [2669, 2855, 3550, 3707, 3783, 4588, 6270, 6840, 8094, 8203, 8458, 8943, 9136, 11010, 11159, 11488, 13833, 14325, 15640, 15968, 18456, 19060, 20016], 'Encantado': [1083, 1991, 2436, 6213, 7497, 8048, 10198, 13156, 15274, 17060, 17197, 17714, 18077, 19215, 21600], 'Engenho Novo': [128, 228, 234, 283, 545, 1015, 1319, 1414, 1903, 1972, 2678, 2727, 2762, 2790, 2799, 2924, 3349, 3802, 3987, 4143, 4430, 5116, 5186, 5202, 5268, 5918, 6273, 6376, 6492, 6675, 7308, 7441, 7450, 7506, 7624, 7852, 7930, 8062, 8122, 8384, 8486, 8505, 8550, 8855, 8987, 9177, 9239, 9478, 9641, 9695, 9908, 9970, 10284, 10354, 10364, 10393, 11550, 11699, 11771, 11776, 11857, 12029, 12270, 12385, 12510, 12957, 13141, 13231, 13320, 13636, 13894, 13913, 14262, 14466, 14474, 15047, 15387, 15411, 15501, 16375, 16410, 16499, 16608, 16878, 17122, 17401, 17470, 17539, 17637, 17963, 18202, 18288, 18447, 18687, 19709, 19776, 19987, 20212, 20243, 20378, ...], 'Engenho da Rainha': [9257, 9980, 10328, 14579, 15320, 16454, 17953], 'Engenho de Dentro': [136, 746, 1145, 1528, 2029, 2050, 2196, 2212, 2474, 2547, 2785, 2943, 2975, 3144, 3792, 3921, 4075, 4089, 4281, 4310, 4579, 4730, 4945, 5149, 5473, 5553, 5886, 5914, 6044, 6381, 7970, 8077, 8153, 8537, 8973, 9115, 9342, 9601, 10106, 10414, 11181, 11321, 11523, 11844, 12172, 12608, 12889, 14110, 14319, 14557, 15452, 15667, 16304, 16545, 16556, 16740, 16795, 16826, 17366, 18019, 18723, 18726, 18793, 18936, 19262, 19488, 19686, 19742, 20241, 20248, 20391, 20455, 20917, 21068], 'Estácio': [2262, 2798, 3476, 4717, 5002, 5071, 5267, 5326, 5720, 7439, 8083, 13301, 14145, 14213, 15137, 15656, 15929, 17226, 17676, 18115, 18586, 20085, 21044], 'Flamengo': [75, 135, 215, 281, 318, 344, 353, 358, 366, 390, 418, 427, 439, 474, 541, 577, 616, 665, 722, 760, 791, 851, 882, 887, 896, 939, 963, 1040, 1094, 1122, 1131, 1203, 1228, 1235, 1352, 1390, 1393, 1498, 1504, 1516, 1527, 1537, 1546, 1593, 1596, 1671, 1687, 1751, 1754, 1824, 1834, 1862, 1930, 1963, 1995, 2000, 2025, 2208, 2217, 2254, 2264, 2301, 2324, 2352, 2364, 2416, 2451, 2519, 2520, 2529, 2532, 2557, 2584, 2616, 2627, 2692, 2700, 2705, 2763, 2767, 2853, 2867, 2909, 2926, 2944, 2963, 3022, 3073, 3088, 3113, 3115, 3124, 3161, 3245, 3270, 3303, 3377, 3383, 3395, 3404, ...], 'Freguesia (Ilha do Governador)': [4879, 7505, 12373, 17279, 18168], 'Freguesia (Jacarepaguá)': [10, 55, 80, 103, 120, 132, 153, 160, 185, 201, 219, 268, 302, 303, 343, 380, 452, 488, 530, 602, 684, 696, 778, 810, 859, 880, 965, 1098, 1102, 1350, 1436, 1491, 1518, 1522, 1560, 1686, 1758, 1774, 1815, 1828, 1879, 1911, 1927, 1940, 2046, 2047, 2165, 2201, 2223, 2252, 2258, 2263, 2308, 2330, 2336, 2362, 2495, 2525, 2544, 2553, 2555, 2596, 2619, 2646, 2694, 2698, 2717, 2888, 2928, 2952, 2964, 2994, 3011, 3050, 3070, 3099, 3167, 3283, 3317, 3642, 3670, 3702, 3781, 3787, 3799, 3817, 3829, 3873, 3896, 3906, 3938, 3963, 4040, 4080, 4110, 4151, 4246, 4292, 4301, 4306, ...], 'Fátima': [747, 4280, 5993, 15584, 19224, 19827], 'Gamboa': [3494, 13228, 19387], 'Gardênia Azul': [352, 2718, 5025, 6660, 8941, 10983, 12806, 17743, 21189], 'Glória': [98, 341, 400, 543, 676, 819, 956, 1001, 1667, 1823, 1866, 2002, 2085, 2102, 2149, 2334, 2385, 2405, 2729, 3710, 3728, 4121, 4522, 5307, 5319, 5421, 5713, 5717, 5757, 5883, 6123, 6738, 7029, 7057, 7066, 7451, 7526, 7563, 7590, 7597, 7918, 8326, 8367, 8913, 8930, 9251, 9778, 9938, 10016, 10019, 10196, 10208, 10376, 10453, 10656, 10737, 11102, 11199, 12269, 12336, 12989, 13250, 13265, 13386, 13399, 13506, 13534, 13578, 13751, 13941, 14142, 15282, 15374, 15825, 16315, 16502, 16625, 16775, 16778, 16848, 16860, 17119, 17324, 17529, 17715, 17806, 17837, 17880, 18096, 18297, 18539, 18903, 19307, 19342, 19755, 19769, 19799, 20003, 20127, 20151, ...], 'Grajaú': [5, 235, 314, 405, 407, 468, 567, 967, 1330, 1441, 1555, 1612, 1968, 2511, 2554, 2736, 2746, 2784, 2840, 2996, 3388, 3480, 3699, 3968, 4183, 4540, 4581, 4647, 4839, 5055, 5070, 5249, 5278, 5294, 5299, 5498, 5513, 6005, 6614, 6916, 7267, 7532, 7788, 7879, 7900, 8003, 8404, 8524, 8529, 8983, 9006, 9013, 9105, 9195, 9727, 10081, 10209, 10224, 10357, 10518, 10527, 10576, 11021, 11206, 11233, 11260, 11261, 11273, 11577, 11654, 11765, 12021, 12023, 12031, 12049, 12242, 12455, 12482, 12493, 12500, 12525, 12555, 12771, 12821, 13612, 13776, 13933, 13965, 14197, 14278, 14304, 14451, 14545, 14586, 14677, 14810, 14922, 15030, 15042, 15381, ...], 'Guadalupe': [5337, 7243, 9997, 10310, 11026, 12166], 'Guaratiba': [1233, 4339, 4391, 4431, 5578, 5848, 6056, 7621, 7640, 7803, 8095, 8761, 10129, 10420, 11518, 12159, 13749, 15300, 16091, 17023, 17240], 'Gávea': [60, 105, 212, 223, 240, 295, 458, 517, 533, 853, 1100, 1143, 1153, 1287, 1310, 1327, 1377, 1422, 1603, 1617, 1622, 2036, 2068, 2082, 2098, 2103, 2221, 2320, 2419, 2487, 2607, 2610, 2636, 2648, 2842, 2941, 2956, 3051, 3179, 3211, 3365, 3435, 3437, 3688, 3929, 3999, 4124, 4258, 4322, 4373, 4385, 4584, 4673, 4780, 4922, 4931, 4967, 5090, 5118, 5367, 5459, 5493, 5730, 5792, 5874, 5902, 6034, 6040, 6148, 6184, 6212, 6306, 6321, 6581, 6595, 6721, 6789, 6986, 7264, 7537, 7792, 7797, 8020, 8052, 8074, 8583, 8682, 8683, 8710, 8746, 8839, 8893, 8981, 9127, 9129, 9314, 9338, 9350, 9563, 9652, ...], 'Higienópolis': [3, 751, 958, 2090, 2174, 3333, 4335, 7898, 9004, 11202, 14128, 15105, 16846, 16906, 18385, 19252], 'Honório Gurgel': [9018, 9480, 13302, 16250, 18604, 18657, 21217], 'Humaitá': [33, 74, 207, 224, 285, 370, 426, 556, 826, 828, 926, 953, 1360, 1384, 1550, 1681, 1707, 1868, 1950, 2106, 2178, 2278, 2615, 3010, 3032, 3091, 3149, 3331, 3624, 3721, 3868, 3930, 4145, 4224, 4337, 4476, 4728, 4795, 4942, 5010, 5097, 5350, 5502, 5759, 5999, 6013, 6226, 6308, 7117, 7181, 7566, 7835, 7883, 7922, 8024, 8124, 8128, 8338, 8345, 8424, 8638, 8669, 8674, 8698, 8907, 9038, 9114, 9243, 9304, 9464, 9492, 9869, 10063, 10075, 10171, 10515, 10556, 10681, 11104, 11262, 11299, 11383, 11819, 12030, 12073, 12460, 12614, 12916, 13236, 13300, 13347, 13786, 14058, 14106, 14168, 14493, 14648, 14745, 14889, 14924, ...], 'Icaraí': [3132, 3585, 4975, 10850, 13343, 14185, 16390, 19025], 'Ilha do Governador': [205, 3150, 3918, 5035, 5318, 5817, 6974, 6999, 7318, 9098, 10841, 10902, 12763, 13199, 13510, 14664, 15073, 17485, 17656, 18003, 18201, 18458, 21035, 21517], 'Inhaúma': [399, 3380, 3391, 5111, 8702, 8979, 12819], 'Inhoaíba': [757, 5329, 7558, 9473, 18427, 21272], 'Ipanema': [16, 36, 37, 42, 49, 50, 70, 81, 89, 111, 118, 125, 138, 156, 174, 176, 213, 214, 227, 239, 242, 266, 280, 323, 335, 338, 367, 374, 383, 389, 402, 441, 479, 486, 512, 520, 532, 566, 572, 573, 574, 576, 586, 588, 610, 620, 624, 643, 644, 652, 667, 677, 686, 704, 706, 713, 721, 725, 727, 742, 743, 749, 753, 775, 779, 788, 796, 806, 808, 812, 825, 855, 856, 873, 884, 901, 902, 919, 923, 934, 947, 949, 966, 979, 981, 990, 997, 1006, 1018, 1023, 1029, 1045, 1046, 1048, 1050, 1054, 1056, 1074, 1082, 1088, ...], 'Irajá': [291, 840, 1200, 1263, 1509, 2167, 2219, 2311, 2350, 2661, 3687, 4397, 4824, 4962, 5988, 6242, 6558, 6615, 6765, 6805, 6983, 7036, 7113, 7589, 7690, 7749, 7823, 8810, 9002, 9466, 9540, 9765, 9857, 10155, 10704, 10712, 11513, 11570, 11833, 11899, 12562, 12803, 12811, 13003, 13027, 13061, 13185, 13261, 13645, 13831, 14074, 14159, 14376, 14627, 14761, 14791, 15670, 16451, 17178, 17359, 17674, 17998, 18149, 18426, 18434, 18704, 18877, 19011, 19020, 19760, 19772, 19976, 20912, 20991, 21194, 21351, 21664, 21681], 'Itanhangá': [72, 471, 475, 578, 1240, 1312, 2023, 2363, 2469, 2583, 2812, 3246, 3462, 3838, 3851, 4312, 4348, 4752, 5895, 5907, 6160, 7119, 7385, 7453, 7745, 8630, 9017, 9057, 9555, 9757, 9854, 10925, 10949, 10984, 11319, 12324, 12396, 13550, 13854, 14072, 14385, 14706, 15114, 15216, 15827, 15972, 16820, 17272, 17550, 18027, 19108, 19263, 19566, 20237, 20586, 20885, 21131, 21341, 21603, 21611], 'Jabour': [813, 2107, 12642], 'Jacarepaguá': [48, 69, 195, 284, 329, 361, 502, 519, 557, 675, 705, 1042, 1213, 1459, 1558, 1606, 1634, 1796, 1980, 2143, 2222, 2259, 2322, 2455, 2501, 2545, 2565, 2613, 2618, 2666, 2786, 2810, 2852, 2858, 3297, 3359, 3386, 3436, 3555, 3615, 3684, 3686, 3759, 3785, 3843, 3914, 3979, 4027, 4066, 4177, 4237, 4245, 4283, 4436, 4551, 4613, 4678, 4775, 4830, 4949, 5048, 5054, 5069, 5174, 5215, 5231, 5251, 5381, 5409, 5458, 5471, 5577, 5698, 5712, 5785, 5814, 5843, 6000, 6023, 6122, 6471, 6516, 6740, 6775, 6896, 7009, 7062, 7101, 7106, 7130, 7253, 7313, 7359, 7430, 7816, 8168, 8192, 8198, 8204, 8250, ...], 'Jacaré': [8809, 15000, 21197], 'Jardim América': [2272, 2913, 3698, 6302, 12772, 17855, 18907], 'Jardim Botânico': [1, 52, 307, 320, 348, 442, 443, 489, 492, 568, 639, 671, 802, 933, 978, 1181, 1205, 1367, 1475, 1785, 1874, 2043, 2051, 2092, 2239, 2513, 2516, 2682, 2702, 2721, 2803, 2807, 3200, 3354, 3457, 3470, 3567, 3719, 3748, 3766, 3944, 4043, 4102, 4218, 4453, 4566, 4681, 4688, 4766, 4843, 4866, 4891, 4999, 5059, 5091, 5142, 5172, 5206, 5236, 5275, 5315, 5356, 5373, 5392, 5571, 5638, 5675, 5782, 5808, 5858, 6247, 6296, 6369, 6454, 6482, 6611, 6704, 6708, 6709, 6713, 6741, 6757, 6781, 6876, 6889, 6939, 6969, 7022, 7080, 7323, 7328, 7435, 7494, 7700, 7844, 7882, 8015, 8136, 8166, 8167, ...], 'Jardim Carioca': [92, 141, 1025, 2375, 6498, 11947, 15828, 15956, 17246], 'Jardim Guanabara': [800, 1009, 1391, 1507, 1854, 2453, 2744, 2851, 3105, 4750, 5064, 5716, 5865, 5995, 6012, 7047, 7250, 7449, 7775, 8816, 8845, 9040, 9151, 9975, 10396, 10440, 10670, 10697, 10778, 11028, 11378, 11902, 12077, 12260, 13177, 13544, 14309, 14315, 14424, 14622, 14786, 14804, 15402, 15515, 15647, 16606, 16750, 16921, 17428, 17526, 17702, 18367, 19013, 19227, 19505, 19608, 19783, 20608, 20710, 20778, 21102, 21165, 21406, 21543], 'Jardim Oceânico': [26, 200, 885, 1125, 1318, 1787, 2038, 3833, 6052, 6098, 6142, 7840, 10719, 11731, 12044, 12055, 12593, 13267, 15840, 18733, 18833, 19571, 19625], 'Jardim Sulacap': [209, 3241, 4793, 4943, 5607, 7097, 11314, 12744, 15759], 'Joá': [2097, 2498, 6718, 7654, 8619, 11558, 11795, 12015, 12038, 12040, 12877, 14771, 16341, 16838, 17079, 18155, 18214, 19327, 20612], 'Lagoa': [86, 102, 121, 144, 226, 301, 315, 317, 414, 415, 425, 454, 505, 599, 622, 647, 694, 738, 756, 759, 789, 876, 938, 977, 989, 1020, 1051, 1077, 1120, 1144, 1229, 1237, 1252, 1333, 1347, 1394, 1435, 1575, 1579, 1587, 1594, 1648, 1669, 1734, 1752, 1764, 1836, 1841, 1925, 1973, 1977, 2057, 2104, 2161, 2253, 2353, 2429, 2443, 2541, 2629, 2712, 2766, 2779, 2782, 2879, 3016, 3075, 3159, 3191, 3261, 3357, 3397, 3479, 3482, 3610, 3776, 3818, 3825, 3901, 3970, 3998, 4033, 4038, 4052, 4118, 4133, 4148, 4205, 4243, 4267, 4300, 4378, 4393, 4403, 4418, 4488, 4577, 4645, 4653, 4672, ...], 'Lapa': [1290, 1795, 2300, 2954, 3183, 3322, 3711, 4260, 4811, 5336, 5791, 6361, 8422, 8895, 9160, 9315, 9767, 9839, 10789, 13866, 16623, 16885, 18121, 18601, 18800, 19582, 20229], 'Laranjeiras': [67, 151, 166, 172, 248, 269, 279, 378, 411, 464, 548, 637, 638, 641, 651, 687, 702, 716, 744, 874, 1011, 1036, 1062, 1108, 1190, 1207, 1249, 1285, 1316, 1337, 1386, 1433, 1444, 1462, 1597, 1633, 1829, 1859, 1865, 1942, 1953, 2040, 2127, 2188, 2211, 2227, 2255, 2260, 2512, 2566, 2605, 2611, 2688, 2699, 2801, 2914, 2934, 2993, 2998, 3030, 3078, 3256, 3341, 3369, 3440, 3495, 3499, 3515, 3523, 3563, 3582, 3609, 3654, 3658, 3677, 3709, 3717, 3809, 3863, 4004, 4114, 4187, 4220, 4228, 4253, 4314, 4343, 4569, 4608, 4736, 4759, 4772, 4804, 4903, 4929, 4965, 4990, 5137, 5164, 5168, ...], 'Largo do Machado': [4383, 5710, 8199, 11316, 12384], 'Leblon': [24, 56, 87, 94, 112, 130, 158, 164, 168, 210, 216, 245, 311, 312, 321, 349, 350, 392, 404, 417, 440, 445, 456, 461, 463, 467, 487, 493, 498, 506, 516, 547, 594, 596, 600, 635, 636, 654, 682, 699, 707, 729, 745, 771, 780, 815, 824, 829, 830, 835, 839, 864, 870, 895, 927, 929, 941, 955, 961, 1049, 1055, 1065, 1066, 1068, 1071, 1084, 1099, 1136, 1149, 1155, 1160, 1187, 1198, 1201, 1208, 1210, 1230, 1272, 1273, 1278, 1295, 1296, 1329, 1331, 1339, 1361, 1400, 1403, 1407, 1420, 1494, 1517, 1531, 1538, 1543, 1551, 1578, 1581, 1613, 1614, ...], 'Leme': [282, 394, 477, 579, 583, 737, 899, 1059, 1126, 1162, 1183, 1206, 1260, 1607, 1691, 1715, 1805, 1833, 1887, 1909, 1936, 2064, 2213, 2335, 2530, 2539, 2574, 2588, 2590, 2821, 2969, 2984, 3029, 3110, 3162, 3169, 3223, 3258, 3378, 3416, 3423, 3549, 3810, 3856, 3874, 3967, 4478, 4545, 4575, 4610, 4654, 4708, 4725, 4785, 4959, 5031, 5140, 5214, 5253, 5265, 5320, 5535, 5875, 6065, 6093, 6289, 6315, 6464, 6465, 6641, 6651, 6712, 6937, 6953, 6965, 6975, 7049, 7151, 7162, 7694, 7740, 7798, 7818, 7926, 8066, 8169, 8191, 8234, 8321, 8413, 8657, 8680, 8992, 9167, 9169, 9360, 9428, 9503, 9712, 9744, ...], 'Lins de Vasconcelos': [6, 157, 525, 2265, 2344, 2903, 3284, 3314, 4162, 4225, 4408, 4435, 4594, 4774, 6379, 6637, 6935, 7170, 7458, 7520, 7618, 8253, 8428, 8859, 9207, 9565, 9583, 9790, 11786, 11887, 11993, 13415, 14085, 14090, 14229, 14740, 16416, 17048, 17370, 17497, 17924, 18414, 19268, 20019, 20660, 20970, 21090], 'Madureira': [258, 2112, 2764, 3072, 3502, 4074, 4723, 5991, 6150, 6327, 6619, 6656, 6931, 8258, 8417, 9375, 9703, 9991, 10595, 10683, 10720, 10798, 12115, 12315, 12554, 13125, 13283, 13710, 13748, 14313, 15256, 16129, 16349, 16404, 16888, 17109, 17353, 17570, 17639, 19106, 20065, 20288, 20322, 20588, 20760], 'Magalhães Bastos': [12533, 17322], 'Maracanã': [46, 93, 149, 192, 208, 253, 355, 630, 799, 817, 858, 1632, 1746, 1931, 2135, 2162, 2380, 2828, 2987, 3175, 3272, 3282, 3507, 3541, 3668, 3678, 3765, 3812, 3845, 4285, 4424, 4671, 4801, 4833, 4851, 4872, 5078, 5127, 5328, 5389, 5416, 5515, 5540, 5729, 5952, 6032, 6084, 6187, 6622, 6809, 8059, 8291, 8311, 8490, 8675, 8797, 8849, 9093, 9278, 9448, 9511, 9588, 9620, 9665, 9791, 10018, 10138, 10293, 10563, 11320, 11402, 11473, 11687, 11832, 11845, 11914, 11932, 11934, 11957, 12610, 12815, 12834, 12843, 12910, 12971, 13040, 13200, 13216, 13394, 13663, 13701, 14030, 14263, 14456, 14491, 14969, 15076, 15103, 15197, 15380, ...], 'Marechal Hermes': [406, 2631, 2988, 4367, 5838, 6697, 8096, 16137, 18192], 'Maria da Graça': [3649, 5023, 6404, 6565, 7015, 12649, 15236, 16721, 17155, 17521, 18200, 19602], 'Moneró': [465, 1151, 3299, 4641, 12000, 12107, 14909, 16758, 16881], 'Méier': [43, 51, 119, 310, 419, 438, 592, 627, 764, 909, 1070, 1177, 1299, 1375, 1387, 1392, 1396, 1457, 1472, 1482, 1490, 1530, 1630, 1786, 1842, 1864, 1916, 1988, 2011, 2257, 2359, 2381, 2482, 2562, 2580, 2675, 2772, 2778, 3005, 3041, 3129, 3148, 3382, 3446, 3619, 4013, 4097, 4161, 4347, 4369, 4514, 4558, 4586, 4626, 4773, 4855, 4877, 5238, 5304, 5360, 5445, 5446, 5508, 5527, 5593, 5871, 6077, 6151, 6166, 6195, 6325, 6344, 6409, 6536, 6540, 6552, 6561, 6594, 6650, 6782, 6835, 6880, 7012, 7074, 7153, 7201, 7235, 7266, 7335, 7456, 7581, 7585, 7619, 7688, 7842, 7942, 8038, 8152, 8251, 8297, ...], 'Olaria': [14, 82, 206, 3496, 4583, 5076, 5284, 5383, 6598, 7218, 8945, 9111, 9292, 9451, 9865, 11191, 11840, 12294, 12883, 13001, 13248, 13899, 14912, 17216, 18379, 18555, 18573, 18609, 20236, 20658, 21230, 21694], 'Oswaldo Cruz': [217, 1250, 3289, 3410, 3839, 4217, 4915, 4963, 8101, 9358, 9842, 11237, 11462, 11511, 12874, 17701, 18495, 19306], 'Paciência': [2601, 6275, 13622, 15322, 19412, 19852, 19879, 20401], 'Padre Miguel': [2383, 5384, 6372, 10068, 10747, 17091, 18546, 20865], 'Paquetá': [3975, 8543], 'Parada de Lucas': [4745, 7136, 9299, 21638], 'Parque Anchieta': [5653, 6700, 7763, 16163], 'Pavuna': [1757, 3192, 4425, 5967, 6522, 6776, 8396, 8854, 9438, 10098, 12065, 13154, 14795, 15305, 15873, 16021, 18261, 18487, 21667], 'Pechincha': [277, 403, 416, 450, 513, 559, 755, 951, 1028, 1041, 1101, 1116, 1182, 1371, 1381, 1417, 1478, 1483, 1631, 1644, 1666, 2109, 2195, 2206, 2286, 2484, 2890, 3130, 3293, 3304, 3390, 3608, 3723, 3955, 4130, 4406, 4886, 4985, 5028, 5213, 5241, 5274, 5591, 5609, 5855, 6021, 6031, 6042, 6279, 6364, 6535, 6715, 6822, 6839, 6932, 7345, 7463, 7610, 7616, 7684, 8084, 8249, 8356, 8392, 8479, 8689, 8691, 9014, 9141, 9186, 9397, 9456, 9520, 9672, 9973, 10320, 10498, 10558, 10624, 10932, 11164, 11390, 11505, 11540, 11608, 11810, 11838, 11886, 11922, 11927, 11992, 12070, 12198, 12225, 12310, 12428, 12466, 12471, 12582, 12607, ...], 'Pedra de Guaratiba': [2347, 3669, 3941, 3948, 4340, 4409, 4744, 6384, 6401, 7126, 8467, 9235, 13593, 14080, 14452, 15294, 15408, 17752, 18770], 'Penha': [347, 2749, 3637, 3801, 4429, 4781, 5100, 5113, 5455, 5893, 6161, 7847, 8402, 8644, 8793, 9020, 9474, 9843, 10266, 11500, 11915, 12083, 16138, 16939, 17821, 17935, 18585, 20087, 20156, 20491], 'Penha Circular': [1418, 2902, 5598, 5905, 7751, 8047, 9682, 11745, 12580, 16830, 18993, 19735], ...}"
            ]
          },
          "metadata": {},
          "execution_count": 57
        }
      ]
    },
    {
      "cell_type": "code",
      "metadata": {
        "colab": {
          "base_uri": "https://localhost:8080/"
        },
        "id": "T9OMvHld0wyg",
        "outputId": "84ac6324-2713-4982-b56f-32d8cddc39d0"
      },
      "source": [
        "# Melhorando essa visualização dos grupos\n",
        "for bairro, data in grupo_bairros:\n",
        "  print('Bairro: {} - Valor médio de aluguel: R$ {}'.format(bairro, round(data['Valor'].mean(), 2)))"
      ],
      "execution_count": 58,
      "outputs": [
        {
          "output_type": "stream",
          "name": "stdout",
          "text": [
            "Bairro: Abolição - Valor médio de aluguel: R$ 1195.33\n",
            "Bairro: Alto da Boa Vista - Valor médio de aluguel: R$ 3966.67\n",
            "Bairro: Anchieta - Valor médio de aluguel: R$ 875.0\n",
            "Bairro: Andaraí - Valor médio de aluguel: R$ 1464.71\n",
            "Bairro: Anil - Valor médio de aluguel: R$ 2048.87\n",
            "Bairro: Arpoador - Valor médio de aluguel: R$ 12923.92\n",
            "Bairro: Bancários - Valor médio de aluguel: R$ 1825.0\n",
            "Bairro: Bangu - Valor médio de aluguel: R$ 1003.89\n",
            "Bairro: Barra da Tijuca - Valor médio de aluguel: R$ 6983.26\n",
            "Bairro: Barra de Guaratiba - Valor médio de aluguel: R$ 5550.0\n",
            "Bairro: Benfica - Valor médio de aluguel: R$ 996.0\n",
            "Bairro: Bento Ribeiro - Valor médio de aluguel: R$ 1030.87\n",
            "Bairro: Bonsucesso - Valor médio de aluguel: R$ 1225.93\n",
            "Bairro: Botafogo - Valor médio de aluguel: R$ 8770.68\n",
            "Bairro: Braz de Pina - Valor médio de aluguel: R$ 1115.0\n",
            "Bairro: Cachambi - Valor médio de aluguel: R$ 1157.17\n",
            "Bairro: Cachamorra - Valor médio de aluguel: R$ 3000.0\n",
            "Bairro: Cacuia - Valor médio de aluguel: R$ 916.67\n",
            "Bairro: Caju - Valor médio de aluguel: R$ 850.0\n",
            "Bairro: Camorim - Valor médio de aluguel: R$ 1735.23\n",
            "Bairro: Campinho - Valor médio de aluguel: R$ 1037.33\n",
            "Bairro: Campo Grande - Valor médio de aluguel: R$ 1273.34\n",
            "Bairro: Cascadura - Valor médio de aluguel: R$ 948.71\n",
            "Bairro: Catete - Valor médio de aluguel: R$ 2186.98\n",
            "Bairro: Catumbi - Valor médio de aluguel: R$ 1112.5\n",
            "Bairro: Cavalcanti - Valor médio de aluguel: R$ 595.0\n",
            "Bairro: Centro - Valor médio de aluguel: R$ 1254.75\n",
            "Bairro: Cidade Jardim - Valor médio de aluguel: R$ 12000.0\n",
            "Bairro: Cidade Nova - Valor médio de aluguel: R$ 1471.43\n",
            "Bairro: Cocotá - Valor médio de aluguel: R$ 1883.33\n",
            "Bairro: Coelho Neto - Valor médio de aluguel: R$ 700.0\n",
            "Bairro: Colégio - Valor médio de aluguel: R$ 885.0\n",
            "Bairro: Copacabana - Valor médio de aluguel: R$ 4125.21\n",
            "Bairro: Cordovil - Valor médio de aluguel: R$ 905.56\n",
            "Bairro: Cosme Velho - Valor médio de aluguel: R$ 5343.55\n",
            "Bairro: Cosmos - Valor médio de aluguel: R$ 658.33\n",
            "Bairro: Curicica - Valor médio de aluguel: R$ 1514.57\n",
            "Bairro: Del Castilho - Valor médio de aluguel: R$ 1261.3\n",
            "Bairro: Encantado - Valor médio de aluguel: R$ 1050.0\n",
            "Bairro: Engenho Novo - Valor médio de aluguel: R$ 1035.83\n",
            "Bairro: Engenho da Rainha - Valor médio de aluguel: R$ 883.57\n",
            "Bairro: Engenho de Dentro - Valor médio de aluguel: R$ 1166.35\n",
            "Bairro: Estácio - Valor médio de aluguel: R$ 1233.91\n",
            "Bairro: Flamengo - Valor médio de aluguel: R$ 4113.53\n",
            "Bairro: Freguesia (Ilha do Governador) - Valor médio de aluguel: R$ 1720.0\n",
            "Bairro: Freguesia (Jacarepaguá) - Valor médio de aluguel: R$ 4966.67\n",
            "Bairro: Fátima - Valor médio de aluguel: R$ 956.67\n",
            "Bairro: Gamboa - Valor médio de aluguel: R$ 1116.67\n",
            "Bairro: Gardênia Azul - Valor médio de aluguel: R$ 761.11\n",
            "Bairro: Glória - Valor médio de aluguel: R$ 2301.89\n",
            "Bairro: Grajaú - Valor médio de aluguel: R$ 2038.62\n",
            "Bairro: Guadalupe - Valor médio de aluguel: R$ 700.0\n",
            "Bairro: Guaratiba - Valor médio de aluguel: R$ 1102.38\n",
            "Bairro: Gávea - Valor médio de aluguel: R$ 6563.69\n",
            "Bairro: Higienópolis - Valor médio de aluguel: R$ 1006.25\n",
            "Bairro: Honório Gurgel - Valor médio de aluguel: R$ 628.57\n",
            "Bairro: Humaitá - Valor médio de aluguel: R$ 3775.57\n",
            "Bairro: Icaraí - Valor médio de aluguel: R$ 2393.75\n",
            "Bairro: Ilha do Governador - Valor médio de aluguel: R$ 1654.17\n",
            "Bairro: Inhaúma - Valor médio de aluguel: R$ 821.43\n",
            "Bairro: Inhoaíba - Valor médio de aluguel: R$ 725.0\n",
            "Bairro: Ipanema - Valor médio de aluguel: R$ 9352.0\n",
            "Bairro: Irajá - Valor médio de aluguel: R$ 1100.45\n",
            "Bairro: Itanhangá - Valor médio de aluguel: R$ 9133.33\n",
            "Bairro: Jabour - Valor médio de aluguel: R$ 723.33\n",
            "Bairro: Jacarepaguá - Valor médio de aluguel: R$ 2045.13\n",
            "Bairro: Jacaré - Valor médio de aluguel: R$ 1200.0\n",
            "Bairro: Jardim América - Valor médio de aluguel: R$ 714.29\n",
            "Bairro: Jardim Botânico - Valor médio de aluguel: R$ 8463.52\n",
            "Bairro: Jardim Carioca - Valor médio de aluguel: R$ 2211.11\n",
            "Bairro: Jardim Guanabara - Valor médio de aluguel: R$ 2124.69\n",
            "Bairro: Jardim Oceânico - Valor médio de aluguel: R$ 7626.09\n",
            "Bairro: Jardim Sulacap - Valor médio de aluguel: R$ 1176.67\n",
            "Bairro: Joá - Valor médio de aluguel: R$ 14936.32\n",
            "Bairro: Lagoa - Valor médio de aluguel: R$ 8147.08\n",
            "Bairro: Lapa - Valor médio de aluguel: R$ 1488.78\n",
            "Bairro: Laranjeiras - Valor médio de aluguel: R$ 3555.28\n",
            "Bairro: Largo do Machado - Valor médio de aluguel: R$ 1880.0\n",
            "Bairro: Leblon - Valor médio de aluguel: R$ 8746.34\n",
            "Bairro: Leme - Valor médio de aluguel: R$ 3944.76\n",
            "Bairro: Lins de Vasconcelos - Valor médio de aluguel: R$ 1086.17\n",
            "Bairro: Madureira - Valor médio de aluguel: R$ 1022.89\n",
            "Bairro: Magalhães Bastos - Valor médio de aluguel: R$ 640.0\n",
            "Bairro: Maracanã - Valor médio de aluguel: R$ 1945.5\n",
            "Bairro: Marechal Hermes - Valor médio de aluguel: R$ 844.44\n",
            "Bairro: Maria da Graça - Valor médio de aluguel: R$ 1073.33\n",
            "Bairro: Moneró - Valor médio de aluguel: R$ 1900.0\n",
            "Bairro: Méier - Valor médio de aluguel: R$ 1353.73\n",
            "Bairro: Olaria - Valor médio de aluguel: R$ 1016.56\n",
            "Bairro: Oswaldo Cruz - Valor médio de aluguel: R$ 823.89\n",
            "Bairro: Paciência - Valor médio de aluguel: R$ 580.0\n",
            "Bairro: Padre Miguel - Valor médio de aluguel: R$ 786.25\n",
            "Bairro: Paquetá - Valor médio de aluguel: R$ 10550.0\n",
            "Bairro: Parada de Lucas - Valor médio de aluguel: R$ 1062.5\n",
            "Bairro: Parque Anchieta - Valor médio de aluguel: R$ 1287.5\n",
            "Bairro: Pavuna - Valor médio de aluguel: R$ 648.95\n",
            "Bairro: Pechincha - Valor médio de aluguel: R$ 1349.0\n",
            "Bairro: Pedra de Guaratiba - Valor médio de aluguel: R$ 1082.11\n",
            "Bairro: Penha - Valor médio de aluguel: R$ 1023.33\n",
            "Bairro: Penha Circular - Valor médio de aluguel: R$ 1160.0\n",
            "Bairro: Península - Valor médio de aluguel: R$ 7061.54\n",
            "Bairro: Piedade - Valor médio de aluguel: R$ 956.54\n",
            "Bairro: Pilares - Valor médio de aluguel: R$ 1077.5\n",
            "Bairro: Pitangueiras - Valor médio de aluguel: R$ 2725.0\n",
            "Bairro: Portuguesa - Valor médio de aluguel: R$ 1272.73\n",
            "Bairro: Praia da Bandeira - Valor médio de aluguel: R$ 1300.0\n",
            "Bairro: Praça Seca - Valor médio de aluguel: R$ 1001.11\n",
            "Bairro: Praça da Bandeira - Valor médio de aluguel: R$ 1358.72\n",
            "Bairro: Quintino Bocaiúva - Valor médio de aluguel: R$ 924.67\n",
            "Bairro: Ramos - Valor médio de aluguel: R$ 943.33\n",
            "Bairro: Realengo - Valor médio de aluguel: R$ 918.18\n",
            "Bairro: Recreio dos Bandeirantes - Valor médio de aluguel: R$ 3716.88\n",
            "Bairro: Riachuelo - Valor médio de aluguel: R$ 1143.9\n",
            "Bairro: Ribeira - Valor médio de aluguel: R$ 1420.0\n",
            "Bairro: Rio Comprido - Valor médio de aluguel: R$ 1610.24\n",
            "Bairro: Rio da Prata - Valor médio de aluguel: R$ 1300.0\n",
            "Bairro: Rocha - Valor médio de aluguel: R$ 1086.84\n",
            "Bairro: Rocha Miranda - Valor médio de aluguel: R$ 877.0\n",
            "Bairro: Sampaio - Valor médio de aluguel: R$ 937.5\n",
            "Bairro: Santa Cruz - Valor médio de aluguel: R$ 734.29\n",
            "Bairro: Santa Teresa - Valor médio de aluguel: R$ 2713.33\n",
            "Bairro: Santo Cristo - Valor médio de aluguel: R$ 1225.0\n",
            "Bairro: Santíssimo - Valor médio de aluguel: R$ 756.25\n",
            "Bairro: Saúde - Valor médio de aluguel: R$ 950.0\n",
            "Bairro: Senador Camará - Valor médio de aluguel: R$ 600.0\n",
            "Bairro: Senador Vasconcelos - Valor médio de aluguel: R$ 865.31\n",
            "Bairro: São Conrado - Valor médio de aluguel: R$ 8775.29\n",
            "Bairro: São Cristóvão - Valor médio de aluguel: R$ 1382.06\n",
            "Bairro: São Francisco Xavier - Valor médio de aluguel: R$ 1242.14\n",
            "Bairro: Tanque - Valor médio de aluguel: R$ 1335.71\n",
            "Bairro: Taquara - Valor médio de aluguel: R$ 1640.04\n",
            "Bairro: Tauá - Valor médio de aluguel: R$ 1340.0\n",
            "Bairro: Tijuca - Valor médio de aluguel: R$ 2043.52\n",
            "Bairro: Todos os Santos - Valor médio de aluguel: R$ 1243.08\n",
            "Bairro: Tomás Coelho - Valor médio de aluguel: R$ 737.0\n",
            "Bairro: Turiaçu - Valor médio de aluguel: R$ 700.0\n",
            "Bairro: Urca - Valor médio de aluguel: R$ 7758.26\n",
            "Bairro: Usina - Valor médio de aluguel: R$ 1520.0\n",
            "Bairro: Vargem Grande - Valor médio de aluguel: R$ 3398.0\n",
            "Bairro: Vargem Pequena - Valor médio de aluguel: R$ 2721.2\n",
            "Bairro: Vaz Lobo - Valor médio de aluguel: R$ 845.0\n",
            "Bairro: Vicente de Carvalho - Valor médio de aluguel: R$ 1075.71\n",
            "Bairro: Vidigal - Valor médio de aluguel: R$ 2600.0\n",
            "Bairro: Vigário Geral - Valor médio de aluguel: R$ 970.0\n",
            "Bairro: Vila Isabel - Valor médio de aluguel: R$ 1560.83\n",
            "Bairro: Vila Kosmos - Valor médio de aluguel: R$ 1311.82\n",
            "Bairro: Vila Militar - Valor médio de aluguel: R$ 500.0\n",
            "Bairro: Vila Valqueire - Valor médio de aluguel: R$ 1769.58\n",
            "Bairro: Vila da Penha - Valor médio de aluguel: R$ 1260.58\n",
            "Bairro: Vista Alegre - Valor médio de aluguel: R$ 1114.38\n",
            "Bairro: Zumbi - Valor médio de aluguel: R$ 2150.0\n",
            "Bairro: Água Santa - Valor médio de aluguel: R$ 861.11\n"
          ]
        }
      ]
    },
    {
      "cell_type": "code",
      "metadata": {
        "colab": {
          "base_uri": "https://localhost:8080/"
        },
        "id": "55vSfVVq1K7b",
        "outputId": "336d4213-12c5-41ff-99e6-18e09603d541"
      },
      "source": [
        "# Visualizando de uma forma melhor\n",
        "grupo_bairros['Valor'].mean().round(2)"
      ],
      "execution_count": 59,
      "outputs": [
        {
          "output_type": "execute_result",
          "data": {
            "text/plain": [
              "Bairro\n",
              "Abolição             1195.33\n",
              "Alto da Boa Vista    3966.67\n",
              "Anchieta              875.00\n",
              "Andaraí              1464.71\n",
              "Anil                 2048.87\n",
              "                      ...   \n",
              "Vila Valqueire       1769.58\n",
              "Vila da Penha        1260.58\n",
              "Vista Alegre         1114.38\n",
              "Zumbi                2150.00\n",
              "Água Santa            861.11\n",
              "Name: Valor, Length: 152, dtype: float64"
            ]
          },
          "metadata": {},
          "execution_count": 59
        }
      ]
    },
    {
      "cell_type": "code",
      "metadata": {
        "colab": {
          "base_uri": "https://localhost:8080/",
          "height": 455
        },
        "id": "KLcIckKF1l9W",
        "outputId": "024c3f76-9885-4899-ae13-3564c9ca12e7"
      },
      "source": [
        "# Visualizando valor e condomínio médio\n",
        "grupo_bairros[['Valor', 'Condominio']].mean().round(2)"
      ],
      "execution_count": 60,
      "outputs": [
        {
          "output_type": "execute_result",
          "data": {
            "text/html": [
              "<div>\n",
              "<style scoped>\n",
              "    .dataframe tbody tr th:only-of-type {\n",
              "        vertical-align: middle;\n",
              "    }\n",
              "\n",
              "    .dataframe tbody tr th {\n",
              "        vertical-align: top;\n",
              "    }\n",
              "\n",
              "    .dataframe thead th {\n",
              "        text-align: right;\n",
              "    }\n",
              "</style>\n",
              "<table border=\"1\" class=\"dataframe\">\n",
              "  <thead>\n",
              "    <tr style=\"text-align: right;\">\n",
              "      <th></th>\n",
              "      <th>Valor</th>\n",
              "      <th>Condominio</th>\n",
              "    </tr>\n",
              "    <tr>\n",
              "      <th>Bairro</th>\n",
              "      <th></th>\n",
              "      <th></th>\n",
              "    </tr>\n",
              "  </thead>\n",
              "  <tbody>\n",
              "    <tr>\n",
              "      <th>Abolição</th>\n",
              "      <td>1195.33</td>\n",
              "      <td>191.40</td>\n",
              "    </tr>\n",
              "    <tr>\n",
              "      <th>Alto da Boa Vista</th>\n",
              "      <td>3966.67</td>\n",
              "      <td>885.00</td>\n",
              "    </tr>\n",
              "    <tr>\n",
              "      <th>Anchieta</th>\n",
              "      <td>875.00</td>\n",
              "      <td>19.75</td>\n",
              "    </tr>\n",
              "    <tr>\n",
              "      <th>Andaraí</th>\n",
              "      <td>1464.71</td>\n",
              "      <td>497.71</td>\n",
              "    </tr>\n",
              "    <tr>\n",
              "      <th>Anil</th>\n",
              "      <td>2048.87</td>\n",
              "      <td>455.85</td>\n",
              "    </tr>\n",
              "    <tr>\n",
              "      <th>...</th>\n",
              "      <td>...</td>\n",
              "      <td>...</td>\n",
              "    </tr>\n",
              "    <tr>\n",
              "      <th>Vila Valqueire</th>\n",
              "      <td>1769.58</td>\n",
              "      <td>276.88</td>\n",
              "    </tr>\n",
              "    <tr>\n",
              "      <th>Vila da Penha</th>\n",
              "      <td>1260.58</td>\n",
              "      <td>232.68</td>\n",
              "    </tr>\n",
              "    <tr>\n",
              "      <th>Vista Alegre</th>\n",
              "      <td>1114.38</td>\n",
              "      <td>210.06</td>\n",
              "    </tr>\n",
              "    <tr>\n",
              "      <th>Zumbi</th>\n",
              "      <td>2150.00</td>\n",
              "      <td>1050.00</td>\n",
              "    </tr>\n",
              "    <tr>\n",
              "      <th>Água Santa</th>\n",
              "      <td>861.11</td>\n",
              "      <td>269.44</td>\n",
              "    </tr>\n",
              "  </tbody>\n",
              "</table>\n",
              "<p>152 rows × 2 columns</p>\n",
              "</div>"
            ],
            "text/plain": [
              "                     Valor  Condominio\n",
              "Bairro                                \n",
              "Abolição           1195.33      191.40\n",
              "Alto da Boa Vista  3966.67      885.00\n",
              "Anchieta            875.00       19.75\n",
              "Andaraí            1464.71      497.71\n",
              "Anil               2048.87      455.85\n",
              "...                    ...         ...\n",
              "Vila Valqueire     1769.58      276.88\n",
              "Vila da Penha      1260.58      232.68\n",
              "Vista Alegre       1114.38      210.06\n",
              "Zumbi              2150.00     1050.00\n",
              "Água Santa          861.11      269.44\n",
              "\n",
              "[152 rows x 2 columns]"
            ]
          },
          "metadata": {},
          "execution_count": 60
        }
      ]
    },
    {
      "cell_type": "markdown",
      "metadata": {
        "id": "P3MwEAmQ2I7j"
      },
      "source": [
        "#### Fazendo análises de estatística descritiva"
      ]
    },
    {
      "cell_type": "code",
      "metadata": {
        "colab": {
          "base_uri": "https://localhost:8080/",
          "height": 455
        },
        "id": "Heve5Hwv15pB",
        "outputId": "8cc0edbc-c67a-4760-da42-c7e8eda8d397"
      },
      "source": [
        "grupo_bairros['Valor'].describe().round(2)"
      ],
      "execution_count": 61,
      "outputs": [
        {
          "output_type": "execute_result",
          "data": {
            "text/html": [
              "<div>\n",
              "<style scoped>\n",
              "    .dataframe tbody tr th:only-of-type {\n",
              "        vertical-align: middle;\n",
              "    }\n",
              "\n",
              "    .dataframe tbody tr th {\n",
              "        vertical-align: top;\n",
              "    }\n",
              "\n",
              "    .dataframe thead th {\n",
              "        text-align: right;\n",
              "    }\n",
              "</style>\n",
              "<table border=\"1\" class=\"dataframe\">\n",
              "  <thead>\n",
              "    <tr style=\"text-align: right;\">\n",
              "      <th></th>\n",
              "      <th>count</th>\n",
              "      <th>mean</th>\n",
              "      <th>std</th>\n",
              "      <th>min</th>\n",
              "      <th>25%</th>\n",
              "      <th>50%</th>\n",
              "      <th>75%</th>\n",
              "      <th>max</th>\n",
              "    </tr>\n",
              "    <tr>\n",
              "      <th>Bairro</th>\n",
              "      <th></th>\n",
              "      <th></th>\n",
              "      <th></th>\n",
              "      <th></th>\n",
              "      <th></th>\n",
              "      <th></th>\n",
              "      <th></th>\n",
              "      <th></th>\n",
              "    </tr>\n",
              "  </thead>\n",
              "  <tbody>\n",
              "    <tr>\n",
              "      <th>Abolição</th>\n",
              "      <td>15.0</td>\n",
              "      <td>1195.33</td>\n",
              "      <td>425.32</td>\n",
              "      <td>800.0</td>\n",
              "      <td>900.0</td>\n",
              "      <td>1180.0</td>\n",
              "      <td>1200.0</td>\n",
              "      <td>2300.0</td>\n",
              "    </tr>\n",
              "    <tr>\n",
              "      <th>Alto da Boa Vista</th>\n",
              "      <td>6.0</td>\n",
              "      <td>3966.67</td>\n",
              "      <td>5513.59</td>\n",
              "      <td>600.0</td>\n",
              "      <td>1150.0</td>\n",
              "      <td>1725.0</td>\n",
              "      <td>3275.0</td>\n",
              "      <td>15000.0</td>\n",
              "    </tr>\n",
              "    <tr>\n",
              "      <th>Anchieta</th>\n",
              "      <td>4.0</td>\n",
              "      <td>875.00</td>\n",
              "      <td>132.29</td>\n",
              "      <td>700.0</td>\n",
              "      <td>812.5</td>\n",
              "      <td>900.0</td>\n",
              "      <td>962.5</td>\n",
              "      <td>1000.0</td>\n",
              "    </tr>\n",
              "    <tr>\n",
              "      <th>Andaraí</th>\n",
              "      <td>97.0</td>\n",
              "      <td>1464.71</td>\n",
              "      <td>408.11</td>\n",
              "      <td>700.0</td>\n",
              "      <td>1200.0</td>\n",
              "      <td>1400.0</td>\n",
              "      <td>1650.0</td>\n",
              "      <td>2950.0</td>\n",
              "    </tr>\n",
              "    <tr>\n",
              "      <th>Anil</th>\n",
              "      <td>71.0</td>\n",
              "      <td>2048.87</td>\n",
              "      <td>1523.97</td>\n",
              "      <td>300.0</td>\n",
              "      <td>1100.0</td>\n",
              "      <td>1500.0</td>\n",
              "      <td>2675.0</td>\n",
              "      <td>7000.0</td>\n",
              "    </tr>\n",
              "    <tr>\n",
              "      <th>...</th>\n",
              "      <td>...</td>\n",
              "      <td>...</td>\n",
              "      <td>...</td>\n",
              "      <td>...</td>\n",
              "      <td>...</td>\n",
              "      <td>...</td>\n",
              "      <td>...</td>\n",
              "      <td>...</td>\n",
              "    </tr>\n",
              "    <tr>\n",
              "      <th>Vila Valqueire</th>\n",
              "      <td>48.0</td>\n",
              "      <td>1769.58</td>\n",
              "      <td>2203.01</td>\n",
              "      <td>800.0</td>\n",
              "      <td>1000.0</td>\n",
              "      <td>1250.0</td>\n",
              "      <td>1700.0</td>\n",
              "      <td>16000.0</td>\n",
              "    </tr>\n",
              "    <tr>\n",
              "      <th>Vila da Penha</th>\n",
              "      <td>104.0</td>\n",
              "      <td>1260.58</td>\n",
              "      <td>644.66</td>\n",
              "      <td>450.0</td>\n",
              "      <td>900.0</td>\n",
              "      <td>1100.0</td>\n",
              "      <td>1302.5</td>\n",
              "      <td>4500.0</td>\n",
              "    </tr>\n",
              "    <tr>\n",
              "      <th>Vista Alegre</th>\n",
              "      <td>16.0</td>\n",
              "      <td>1114.38</td>\n",
              "      <td>199.60</td>\n",
              "      <td>700.0</td>\n",
              "      <td>1012.5</td>\n",
              "      <td>1200.0</td>\n",
              "      <td>1225.0</td>\n",
              "      <td>1400.0</td>\n",
              "    </tr>\n",
              "    <tr>\n",
              "      <th>Zumbi</th>\n",
              "      <td>2.0</td>\n",
              "      <td>2150.00</td>\n",
              "      <td>777.82</td>\n",
              "      <td>1600.0</td>\n",
              "      <td>1875.0</td>\n",
              "      <td>2150.0</td>\n",
              "      <td>2425.0</td>\n",
              "      <td>2700.0</td>\n",
              "    </tr>\n",
              "    <tr>\n",
              "      <th>Água Santa</th>\n",
              "      <td>9.0</td>\n",
              "      <td>861.11</td>\n",
              "      <td>174.60</td>\n",
              "      <td>600.0</td>\n",
              "      <td>800.0</td>\n",
              "      <td>850.0</td>\n",
              "      <td>950.0</td>\n",
              "      <td>1200.0</td>\n",
              "    </tr>\n",
              "  </tbody>\n",
              "</table>\n",
              "<p>152 rows × 8 columns</p>\n",
              "</div>"
            ],
            "text/plain": [
              "                   count     mean      std  ...     50%     75%      max\n",
              "Bairro                                      ...                         \n",
              "Abolição            15.0  1195.33   425.32  ...  1180.0  1200.0   2300.0\n",
              "Alto da Boa Vista    6.0  3966.67  5513.59  ...  1725.0  3275.0  15000.0\n",
              "Anchieta             4.0   875.00   132.29  ...   900.0   962.5   1000.0\n",
              "Andaraí             97.0  1464.71   408.11  ...  1400.0  1650.0   2950.0\n",
              "Anil                71.0  2048.87  1523.97  ...  1500.0  2675.0   7000.0\n",
              "...                  ...      ...      ...  ...     ...     ...      ...\n",
              "Vila Valqueire      48.0  1769.58  2203.01  ...  1250.0  1700.0  16000.0\n",
              "Vila da Penha      104.0  1260.58   644.66  ...  1100.0  1302.5   4500.0\n",
              "Vista Alegre        16.0  1114.38   199.60  ...  1200.0  1225.0   1400.0\n",
              "Zumbi                2.0  2150.00   777.82  ...  2150.0  2425.0   2700.0\n",
              "Água Santa           9.0   861.11   174.60  ...   850.0   950.0   1200.0\n",
              "\n",
              "[152 rows x 8 columns]"
            ]
          },
          "metadata": {},
          "execution_count": 61
        }
      ]
    },
    {
      "cell_type": "code",
      "metadata": {
        "colab": {
          "base_uri": "https://localhost:8080/",
          "height": 455
        },
        "id": "3ErPPebL2RTE",
        "outputId": "c018965e-111a-47ba-98c5-d35e3a82cae5"
      },
      "source": [
        "# Selecionando as informações desejadas\n",
        "grupo_bairros['Valor'].aggregate(['min', 'max', 'sum'])"
      ],
      "execution_count": 62,
      "outputs": [
        {
          "output_type": "execute_result",
          "data": {
            "text/html": [
              "<div>\n",
              "<style scoped>\n",
              "    .dataframe tbody tr th:only-of-type {\n",
              "        vertical-align: middle;\n",
              "    }\n",
              "\n",
              "    .dataframe tbody tr th {\n",
              "        vertical-align: top;\n",
              "    }\n",
              "\n",
              "    .dataframe thead th {\n",
              "        text-align: right;\n",
              "    }\n",
              "</style>\n",
              "<table border=\"1\" class=\"dataframe\">\n",
              "  <thead>\n",
              "    <tr style=\"text-align: right;\">\n",
              "      <th></th>\n",
              "      <th>min</th>\n",
              "      <th>max</th>\n",
              "      <th>sum</th>\n",
              "    </tr>\n",
              "    <tr>\n",
              "      <th>Bairro</th>\n",
              "      <th></th>\n",
              "      <th></th>\n",
              "      <th></th>\n",
              "    </tr>\n",
              "  </thead>\n",
              "  <tbody>\n",
              "    <tr>\n",
              "      <th>Abolição</th>\n",
              "      <td>800.0</td>\n",
              "      <td>2300.0</td>\n",
              "      <td>17930.0</td>\n",
              "    </tr>\n",
              "    <tr>\n",
              "      <th>Alto da Boa Vista</th>\n",
              "      <td>600.0</td>\n",
              "      <td>15000.0</td>\n",
              "      <td>23800.0</td>\n",
              "    </tr>\n",
              "    <tr>\n",
              "      <th>Anchieta</th>\n",
              "      <td>700.0</td>\n",
              "      <td>1000.0</td>\n",
              "      <td>3500.0</td>\n",
              "    </tr>\n",
              "    <tr>\n",
              "      <th>Andaraí</th>\n",
              "      <td>700.0</td>\n",
              "      <td>2950.0</td>\n",
              "      <td>142077.0</td>\n",
              "    </tr>\n",
              "    <tr>\n",
              "      <th>Anil</th>\n",
              "      <td>300.0</td>\n",
              "      <td>7000.0</td>\n",
              "      <td>145470.0</td>\n",
              "    </tr>\n",
              "    <tr>\n",
              "      <th>...</th>\n",
              "      <td>...</td>\n",
              "      <td>...</td>\n",
              "      <td>...</td>\n",
              "    </tr>\n",
              "    <tr>\n",
              "      <th>Vila Valqueire</th>\n",
              "      <td>800.0</td>\n",
              "      <td>16000.0</td>\n",
              "      <td>84940.0</td>\n",
              "    </tr>\n",
              "    <tr>\n",
              "      <th>Vila da Penha</th>\n",
              "      <td>450.0</td>\n",
              "      <td>4500.0</td>\n",
              "      <td>131100.0</td>\n",
              "    </tr>\n",
              "    <tr>\n",
              "      <th>Vista Alegre</th>\n",
              "      <td>700.0</td>\n",
              "      <td>1400.0</td>\n",
              "      <td>17830.0</td>\n",
              "    </tr>\n",
              "    <tr>\n",
              "      <th>Zumbi</th>\n",
              "      <td>1600.0</td>\n",
              "      <td>2700.0</td>\n",
              "      <td>4300.0</td>\n",
              "    </tr>\n",
              "    <tr>\n",
              "      <th>Água Santa</th>\n",
              "      <td>600.0</td>\n",
              "      <td>1200.0</td>\n",
              "      <td>7750.0</td>\n",
              "    </tr>\n",
              "  </tbody>\n",
              "</table>\n",
              "<p>152 rows × 3 columns</p>\n",
              "</div>"
            ],
            "text/plain": [
              "                      min      max       sum\n",
              "Bairro                                      \n",
              "Abolição            800.0   2300.0   17930.0\n",
              "Alto da Boa Vista   600.0  15000.0   23800.0\n",
              "Anchieta            700.0   1000.0    3500.0\n",
              "Andaraí             700.0   2950.0  142077.0\n",
              "Anil                300.0   7000.0  145470.0\n",
              "...                   ...      ...       ...\n",
              "Vila Valqueire      800.0  16000.0   84940.0\n",
              "Vila da Penha       450.0   4500.0  131100.0\n",
              "Vista Alegre        700.0   1400.0   17830.0\n",
              "Zumbi              1600.0   2700.0    4300.0\n",
              "Água Santa          600.0   1200.0    7750.0\n",
              "\n",
              "[152 rows x 3 columns]"
            ]
          },
          "metadata": {},
          "execution_count": 62
        }
      ]
    },
    {
      "cell_type": "code",
      "metadata": {
        "colab": {
          "base_uri": "https://localhost:8080/",
          "height": 455
        },
        "id": "m3MVQeom2jaS",
        "outputId": "4ea2a854-6a6f-4989-ca03-14606fc5af85"
      },
      "source": [
        "# Renomeando as colunas\n",
        "grupo_bairros['Valor'].aggregate(['min', 'max', 'sum']).rename(columns={'min': 'Mínimo', 'max': 'Máximo', 'sum': 'Soma'})"
      ],
      "execution_count": 63,
      "outputs": [
        {
          "output_type": "execute_result",
          "data": {
            "text/html": [
              "<div>\n",
              "<style scoped>\n",
              "    .dataframe tbody tr th:only-of-type {\n",
              "        vertical-align: middle;\n",
              "    }\n",
              "\n",
              "    .dataframe tbody tr th {\n",
              "        vertical-align: top;\n",
              "    }\n",
              "\n",
              "    .dataframe thead th {\n",
              "        text-align: right;\n",
              "    }\n",
              "</style>\n",
              "<table border=\"1\" class=\"dataframe\">\n",
              "  <thead>\n",
              "    <tr style=\"text-align: right;\">\n",
              "      <th></th>\n",
              "      <th>Mínimo</th>\n",
              "      <th>Máximo</th>\n",
              "      <th>Soma</th>\n",
              "    </tr>\n",
              "    <tr>\n",
              "      <th>Bairro</th>\n",
              "      <th></th>\n",
              "      <th></th>\n",
              "      <th></th>\n",
              "    </tr>\n",
              "  </thead>\n",
              "  <tbody>\n",
              "    <tr>\n",
              "      <th>Abolição</th>\n",
              "      <td>800.0</td>\n",
              "      <td>2300.0</td>\n",
              "      <td>17930.0</td>\n",
              "    </tr>\n",
              "    <tr>\n",
              "      <th>Alto da Boa Vista</th>\n",
              "      <td>600.0</td>\n",
              "      <td>15000.0</td>\n",
              "      <td>23800.0</td>\n",
              "    </tr>\n",
              "    <tr>\n",
              "      <th>Anchieta</th>\n",
              "      <td>700.0</td>\n",
              "      <td>1000.0</td>\n",
              "      <td>3500.0</td>\n",
              "    </tr>\n",
              "    <tr>\n",
              "      <th>Andaraí</th>\n",
              "      <td>700.0</td>\n",
              "      <td>2950.0</td>\n",
              "      <td>142077.0</td>\n",
              "    </tr>\n",
              "    <tr>\n",
              "      <th>Anil</th>\n",
              "      <td>300.0</td>\n",
              "      <td>7000.0</td>\n",
              "      <td>145470.0</td>\n",
              "    </tr>\n",
              "    <tr>\n",
              "      <th>...</th>\n",
              "      <td>...</td>\n",
              "      <td>...</td>\n",
              "      <td>...</td>\n",
              "    </tr>\n",
              "    <tr>\n",
              "      <th>Vila Valqueire</th>\n",
              "      <td>800.0</td>\n",
              "      <td>16000.0</td>\n",
              "      <td>84940.0</td>\n",
              "    </tr>\n",
              "    <tr>\n",
              "      <th>Vila da Penha</th>\n",
              "      <td>450.0</td>\n",
              "      <td>4500.0</td>\n",
              "      <td>131100.0</td>\n",
              "    </tr>\n",
              "    <tr>\n",
              "      <th>Vista Alegre</th>\n",
              "      <td>700.0</td>\n",
              "      <td>1400.0</td>\n",
              "      <td>17830.0</td>\n",
              "    </tr>\n",
              "    <tr>\n",
              "      <th>Zumbi</th>\n",
              "      <td>1600.0</td>\n",
              "      <td>2700.0</td>\n",
              "      <td>4300.0</td>\n",
              "    </tr>\n",
              "    <tr>\n",
              "      <th>Água Santa</th>\n",
              "      <td>600.0</td>\n",
              "      <td>1200.0</td>\n",
              "      <td>7750.0</td>\n",
              "    </tr>\n",
              "  </tbody>\n",
              "</table>\n",
              "<p>152 rows × 3 columns</p>\n",
              "</div>"
            ],
            "text/plain": [
              "                   Mínimo   Máximo      Soma\n",
              "Bairro                                      \n",
              "Abolição            800.0   2300.0   17930.0\n",
              "Alto da Boa Vista   600.0  15000.0   23800.0\n",
              "Anchieta            700.0   1000.0    3500.0\n",
              "Andaraí             700.0   2950.0  142077.0\n",
              "Anil                300.0   7000.0  145470.0\n",
              "...                   ...      ...       ...\n",
              "Vila Valqueire      800.0  16000.0   84940.0\n",
              "Vila da Penha       450.0   4500.0  131100.0\n",
              "Vista Alegre        700.0   1400.0   17830.0\n",
              "Zumbi              1600.0   2700.0    4300.0\n",
              "Água Santa          600.0   1200.0    7750.0\n",
              "\n",
              "[152 rows x 3 columns]"
            ]
          },
          "metadata": {},
          "execution_count": 63
        }
      ]
    },
    {
      "cell_type": "code",
      "metadata": {
        "colab": {
          "base_uri": "https://localhost:8080/",
          "height": 527
        },
        "id": "lElS8mhm2x2Q",
        "outputId": "fbe227dd-96b4-4cc7-c97a-b4b0238c0b58"
      },
      "source": [
        "# Visualizando os dados em um gráfico\n",
        "ax = grupo_bairros['Valor'].mean().plot.bar(color='blue')\n",
        "ax.figure.set_size_inches(30, 10)\n",
        "ax.set_title('Valor Médio do Aluguel por Bairro', fontsize=22)\n",
        "ax.set_xlabel('')\n",
        "ax.set_ylabel('Valor do Aluguel', fontsize=14)"
      ],
      "execution_count": 64,
      "outputs": [
        {
          "output_type": "execute_result",
          "data": {
            "text/plain": [
              "Text(0, 0.5, 'Valor do Aluguel')"
            ]
          },
          "metadata": {},
          "execution_count": 64
        },
        {
          "output_type": "display_data",
          "data": {
            "image/png": "[encoded data removed]",
            "text/plain": [
              "<Figure size 2160x720 with 1 Axes>"
            ]
          },
          "metadata": {
            "needs_background": "light"
          }
        }
      ]
    },
    {
      "cell_type": "markdown",
      "metadata": {
        "id": "daOr-DVC3_L9"
      },
      "source": [
        "A visualização do gráfico não está muito boa porque tem muitas informações no eixo x (grande quantidade de bairros)"
      ]
    },
    {
      "cell_type": "code",
      "metadata": {
        "colab": {
          "base_uri": "https://localhost:8080/",
          "height": 535
        },
        "id": "Ofv0b8lb3Vcd",
        "outputId": "4f9afab5-47be-4d36-d888-789592f4fe0d"
      },
      "source": [
        "# Visualizando os dados em um gráfico\n",
        "ax = grupo_bairros['Valor'].max().plot.bar(color='blue')\n",
        "ax.figure.set_size_inches(30, 10)\n",
        "ax.set_title('Valor Máximo do Aluguel por Bairro', fontsize=22)\n",
        "ax.set_xlabel('')\n",
        "ax.set_ylabel('Valor do Aluguel', fontsize=14)"
      ],
      "execution_count": 65,
      "outputs": [
        {
          "output_type": "execute_result",
          "data": {
            "text/plain": [
              "Text(0, 0.5, 'Valor do Aluguel')"
            ]
          },
          "metadata": {},
          "execution_count": 65
        },
        {
          "output_type": "display_data",
          "data": {
            "image/png": "[encoded data removed]",
            "text/plain": [
              "<Figure size 2160x720 with 1 Axes>"
            ]
          },
          "metadata": {
            "needs_background": "light"
          }
        }
      ]
    },
    {
      "cell_type": "markdown",
      "metadata": {
        "id": "vHi5NhDf4Zm1"
      },
      "source": [
        "A visualização do gráfico está ruim também porque tem muitos dados, mas também porque tem quatro bairros com valores máximos muito maiores que os demais, o que deixa as barras dos outros bairros muito pequenas e difícil de visualizar."
      ]
    },
    {
      "cell_type": "markdown",
      "metadata": {
        "id": "3ZMUGYy741YT"
      },
      "source": [
        "#### Identificando e removendo Outliers"
      ]
    },
    {
      "cell_type": "code",
      "metadata": {
        "colab": {
          "base_uri": "https://localhost:8080/",
          "height": 293
        },
        "id": "1Y4FsjfD4RgB",
        "outputId": "20b8f86d-d9ac-4838-b900-8e298d04ecf2"
      },
      "source": [
        "dados_residencial.boxplot(['Valor'])"
      ],
      "execution_count": 66,
      "outputs": [
        {
          "output_type": "execute_result",
          "data": {
            "text/plain": [
              "<matplotlib.axes._subplots.AxesSubplot at 0x7fa62517ad10>"
            ]
          },
          "metadata": {},
          "execution_count": 66
        },
        {
          "output_type": "display_data",
          "data": {
            "image/png": "[encoded data removed]",
            "text/plain": [
              "<Figure size 432x288 with 1 Axes>"
            ]
          },
          "metadata": {
            "needs_background": "light"
          }
        }
      ]
    },
    {
      "cell_type": "markdown",
      "metadata": {
        "id": "wn_Gd3B25L2k"
      },
      "source": [
        "Não é possível analisar a distribuição dos valores de aluguel por conta dos valores discrepantes, muito acima dos demais valores. Pode-se observar que os dados indicam que há imóveis com valores de aluguel acima de 500000, o que é absurdo. Esses valores possivelmente devem ser referentes ao valor de compra dos imóveis. Mas vamos analisar essas informações."
      ]
    },
    {
      "cell_type": "code",
      "metadata": {
        "colab": {
          "base_uri": "https://localhost:8080/",
          "height": 206
        },
        "id": "Drr6J2NW4-ql",
        "outputId": "c8f88649-b9de-49cc-cc96-a9014005a97d"
      },
      "source": [
        "dados_residencial[dados_residencial['Valor'] >= 500000]"
      ],
      "execution_count": 67,
      "outputs": [
        {
          "output_type": "execute_result",
          "data": {
            "text/html": [
              "<div>\n",
              "<style scoped>\n",
              "    .dataframe tbody tr th:only-of-type {\n",
              "        vertical-align: middle;\n",
              "    }\n",
              "\n",
              "    .dataframe tbody tr th {\n",
              "        vertical-align: top;\n",
              "    }\n",
              "\n",
              "    .dataframe thead th {\n",
              "        text-align: right;\n",
              "    }\n",
              "</style>\n",
              "<table border=\"1\" class=\"dataframe\">\n",
              "  <thead>\n",
              "    <tr style=\"text-align: right;\">\n",
              "      <th></th>\n",
              "      <th>Tipo</th>\n",
              "      <th>Bairro</th>\n",
              "      <th>Quartos</th>\n",
              "      <th>Vagas</th>\n",
              "      <th>Suites</th>\n",
              "      <th>Area</th>\n",
              "      <th>Valor</th>\n",
              "      <th>Condominio</th>\n",
              "      <th>IPTU</th>\n",
              "      <th>Valor/m²</th>\n",
              "      <th>Tipo Agregado</th>\n",
              "    </tr>\n",
              "  </thead>\n",
              "  <tbody>\n",
              "    <tr>\n",
              "      <th>7595</th>\n",
              "      <td>Apartamento</td>\n",
              "      <td>Barra da Tijuca</td>\n",
              "      <td>1</td>\n",
              "      <td>1</td>\n",
              "      <td>0</td>\n",
              "      <td>65</td>\n",
              "      <td>600000.0</td>\n",
              "      <td>980.0</td>\n",
              "      <td>120.0</td>\n",
              "      <td>9230.77</td>\n",
              "      <td>Apartamento</td>\n",
              "    </tr>\n",
              "    <tr>\n",
              "      <th>10596</th>\n",
              "      <td>Casa de Condomínio</td>\n",
              "      <td>Freguesia (Jacarepaguá)</td>\n",
              "      <td>4</td>\n",
              "      <td>2</td>\n",
              "      <td>3</td>\n",
              "      <td>163</td>\n",
              "      <td>800000.0</td>\n",
              "      <td>900.0</td>\n",
              "      <td>0.0</td>\n",
              "      <td>4907.98</td>\n",
              "      <td>Casa</td>\n",
              "    </tr>\n",
              "    <tr>\n",
              "      <th>12611</th>\n",
              "      <td>Apartamento</td>\n",
              "      <td>Freguesia (Jacarepaguá)</td>\n",
              "      <td>2</td>\n",
              "      <td>2</td>\n",
              "      <td>1</td>\n",
              "      <td>150</td>\n",
              "      <td>550000.0</td>\n",
              "      <td>850.0</td>\n",
              "      <td>150.0</td>\n",
              "      <td>3666.67</td>\n",
              "      <td>Apartamento</td>\n",
              "    </tr>\n",
              "    <tr>\n",
              "      <th>13791</th>\n",
              "      <td>Apartamento</td>\n",
              "      <td>Recreio dos Bandeirantes</td>\n",
              "      <td>3</td>\n",
              "      <td>2</td>\n",
              "      <td>1</td>\n",
              "      <td>167</td>\n",
              "      <td>1250000.0</td>\n",
              "      <td>1186.0</td>\n",
              "      <td>320.0</td>\n",
              "      <td>7485.03</td>\n",
              "      <td>Apartamento</td>\n",
              "    </tr>\n",
              "    <tr>\n",
              "      <th>15459</th>\n",
              "      <td>Apartamento</td>\n",
              "      <td>Botafogo</td>\n",
              "      <td>4</td>\n",
              "      <td>1</td>\n",
              "      <td>1</td>\n",
              "      <td>300</td>\n",
              "      <td>4500000.0</td>\n",
              "      <td>1100.0</td>\n",
              "      <td>0.0</td>\n",
              "      <td>15000.00</td>\n",
              "      <td>Apartamento</td>\n",
              "    </tr>\n",
              "  </tbody>\n",
              "</table>\n",
              "</div>"
            ],
            "text/plain": [
              "                     Tipo                    Bairro  ...  Valor/m²  Tipo Agregado\n",
              "7595          Apartamento           Barra da Tijuca  ...   9230.77    Apartamento\n",
              "10596  Casa de Condomínio   Freguesia (Jacarepaguá)  ...   4907.98           Casa\n",
              "12611         Apartamento   Freguesia (Jacarepaguá)  ...   3666.67    Apartamento\n",
              "13791         Apartamento  Recreio dos Bandeirantes  ...   7485.03    Apartamento\n",
              "15459         Apartamento                  Botafogo  ...  15000.00    Apartamento\n",
              "\n",
              "[5 rows x 11 columns]"
            ]
          },
          "metadata": {},
          "execution_count": 67
        }
      ]
    },
    {
      "cell_type": "markdown",
      "metadata": {
        "id": "PRG-ac806lK0"
      },
      "source": [
        "Montando um novo boxplot com os valores removendo os outliers"
      ]
    },
    {
      "cell_type": "code",
      "metadata": {
        "id": "08Aa1szM6Zpi"
      },
      "source": [
        "# Salvando os valores em uma variável\n",
        "valor = dados['Valor']"
      ],
      "execution_count": 68,
      "outputs": []
    },
    {
      "cell_type": "code",
      "metadata": {
        "id": "lGhNbPTQ6zTX"
      },
      "source": [
        "# Estabelecendo os intervalos de valores do boxplot \n",
        "Q1 = valor.quantile(.25)\n",
        "Q3 = valor.quantile(.75)\n",
        "IIQ = Q3 - Q1\n",
        "\n",
        "# Estabelecendo os valores limites do boxplot\n",
        "limite_inferior = Q1 - 1.5 * IIQ\n",
        "limite_superior = Q3 + 1.5 * IIQ"
      ],
      "execution_count": 69,
      "outputs": []
    },
    {
      "cell_type": "code",
      "metadata": {
        "id": "xPtjKyLx7Nxc"
      },
      "source": [
        "# Selecionando os valores de acordo com os limites \n",
        "selecao = (valor >= limite_inferior) & (valor <= limite_superior)\n",
        "novos_dados = dados[selecao]"
      ],
      "execution_count": 70,
      "outputs": []
    },
    {
      "cell_type": "markdown",
      "metadata": {
        "id": "EMWFBuW-7b83"
      },
      "source": [
        "Fazendo um novo boxplot com os dados selecionados"
      ]
    },
    {
      "cell_type": "code",
      "metadata": {
        "colab": {
          "base_uri": "https://localhost:8080/",
          "height": 483
        },
        "id": "F0MPGfY87ad5",
        "outputId": "b18e3e82-f81b-4ff2-f570-3439f40a20fe"
      },
      "source": [
        "ax = novos_dados.boxplot(['Valor'])\n",
        "ax.figure.set_size_inches(16, 8)"
      ],
      "execution_count": 71,
      "outputs": [
        {
          "output_type": "display_data",
          "data": {
            "image/png": "[encoded data removed]",
            "text/plain": [
              "<Figure size 1152x576 with 1 Axes>"
            ]
          },
          "metadata": {
            "needs_background": "light"
          }
        }
      ]
    },
    {
      "cell_type": "markdown",
      "metadata": {
        "id": "MBwJ_ZvO75px"
      },
      "source": [
        "Construindo um histograma com os valores antes e depois da seleção"
      ]
    },
    {
      "cell_type": "code",
      "metadata": {
        "colab": {
          "base_uri": "https://localhost:8080/",
          "height": 403
        },
        "id": "t6VPuPZW7nIs",
        "outputId": "fab29362-1f68-4689-afb7-767595ef33b5"
      },
      "source": [
        "# Histograma antes da seleção\n",
        "ax = dados_residencial.hist(['Valor'], figsize=(12,6))"
      ],
      "execution_count": 72,
      "outputs": [
        {
          "output_type": "display_data",
          "data": {
            "image/png": "[encoded data removed]",
            "text/plain": [
              "<Figure size 864x432 with 1 Axes>"
            ]
          },
          "metadata": {
            "needs_background": "light"
          }
        }
      ]
    },
    {
      "cell_type": "code",
      "metadata": {
        "colab": {
          "base_uri": "https://localhost:8080/",
          "height": 390
        },
        "id": "7F3BZwwT8Gov",
        "outputId": "611cb2f1-626e-4683-a446-35072e5b1fd6"
      },
      "source": [
        "# Histograma depois da seleção\n",
        "ax = novos_dados.hist(['Valor'], figsize=(12,6))"
      ],
      "execution_count": 73,
      "outputs": [
        {
          "output_type": "display_data",
          "data": {
            "image/png": "[encoded data removed]",
            "text/plain": [
              "<Figure size 864x432 with 1 Axes>"
            ]
          },
          "metadata": {
            "needs_background": "light"
          }
        }
      ]
    },
    {
      "cell_type": "markdown",
      "metadata": {
        "id": "t7u3HTsk9ATR"
      },
      "source": [
        "Fazendo o mesmo procedimento de remoção de outliers para cada tipo de imóvel"
      ]
    },
    {
      "cell_type": "code",
      "metadata": {
        "colab": {
          "base_uri": "https://localhost:8080/",
          "height": 475
        },
        "id": "JQUtMPfx8zrU",
        "outputId": "f27237b4-f3aa-4804-a79f-dc2682124ea1"
      },
      "source": [
        "ax = dados_residencial.boxplot(['Valor'], by=['Tipo'])\n",
        "ax.figure.set_size_inches(12, 6)"
      ],
      "execution_count": 74,
      "outputs": [
        {
          "output_type": "stream",
          "name": "stderr",
          "text": [
            "/usr/local/lib/python3.7/dist-packages/numpy/core/_asarray.py:83: VisibleDeprecationWarning: Creating an ndarray from ragged nested sequences (which is a list-or-tuple of lists-or-tuples-or ndarrays with different lengths or shapes) is deprecated. If you meant to do this, you must specify 'dtype=object' when creating the ndarray\n",
            "  return array(a, dtype, copy=False, order=order)\n"
          ]
        },
        {
          "output_type": "display_data",
          "data": {
            "image/png": "[encoded data removed]",
            "text/plain": [
              "<Figure size 864x432 with 1 Axes>"
            ]
          },
          "metadata": {
            "needs_background": "light"
          }
        }
      ]
    },
    {
      "cell_type": "code",
      "metadata": {
        "id": "5MgvORj99POL"
      },
      "source": [
        "# Agrupando por tipo de imóvel\n",
        "grupo_tipo = dados_residencial.groupby('Tipo')['Valor']"
      ],
      "execution_count": 75,
      "outputs": []
    },
    {
      "cell_type": "code",
      "metadata": {
        "id": "BgjrZ-gL9jAo"
      },
      "source": [
        "# Estabelecendo os intervalos de valores do boxplot \n",
        "Q1 = grupo_tipo.quantile(.25)\n",
        "Q3 = grupo_tipo.quantile(.75)\n",
        "IIQ = Q3 - Q1\n",
        "\n",
        "# Estabelecendo os valores limites do boxplot\n",
        "limite_inferior = Q1 - 1.5 * IIQ\n",
        "limite_superior = Q3 + 1.5 * IIQ"
      ],
      "execution_count": 76,
      "outputs": []
    },
    {
      "cell_type": "code",
      "metadata": {
        "id": "toCwx5EK9yme"
      },
      "source": [
        "# Criando um novo DataFrame com os dados selecionados\n",
        "\n",
        "# DataFrame vazio\n",
        "novos_dados = pd.DataFrame()\n",
        "\n",
        "# Iterando por cada tipo de imóvel\n",
        "for tipo in grupo_tipo.groups.keys():\n",
        "  # Cria uma Series marcando True se for o tipo atual da iteração e False se não for\n",
        "  eh_tipo = dados_residencial['Tipo'] == tipo\n",
        "  # Cria uma Series marcando True se estiver dentro do limite e False se estiver fora\n",
        "  eh_dentro_limite = (dados_residencial['Valor'] >= limite_inferior[tipo]) & (dados_residencial['Valor'] <= limite_superior[tipo])\n",
        "  # Cria uma Series marcando True para quando as duas variáveis forem True e False caso contrário\n",
        "  selecao = eh_tipo & eh_dentro_limite\n",
        "  # Faz a seleção dos dados marcando True e salva em uma outra variável\n",
        "  dados_selecao = dados_residencial[selecao]\n",
        "  # Adiciona os dados selecionado no DataFrame criado\n",
        "  novos_dados = pd.concat([novos_dados, dados_selecao])"
      ],
      "execution_count": 77,
      "outputs": []
    },
    {
      "cell_type": "code",
      "metadata": {
        "colab": {
          "base_uri": "https://localhost:8080/",
          "height": 206
        },
        "id": "fJltwAKs-fFa",
        "outputId": "70d0a0c1-56e2-41e6-ca3e-3261b4293d6d"
      },
      "source": [
        "# Visualizando o DataFrame criado\n",
        "novos_dados.head()"
      ],
      "execution_count": 78,
      "outputs": [
        {
          "output_type": "execute_result",
          "data": {
            "text/html": [
              "<div>\n",
              "<style scoped>\n",
              "    .dataframe tbody tr th:only-of-type {\n",
              "        vertical-align: middle;\n",
              "    }\n",
              "\n",
              "    .dataframe tbody tr th {\n",
              "        vertical-align: top;\n",
              "    }\n",
              "\n",
              "    .dataframe thead th {\n",
              "        text-align: right;\n",
              "    }\n",
              "</style>\n",
              "<table border=\"1\" class=\"dataframe\">\n",
              "  <thead>\n",
              "    <tr style=\"text-align: right;\">\n",
              "      <th></th>\n",
              "      <th>Tipo</th>\n",
              "      <th>Bairro</th>\n",
              "      <th>Quartos</th>\n",
              "      <th>Vagas</th>\n",
              "      <th>Suites</th>\n",
              "      <th>Area</th>\n",
              "      <th>Valor</th>\n",
              "      <th>Condominio</th>\n",
              "      <th>IPTU</th>\n",
              "      <th>Valor/m²</th>\n",
              "      <th>Tipo Agregado</th>\n",
              "    </tr>\n",
              "  </thead>\n",
              "  <tbody>\n",
              "    <tr>\n",
              "      <th>2</th>\n",
              "      <td>Apartamento</td>\n",
              "      <td>Centro</td>\n",
              "      <td>1</td>\n",
              "      <td>0</td>\n",
              "      <td>0</td>\n",
              "      <td>15</td>\n",
              "      <td>800.0</td>\n",
              "      <td>390.0</td>\n",
              "      <td>20.0</td>\n",
              "      <td>53.33</td>\n",
              "      <td>Apartamento</td>\n",
              "    </tr>\n",
              "    <tr>\n",
              "      <th>3</th>\n",
              "      <td>Apartamento</td>\n",
              "      <td>Higienópolis</td>\n",
              "      <td>1</td>\n",
              "      <td>0</td>\n",
              "      <td>0</td>\n",
              "      <td>48</td>\n",
              "      <td>800.0</td>\n",
              "      <td>230.0</td>\n",
              "      <td>0.0</td>\n",
              "      <td>16.67</td>\n",
              "      <td>Apartamento</td>\n",
              "    </tr>\n",
              "    <tr>\n",
              "      <th>4</th>\n",
              "      <td>Apartamento</td>\n",
              "      <td>Cachambi</td>\n",
              "      <td>2</td>\n",
              "      <td>0</td>\n",
              "      <td>0</td>\n",
              "      <td>50</td>\n",
              "      <td>1300.0</td>\n",
              "      <td>301.0</td>\n",
              "      <td>17.0</td>\n",
              "      <td>26.00</td>\n",
              "      <td>Apartamento</td>\n",
              "    </tr>\n",
              "    <tr>\n",
              "      <th>5</th>\n",
              "      <td>Apartamento</td>\n",
              "      <td>Grajaú</td>\n",
              "      <td>2</td>\n",
              "      <td>1</td>\n",
              "      <td>0</td>\n",
              "      <td>70</td>\n",
              "      <td>1500.0</td>\n",
              "      <td>642.0</td>\n",
              "      <td>74.0</td>\n",
              "      <td>21.43</td>\n",
              "      <td>Apartamento</td>\n",
              "    </tr>\n",
              "    <tr>\n",
              "      <th>6</th>\n",
              "      <td>Apartamento</td>\n",
              "      <td>Lins de Vasconcelos</td>\n",
              "      <td>3</td>\n",
              "      <td>1</td>\n",
              "      <td>1</td>\n",
              "      <td>90</td>\n",
              "      <td>1500.0</td>\n",
              "      <td>455.0</td>\n",
              "      <td>14.0</td>\n",
              "      <td>16.67</td>\n",
              "      <td>Apartamento</td>\n",
              "    </tr>\n",
              "  </tbody>\n",
              "</table>\n",
              "</div>"
            ],
            "text/plain": [
              "          Tipo               Bairro  Quartos  ...  IPTU  Valor/m²  Tipo Agregado\n",
              "2  Apartamento               Centro        1  ...  20.0     53.33    Apartamento\n",
              "3  Apartamento         Higienópolis        1  ...   0.0     16.67    Apartamento\n",
              "4  Apartamento             Cachambi        2  ...  17.0     26.00    Apartamento\n",
              "5  Apartamento               Grajaú        2  ...  74.0     21.43    Apartamento\n",
              "6  Apartamento  Lins de Vasconcelos        3  ...  14.0     16.67    Apartamento\n",
              "\n",
              "[5 rows x 11 columns]"
            ]
          },
          "metadata": {},
          "execution_count": 78
        }
      ]
    },
    {
      "cell_type": "code",
      "metadata": {
        "colab": {
          "base_uri": "https://localhost:8080/",
          "height": 595
        },
        "id": "N9CQiaaZ-fmD",
        "outputId": "901dd278-f481-4625-de71-bfa436213e0d"
      },
      "source": [
        "# Fazendo o boxplot com os dados tratados\n",
        "ax = novos_dados.boxplot(['Valor'], by=['Tipo'])\n",
        "ax.figure.set_size_inches(16, 8)"
      ],
      "execution_count": 79,
      "outputs": [
        {
          "output_type": "stream",
          "name": "stderr",
          "text": [
            "/usr/local/lib/python3.7/dist-packages/numpy/core/_asarray.py:83: VisibleDeprecationWarning: Creating an ndarray from ragged nested sequences (which is a list-or-tuple of lists-or-tuples-or ndarrays with different lengths or shapes) is deprecated. If you meant to do this, you must specify 'dtype=object' when creating the ndarray\n",
            "  return array(a, dtype, copy=False, order=order)\n"
          ]
        },
        {
          "output_type": "display_data",
          "data": {
            "image/png": "[encoded data removed]",
            "text/plain": [
              "<Figure size 1152x576 with 1 Axes>"
            ]
          },
          "metadata": {
            "needs_background": "light"
          }
        }
      ]
    },
    {
      "cell_type": "code",
      "metadata": {
        "id": "XvdUpip_AQZi"
      },
      "source": [
        ""
      ],
      "execution_count": 79,
      "outputs": []
    }
  ]
}