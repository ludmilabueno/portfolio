{
  "nbformat": 4,
  "nbformat_minor": 0,
  "metadata": {
    "colab": {
      "name": "alura_pandas_tratamento_e_analise_dados.ipynb",
      "provenance": []
    },
    "kernelspec": {
      "name": "python3",
      "display_name": "Python 3"
    },
    "language_info": {
      "name": "python"
    }
  },
  "cells": [
    {
      "cell_type": "markdown",
      "metadata": {
        "id": "onODqMC909LZ"
      },
      "source": [
        "#### Bibliotecas"
      ]
    },
    {
      "cell_type": "code",
      "metadata": {
        "id": "H6mDCYIT1CLD"
      },
      "source": [
        "# Manipulação de dados\n",
        "import pandas as pd"
      ],
      "execution_count": 1,
      "outputs": []
    },
    {
      "cell_type": "markdown",
      "metadata": {
        "id": "4pIdhW8K02Qe"
      },
      "source": [
        "#### Importando a base de dados"
      ]
    },
    {
      "cell_type": "code",
      "metadata": {
        "id": "ocD6vneY0DMV"
      },
      "source": [
        "dados = pd.read_csv('aluguel.csv', sep=';')"
      ],
      "execution_count": 2,
      "outputs": []
    },
    {
      "cell_type": "code",
      "metadata": {
        "colab": {
          "base_uri": "https://localhost:8080/",
          "height": 206
        },
        "id": "mUPyMHQ81iWi",
        "outputId": "1076d7c8-b70e-411f-d4a7-8dc6b82dc734"
      },
      "source": [
        "# Mostrando a parte inicial dos dados\n",
        "dados.head()"
      ],
      "execution_count": 3,
      "outputs": [
        {
          "output_type": "execute_result",
          "data": {
            "text/html": [
              "<div>\n",
              "<style scoped>\n",
              "    .dataframe tbody tr th:only-of-type {\n",
              "        vertical-align: middle;\n",
              "    }\n",
              "\n",
              "    .dataframe tbody tr th {\n",
              "        vertical-align: top;\n",
              "    }\n",
              "\n",
              "    .dataframe thead th {\n",
              "        text-align: right;\n",
              "    }\n",
              "</style>\n",
              "<table border=\"1\" class=\"dataframe\">\n",
              "  <thead>\n",
              "    <tr style=\"text-align: right;\">\n",
              "      <th></th>\n",
              "      <th>Tipo</th>\n",
              "      <th>Bairro</th>\n",
              "      <th>Quartos</th>\n",
              "      <th>Vagas</th>\n",
              "      <th>Suites</th>\n",
              "      <th>Area</th>\n",
              "      <th>Valor</th>\n",
              "      <th>Condominio</th>\n",
              "      <th>IPTU</th>\n",
              "    </tr>\n",
              "  </thead>\n",
              "  <tbody>\n",
              "    <tr>\n",
              "      <th>0</th>\n",
              "      <td>Quitinete</td>\n",
              "      <td>Copacabana</td>\n",
              "      <td>1</td>\n",
              "      <td>0</td>\n",
              "      <td>0</td>\n",
              "      <td>40</td>\n",
              "      <td>1700.0</td>\n",
              "      <td>500.0</td>\n",
              "      <td>60.0</td>\n",
              "    </tr>\n",
              "    <tr>\n",
              "      <th>1</th>\n",
              "      <td>Casa</td>\n",
              "      <td>Jardim Botânico</td>\n",
              "      <td>2</td>\n",
              "      <td>0</td>\n",
              "      <td>1</td>\n",
              "      <td>100</td>\n",
              "      <td>7000.0</td>\n",
              "      <td>NaN</td>\n",
              "      <td>NaN</td>\n",
              "    </tr>\n",
              "    <tr>\n",
              "      <th>2</th>\n",
              "      <td>Conjunto Comercial/Sala</td>\n",
              "      <td>Barra da Tijuca</td>\n",
              "      <td>0</td>\n",
              "      <td>4</td>\n",
              "      <td>0</td>\n",
              "      <td>150</td>\n",
              "      <td>5200.0</td>\n",
              "      <td>4020.0</td>\n",
              "      <td>1111.0</td>\n",
              "    </tr>\n",
              "    <tr>\n",
              "      <th>3</th>\n",
              "      <td>Apartamento</td>\n",
              "      <td>Centro</td>\n",
              "      <td>1</td>\n",
              "      <td>0</td>\n",
              "      <td>0</td>\n",
              "      <td>15</td>\n",
              "      <td>800.0</td>\n",
              "      <td>390.0</td>\n",
              "      <td>20.0</td>\n",
              "    </tr>\n",
              "    <tr>\n",
              "      <th>4</th>\n",
              "      <td>Apartamento</td>\n",
              "      <td>Higienópolis</td>\n",
              "      <td>1</td>\n",
              "      <td>0</td>\n",
              "      <td>0</td>\n",
              "      <td>48</td>\n",
              "      <td>800.0</td>\n",
              "      <td>230.0</td>\n",
              "      <td>NaN</td>\n",
              "    </tr>\n",
              "  </tbody>\n",
              "</table>\n",
              "</div>"
            ],
            "text/plain": [
              "                      Tipo           Bairro  ...  Condominio    IPTU\n",
              "0                Quitinete       Copacabana  ...       500.0    60.0\n",
              "1                     Casa  Jardim Botânico  ...         NaN     NaN\n",
              "2  Conjunto Comercial/Sala  Barra da Tijuca  ...      4020.0  1111.0\n",
              "3              Apartamento           Centro  ...       390.0    20.0\n",
              "4              Apartamento     Higienópolis  ...       230.0     NaN\n",
              "\n",
              "[5 rows x 9 columns]"
            ]
          },
          "metadata": {},
          "execution_count": 3
        }
      ]
    },
    {
      "cell_type": "markdown",
      "metadata": {
        "id": "MoNVNoyE1zCa"
      },
      "source": [
        "#### Analisando informações gerais sobre a base de dados"
      ]
    },
    {
      "cell_type": "code",
      "metadata": {
        "colab": {
          "base_uri": "https://localhost:8080/"
        },
        "id": "F2ToEpNb1pGC",
        "outputId": "0c925dde-f402-40cf-84e6-db0db38f8f1e"
      },
      "source": [
        "# Quantidades de dados não-nulos e tipos de variáveis em cada coluna\n",
        "dados.info()"
      ],
      "execution_count": 4,
      "outputs": [
        {
          "output_type": "stream",
          "name": "stdout",
          "text": [
            "<class 'pandas.core.frame.DataFrame'>\n",
            "RangeIndex: 32960 entries, 0 to 32959\n",
            "Data columns (total 9 columns):\n",
            " #   Column      Non-Null Count  Dtype  \n",
            "---  ------      --------------  -----  \n",
            " 0   Tipo        32960 non-null  object \n",
            " 1   Bairro      32960 non-null  object \n",
            " 2   Quartos     32960 non-null  int64  \n",
            " 3   Vagas       32960 non-null  int64  \n",
            " 4   Suites      32960 non-null  int64  \n",
            " 5   Area        32960 non-null  int64  \n",
            " 6   Valor       32943 non-null  float64\n",
            " 7   Condominio  28867 non-null  float64\n",
            " 8   IPTU        22723 non-null  float64\n",
            "dtypes: float64(3), int64(4), object(2)\n",
            "memory usage: 2.3+ MB\n"
          ]
        }
      ]
    },
    {
      "cell_type": "code",
      "metadata": {
        "colab": {
          "base_uri": "https://localhost:8080/"
        },
        "id": "zqtA3mGg184w",
        "outputId": "6c589b28-7896-4254-aaa8-02b86ab49196"
      },
      "source": [
        "# Tamanho da base de dados\n",
        "dados.shape"
      ],
      "execution_count": 5,
      "outputs": [
        {
          "output_type": "execute_result",
          "data": {
            "text/plain": [
              "(32960, 9)"
            ]
          },
          "metadata": {},
          "execution_count": 5
        }
      ]
    },
    {
      "cell_type": "code",
      "metadata": {
        "colab": {
          "base_uri": "https://localhost:8080/"
        },
        "id": "jmJEMbGI2XVn",
        "outputId": "c86b0182-2579-4f7d-d4c6-df18beac43fe"
      },
      "source": [
        "print('A base de dados apresenta {} imóveis registrados e {} variáveis'.format(dados.shape[0], dados.shape[1]))"
      ],
      "execution_count": 6,
      "outputs": [
        {
          "output_type": "stream",
          "name": "stdout",
          "text": [
            "A base de dados apresenta 32960 imóveis registrados e 9 variáveis\n"
          ]
        }
      ]
    },
    {
      "cell_type": "markdown",
      "metadata": {
        "id": "gIZGh07R2x-E"
      },
      "source": [
        "#### Analisando os tipos de imóveis presentes na base de dados"
      ]
    },
    {
      "cell_type": "code",
      "metadata": {
        "colab": {
          "base_uri": "https://localhost:8080/"
        },
        "id": "MGx1ZMo82mme",
        "outputId": "6c28c696-df99-4816-a09d-b401bf218b07"
      },
      "source": [
        "# Visualizandoo os tipos de imóveis e a quantidade de cada um deles na base de dados\n",
        "dados['Tipo'].value_counts()"
      ],
      "execution_count": 7,
      "outputs": [
        {
          "output_type": "execute_result",
          "data": {
            "text/plain": [
              "Apartamento                    19532\n",
              "Conjunto Comercial/Sala         6815\n",
              "Loja/Salão                      1426\n",
              "Casa de Condomínio               996\n",
              "Casa                             967\n",
              "Quitinete                        836\n",
              "Galpão/Depósito/Armazém          623\n",
              "Flat                             476\n",
              "Prédio Inteiro                   301\n",
              "Casa Comercial                   265\n",
              "Casa de Vila                     249\n",
              "Loja Shopping/ Ct Comercial      247\n",
              "Box/Garagem                       82\n",
              "Terreno Padrão                    70\n",
              "Loft                              51\n",
              "Sítio                             10\n",
              "Loteamento/Condomínio              5\n",
              "Studio                             4\n",
              "Hotel                              2\n",
              "Indústria                          1\n",
              "Chácara                            1\n",
              "Pousada/Chalé                      1\n",
              "Name: Tipo, dtype: int64"
            ]
          },
          "metadata": {},
          "execution_count": 7
        }
      ]
    },
    {
      "cell_type": "code",
      "metadata": {
        "id": "yFwjYakp26w_"
      },
      "source": [
        "# Organizando a visualização dos tipos de imóveis\n",
        "tipo_de_imovel = pd.DataFrame(dados['Tipo'].value_counts())"
      ],
      "execution_count": 8,
      "outputs": []
    },
    {
      "cell_type": "code",
      "metadata": {
        "id": "y_oV6xpz3ohU"
      },
      "source": [
        "# Ajustando o index\n",
        "tipo_de_imovel.reset_index(inplace=True)"
      ],
      "execution_count": 9,
      "outputs": []
    },
    {
      "cell_type": "code",
      "metadata": {
        "colab": {
          "base_uri": "https://localhost:8080/",
          "height": 206
        },
        "id": "Khbzb7gu4CA9",
        "outputId": "01686806-12e2-41a2-a517-15809ede9f6c"
      },
      "source": [
        "tipo_de_imovel.head()"
      ],
      "execution_count": 10,
      "outputs": [
        {
          "output_type": "execute_result",
          "data": {
            "text/html": [
              "<div>\n",
              "<style scoped>\n",
              "    .dataframe tbody tr th:only-of-type {\n",
              "        vertical-align: middle;\n",
              "    }\n",
              "\n",
              "    .dataframe tbody tr th {\n",
              "        vertical-align: top;\n",
              "    }\n",
              "\n",
              "    .dataframe thead th {\n",
              "        text-align: right;\n",
              "    }\n",
              "</style>\n",
              "<table border=\"1\" class=\"dataframe\">\n",
              "  <thead>\n",
              "    <tr style=\"text-align: right;\">\n",
              "      <th></th>\n",
              "      <th>index</th>\n",
              "      <th>Tipo</th>\n",
              "    </tr>\n",
              "  </thead>\n",
              "  <tbody>\n",
              "    <tr>\n",
              "      <th>0</th>\n",
              "      <td>Apartamento</td>\n",
              "      <td>19532</td>\n",
              "    </tr>\n",
              "    <tr>\n",
              "      <th>1</th>\n",
              "      <td>Conjunto Comercial/Sala</td>\n",
              "      <td>6815</td>\n",
              "    </tr>\n",
              "    <tr>\n",
              "      <th>2</th>\n",
              "      <td>Loja/Salão</td>\n",
              "      <td>1426</td>\n",
              "    </tr>\n",
              "    <tr>\n",
              "      <th>3</th>\n",
              "      <td>Casa de Condomínio</td>\n",
              "      <td>996</td>\n",
              "    </tr>\n",
              "    <tr>\n",
              "      <th>4</th>\n",
              "      <td>Casa</td>\n",
              "      <td>967</td>\n",
              "    </tr>\n",
              "  </tbody>\n",
              "</table>\n",
              "</div>"
            ],
            "text/plain": [
              "                     index   Tipo\n",
              "0              Apartamento  19532\n",
              "1  Conjunto Comercial/Sala   6815\n",
              "2               Loja/Salão   1426\n",
              "3       Casa de Condomínio    996\n",
              "4                     Casa    967"
            ]
          },
          "metadata": {},
          "execution_count": 10
        }
      ]
    },
    {
      "cell_type": "code",
      "metadata": {
        "id": "cDxTQWfY3pxW"
      },
      "source": [
        "# Renomeando as colunas\n",
        "tipo_de_imovel.rename(columns={'index': 'Tipo', 'Tipo': 'Quantidade'}, inplace=True)"
      ],
      "execution_count": 11,
      "outputs": []
    },
    {
      "cell_type": "code",
      "metadata": {
        "colab": {
          "base_uri": "https://localhost:8080/",
          "height": 739
        },
        "id": "e8MzWvJt4KNF",
        "outputId": "006964b7-10bf-4f35-b47f-560752c1b49c"
      },
      "source": [
        "# Visualização do DataFrame ajustado\n",
        "tipo_de_imovel"
      ],
      "execution_count": 12,
      "outputs": [
        {
          "output_type": "execute_result",
          "data": {
            "text/html": [
              "<div>\n",
              "<style scoped>\n",
              "    .dataframe tbody tr th:only-of-type {\n",
              "        vertical-align: middle;\n",
              "    }\n",
              "\n",
              "    .dataframe tbody tr th {\n",
              "        vertical-align: top;\n",
              "    }\n",
              "\n",
              "    .dataframe thead th {\n",
              "        text-align: right;\n",
              "    }\n",
              "</style>\n",
              "<table border=\"1\" class=\"dataframe\">\n",
              "  <thead>\n",
              "    <tr style=\"text-align: right;\">\n",
              "      <th></th>\n",
              "      <th>Tipo</th>\n",
              "      <th>Quantidade</th>\n",
              "    </tr>\n",
              "  </thead>\n",
              "  <tbody>\n",
              "    <tr>\n",
              "      <th>0</th>\n",
              "      <td>Apartamento</td>\n",
              "      <td>19532</td>\n",
              "    </tr>\n",
              "    <tr>\n",
              "      <th>1</th>\n",
              "      <td>Conjunto Comercial/Sala</td>\n",
              "      <td>6815</td>\n",
              "    </tr>\n",
              "    <tr>\n",
              "      <th>2</th>\n",
              "      <td>Loja/Salão</td>\n",
              "      <td>1426</td>\n",
              "    </tr>\n",
              "    <tr>\n",
              "      <th>3</th>\n",
              "      <td>Casa de Condomínio</td>\n",
              "      <td>996</td>\n",
              "    </tr>\n",
              "    <tr>\n",
              "      <th>4</th>\n",
              "      <td>Casa</td>\n",
              "      <td>967</td>\n",
              "    </tr>\n",
              "    <tr>\n",
              "      <th>5</th>\n",
              "      <td>Quitinete</td>\n",
              "      <td>836</td>\n",
              "    </tr>\n",
              "    <tr>\n",
              "      <th>6</th>\n",
              "      <td>Galpão/Depósito/Armazém</td>\n",
              "      <td>623</td>\n",
              "    </tr>\n",
              "    <tr>\n",
              "      <th>7</th>\n",
              "      <td>Flat</td>\n",
              "      <td>476</td>\n",
              "    </tr>\n",
              "    <tr>\n",
              "      <th>8</th>\n",
              "      <td>Prédio Inteiro</td>\n",
              "      <td>301</td>\n",
              "    </tr>\n",
              "    <tr>\n",
              "      <th>9</th>\n",
              "      <td>Casa Comercial</td>\n",
              "      <td>265</td>\n",
              "    </tr>\n",
              "    <tr>\n",
              "      <th>10</th>\n",
              "      <td>Casa de Vila</td>\n",
              "      <td>249</td>\n",
              "    </tr>\n",
              "    <tr>\n",
              "      <th>11</th>\n",
              "      <td>Loja Shopping/ Ct Comercial</td>\n",
              "      <td>247</td>\n",
              "    </tr>\n",
              "    <tr>\n",
              "      <th>12</th>\n",
              "      <td>Box/Garagem</td>\n",
              "      <td>82</td>\n",
              "    </tr>\n",
              "    <tr>\n",
              "      <th>13</th>\n",
              "      <td>Terreno Padrão</td>\n",
              "      <td>70</td>\n",
              "    </tr>\n",
              "    <tr>\n",
              "      <th>14</th>\n",
              "      <td>Loft</td>\n",
              "      <td>51</td>\n",
              "    </tr>\n",
              "    <tr>\n",
              "      <th>15</th>\n",
              "      <td>Sítio</td>\n",
              "      <td>10</td>\n",
              "    </tr>\n",
              "    <tr>\n",
              "      <th>16</th>\n",
              "      <td>Loteamento/Condomínio</td>\n",
              "      <td>5</td>\n",
              "    </tr>\n",
              "    <tr>\n",
              "      <th>17</th>\n",
              "      <td>Studio</td>\n",
              "      <td>4</td>\n",
              "    </tr>\n",
              "    <tr>\n",
              "      <th>18</th>\n",
              "      <td>Hotel</td>\n",
              "      <td>2</td>\n",
              "    </tr>\n",
              "    <tr>\n",
              "      <th>19</th>\n",
              "      <td>Indústria</td>\n",
              "      <td>1</td>\n",
              "    </tr>\n",
              "    <tr>\n",
              "      <th>20</th>\n",
              "      <td>Chácara</td>\n",
              "      <td>1</td>\n",
              "    </tr>\n",
              "    <tr>\n",
              "      <th>21</th>\n",
              "      <td>Pousada/Chalé</td>\n",
              "      <td>1</td>\n",
              "    </tr>\n",
              "  </tbody>\n",
              "</table>\n",
              "</div>"
            ],
            "text/plain": [
              "                           Tipo  Quantidade\n",
              "0                   Apartamento       19532\n",
              "1       Conjunto Comercial/Sala        6815\n",
              "2                    Loja/Salão        1426\n",
              "3            Casa de Condomínio         996\n",
              "4                          Casa         967\n",
              "5                     Quitinete         836\n",
              "6       Galpão/Depósito/Armazém         623\n",
              "7                          Flat         476\n",
              "8                Prédio Inteiro         301\n",
              "9                Casa Comercial         265\n",
              "10                 Casa de Vila         249\n",
              "11  Loja Shopping/ Ct Comercial         247\n",
              "12                  Box/Garagem          82\n",
              "13               Terreno Padrão          70\n",
              "14                         Loft          51\n",
              "15                        Sítio          10\n",
              "16        Loteamento/Condomínio           5\n",
              "17                       Studio           4\n",
              "18                        Hotel           2\n",
              "19                    Indústria           1\n",
              "20                      Chácara           1\n",
              "21                Pousada/Chalé           1"
            ]
          },
          "metadata": {},
          "execution_count": 12
        }
      ]
    },
    {
      "cell_type": "markdown",
      "metadata": {
        "id": "ZkExCXXi4ipU"
      },
      "source": [
        "#### Analisando somente os imóveis residenciais"
      ]
    },
    {
      "cell_type": "code",
      "metadata": {
        "colab": {
          "base_uri": "https://localhost:8080/"
        },
        "id": "HS9uiAa34TFY",
        "outputId": "7262c80f-88b4-40bb-dac9-7d0af45705ec"
      },
      "source": [
        "# Listando todos os tipos de imóveis da base de dados\n",
        "tipo_de_imovel['Tipo'].values"
      ],
      "execution_count": 13,
      "outputs": [
        {
          "output_type": "execute_result",
          "data": {
            "text/plain": [
              "array(['Apartamento', 'Conjunto Comercial/Sala', 'Loja/Salão',\n",
              "       'Casa de Condomínio', 'Casa', 'Quitinete',\n",
              "       'Galpão/Depósito/Armazém', 'Flat', 'Prédio Inteiro',\n",
              "       'Casa Comercial', 'Casa de Vila', 'Loja Shopping/ Ct Comercial',\n",
              "       'Box/Garagem', 'Terreno Padrão', 'Loft', 'Sítio',\n",
              "       'Loteamento/Condomínio', 'Studio', 'Hotel', 'Indústria', 'Chácara',\n",
              "       'Pousada/Chalé'], dtype=object)"
            ]
          },
          "metadata": {},
          "execution_count": 13
        }
      ]
    },
    {
      "cell_type": "markdown",
      "metadata": {
        "id": "UH4Ci2mt48CW"
      },
      "source": [
        "Os imóveis considerados residenciais dentre os presentes na base de dados são: Apartamento, Casa de Condomínio, Casa, Quitinete e Casa de Vila."
      ]
    },
    {
      "cell_type": "code",
      "metadata": {
        "id": "qt5Dk_i44psG"
      },
      "source": [
        "# Salvando os imóveis residenciais em uma variavel\n",
        "imoveis_residenciais = ['Apartamento', 'Casa de Condomínio', 'Casa', 'Quitinete', 'Casa de Vila']"
      ],
      "execution_count": 14,
      "outputs": []
    },
    {
      "cell_type": "code",
      "metadata": {
        "id": "weOhg6XJ5lk6"
      },
      "source": [
        "# Salvando em uma variável quais dados da base são referentes aos imóveis residenciais selecionados\n",
        "selecao = dados['Tipo'].isin(imoveis_residenciais)"
      ],
      "execution_count": 15,
      "outputs": []
    },
    {
      "cell_type": "code",
      "metadata": {
        "id": "L40QG7wb6Dwd"
      },
      "source": [
        "# Filtrando os dados da base de acordo com a seleção feita\n",
        "dados_residencial = dados[selecao]"
      ],
      "execution_count": 16,
      "outputs": []
    },
    {
      "cell_type": "code",
      "metadata": {
        "colab": {
          "base_uri": "https://localhost:8080/",
          "height": 363
        },
        "id": "1YbPPy9C6ZOZ",
        "outputId": "77214d30-0be4-49d9-8caa-76e69e90f7f3"
      },
      "source": [
        "# Visualizando os 10 primeiros valores do novo DataFrame\n",
        "dados_residencial.head(10)"
      ],
      "execution_count": 17,
      "outputs": [
        {
          "output_type": "execute_result",
          "data": {
            "text/html": [
              "<div>\n",
              "<style scoped>\n",
              "    .dataframe tbody tr th:only-of-type {\n",
              "        vertical-align: middle;\n",
              "    }\n",
              "\n",
              "    .dataframe tbody tr th {\n",
              "        vertical-align: top;\n",
              "    }\n",
              "\n",
              "    .dataframe thead th {\n",
              "        text-align: right;\n",
              "    }\n",
              "</style>\n",
              "<table border=\"1\" class=\"dataframe\">\n",
              "  <thead>\n",
              "    <tr style=\"text-align: right;\">\n",
              "      <th></th>\n",
              "      <th>Tipo</th>\n",
              "      <th>Bairro</th>\n",
              "      <th>Quartos</th>\n",
              "      <th>Vagas</th>\n",
              "      <th>Suites</th>\n",
              "      <th>Area</th>\n",
              "      <th>Valor</th>\n",
              "      <th>Condominio</th>\n",
              "      <th>IPTU</th>\n",
              "    </tr>\n",
              "  </thead>\n",
              "  <tbody>\n",
              "    <tr>\n",
              "      <th>0</th>\n",
              "      <td>Quitinete</td>\n",
              "      <td>Copacabana</td>\n",
              "      <td>1</td>\n",
              "      <td>0</td>\n",
              "      <td>0</td>\n",
              "      <td>40</td>\n",
              "      <td>1700.0</td>\n",
              "      <td>500.0</td>\n",
              "      <td>60.0</td>\n",
              "    </tr>\n",
              "    <tr>\n",
              "      <th>1</th>\n",
              "      <td>Casa</td>\n",
              "      <td>Jardim Botânico</td>\n",
              "      <td>2</td>\n",
              "      <td>0</td>\n",
              "      <td>1</td>\n",
              "      <td>100</td>\n",
              "      <td>7000.0</td>\n",
              "      <td>NaN</td>\n",
              "      <td>NaN</td>\n",
              "    </tr>\n",
              "    <tr>\n",
              "      <th>3</th>\n",
              "      <td>Apartamento</td>\n",
              "      <td>Centro</td>\n",
              "      <td>1</td>\n",
              "      <td>0</td>\n",
              "      <td>0</td>\n",
              "      <td>15</td>\n",
              "      <td>800.0</td>\n",
              "      <td>390.0</td>\n",
              "      <td>20.0</td>\n",
              "    </tr>\n",
              "    <tr>\n",
              "      <th>4</th>\n",
              "      <td>Apartamento</td>\n",
              "      <td>Higienópolis</td>\n",
              "      <td>1</td>\n",
              "      <td>0</td>\n",
              "      <td>0</td>\n",
              "      <td>48</td>\n",
              "      <td>800.0</td>\n",
              "      <td>230.0</td>\n",
              "      <td>NaN</td>\n",
              "    </tr>\n",
              "    <tr>\n",
              "      <th>5</th>\n",
              "      <td>Apartamento</td>\n",
              "      <td>Vista Alegre</td>\n",
              "      <td>3</td>\n",
              "      <td>1</td>\n",
              "      <td>0</td>\n",
              "      <td>70</td>\n",
              "      <td>1200.0</td>\n",
              "      <td>NaN</td>\n",
              "      <td>NaN</td>\n",
              "    </tr>\n",
              "    <tr>\n",
              "      <th>6</th>\n",
              "      <td>Apartamento</td>\n",
              "      <td>Cachambi</td>\n",
              "      <td>2</td>\n",
              "      <td>0</td>\n",
              "      <td>0</td>\n",
              "      <td>50</td>\n",
              "      <td>1300.0</td>\n",
              "      <td>301.0</td>\n",
              "      <td>17.0</td>\n",
              "    </tr>\n",
              "    <tr>\n",
              "      <th>7</th>\n",
              "      <td>Casa de Condomínio</td>\n",
              "      <td>Barra da Tijuca</td>\n",
              "      <td>5</td>\n",
              "      <td>4</td>\n",
              "      <td>5</td>\n",
              "      <td>750</td>\n",
              "      <td>22000.0</td>\n",
              "      <td>NaN</td>\n",
              "      <td>NaN</td>\n",
              "    </tr>\n",
              "    <tr>\n",
              "      <th>8</th>\n",
              "      <td>Casa de Condomínio</td>\n",
              "      <td>Ramos</td>\n",
              "      <td>2</td>\n",
              "      <td>2</td>\n",
              "      <td>0</td>\n",
              "      <td>65</td>\n",
              "      <td>1000.0</td>\n",
              "      <td>NaN</td>\n",
              "      <td>NaN</td>\n",
              "    </tr>\n",
              "    <tr>\n",
              "      <th>10</th>\n",
              "      <td>Apartamento</td>\n",
              "      <td>Centro</td>\n",
              "      <td>1</td>\n",
              "      <td>0</td>\n",
              "      <td>0</td>\n",
              "      <td>36</td>\n",
              "      <td>1200.0</td>\n",
              "      <td>NaN</td>\n",
              "      <td>NaN</td>\n",
              "    </tr>\n",
              "    <tr>\n",
              "      <th>11</th>\n",
              "      <td>Apartamento</td>\n",
              "      <td>Grajaú</td>\n",
              "      <td>2</td>\n",
              "      <td>1</td>\n",
              "      <td>0</td>\n",
              "      <td>70</td>\n",
              "      <td>1500.0</td>\n",
              "      <td>642.0</td>\n",
              "      <td>74.0</td>\n",
              "    </tr>\n",
              "  </tbody>\n",
              "</table>\n",
              "</div>"
            ],
            "text/plain": [
              "                  Tipo           Bairro  Quartos  ...    Valor  Condominio  IPTU\n",
              "0            Quitinete       Copacabana        1  ...   1700.0       500.0  60.0\n",
              "1                 Casa  Jardim Botânico        2  ...   7000.0         NaN   NaN\n",
              "3          Apartamento           Centro        1  ...    800.0       390.0  20.0\n",
              "4          Apartamento     Higienópolis        1  ...    800.0       230.0   NaN\n",
              "5          Apartamento     Vista Alegre        3  ...   1200.0         NaN   NaN\n",
              "6          Apartamento         Cachambi        2  ...   1300.0       301.0  17.0\n",
              "7   Casa de Condomínio  Barra da Tijuca        5  ...  22000.0         NaN   NaN\n",
              "8   Casa de Condomínio            Ramos        2  ...   1000.0         NaN   NaN\n",
              "10         Apartamento           Centro        1  ...   1200.0         NaN   NaN\n",
              "11         Apartamento           Grajaú        2  ...   1500.0       642.0  74.0\n",
              "\n",
              "[10 rows x 9 columns]"
            ]
          },
          "metadata": {},
          "execution_count": 17
        }
      ]
    },
    {
      "cell_type": "code",
      "metadata": {
        "colab": {
          "base_uri": "https://localhost:8080/"
        },
        "id": "8nk21j-D6bF6",
        "outputId": "f71ddabf-a8ff-4223-a1c1-eb8d99c06904"
      },
      "source": [
        "# Verificando se a seleção feita está correta\n",
        "list(dados_residencial['Tipo'].drop_duplicates())"
      ],
      "execution_count": 18,
      "outputs": [
        {
          "output_type": "execute_result",
          "data": {
            "text/plain": [
              "['Quitinete', 'Casa', 'Apartamento', 'Casa de Condomínio', 'Casa de Vila']"
            ]
          },
          "metadata": {},
          "execution_count": 18
        }
      ]
    },
    {
      "cell_type": "code",
      "metadata": {
        "colab": {
          "base_uri": "https://localhost:8080/"
        },
        "id": "MjT-4MwA68c3",
        "outputId": "730d6e31-fd2d-4c61-b747-a95a36aba020"
      },
      "source": [
        "# Quantidade de imóveis residenciais da base\n",
        "dados_residencial.shape[0]"
      ],
      "execution_count": 19,
      "outputs": [
        {
          "output_type": "execute_result",
          "data": {
            "text/plain": [
              "22580"
            ]
          },
          "metadata": {},
          "execution_count": 19
        }
      ]
    },
    {
      "cell_type": "code",
      "metadata": {
        "id": "STvVuV3s7Fcp"
      },
      "source": [
        "# Ajustando o index do DataFrame que contém somente os imóveis residencias\n",
        "dados_residencial.reset_index(inplace=True)"
      ],
      "execution_count": 20,
      "outputs": []
    },
    {
      "cell_type": "code",
      "metadata": {
        "colab": {
          "base_uri": "https://localhost:8080/",
          "height": 206
        },
        "id": "wKuQ4lwUV3RY",
        "outputId": "cf08940b-efb6-47c6-f490-d51ca8809861"
      },
      "source": [
        "dados_residencial.head()"
      ],
      "execution_count": 21,
      "outputs": [
        {
          "output_type": "execute_result",
          "data": {
            "text/html": [
              "<div>\n",
              "<style scoped>\n",
              "    .dataframe tbody tr th:only-of-type {\n",
              "        vertical-align: middle;\n",
              "    }\n",
              "\n",
              "    .dataframe tbody tr th {\n",
              "        vertical-align: top;\n",
              "    }\n",
              "\n",
              "    .dataframe thead th {\n",
              "        text-align: right;\n",
              "    }\n",
              "</style>\n",
              "<table border=\"1\" class=\"dataframe\">\n",
              "  <thead>\n",
              "    <tr style=\"text-align: right;\">\n",
              "      <th></th>\n",
              "      <th>index</th>\n",
              "      <th>Tipo</th>\n",
              "      <th>Bairro</th>\n",
              "      <th>Quartos</th>\n",
              "      <th>Vagas</th>\n",
              "      <th>Suites</th>\n",
              "      <th>Area</th>\n",
              "      <th>Valor</th>\n",
              "      <th>Condominio</th>\n",
              "      <th>IPTU</th>\n",
              "    </tr>\n",
              "  </thead>\n",
              "  <tbody>\n",
              "    <tr>\n",
              "      <th>0</th>\n",
              "      <td>0</td>\n",
              "      <td>Quitinete</td>\n",
              "      <td>Copacabana</td>\n",
              "      <td>1</td>\n",
              "      <td>0</td>\n",
              "      <td>0</td>\n",
              "      <td>40</td>\n",
              "      <td>1700.0</td>\n",
              "      <td>500.0</td>\n",
              "      <td>60.0</td>\n",
              "    </tr>\n",
              "    <tr>\n",
              "      <th>1</th>\n",
              "      <td>1</td>\n",
              "      <td>Casa</td>\n",
              "      <td>Jardim Botânico</td>\n",
              "      <td>2</td>\n",
              "      <td>0</td>\n",
              "      <td>1</td>\n",
              "      <td>100</td>\n",
              "      <td>7000.0</td>\n",
              "      <td>NaN</td>\n",
              "      <td>NaN</td>\n",
              "    </tr>\n",
              "    <tr>\n",
              "      <th>2</th>\n",
              "      <td>3</td>\n",
              "      <td>Apartamento</td>\n",
              "      <td>Centro</td>\n",
              "      <td>1</td>\n",
              "      <td>0</td>\n",
              "      <td>0</td>\n",
              "      <td>15</td>\n",
              "      <td>800.0</td>\n",
              "      <td>390.0</td>\n",
              "      <td>20.0</td>\n",
              "    </tr>\n",
              "    <tr>\n",
              "      <th>3</th>\n",
              "      <td>4</td>\n",
              "      <td>Apartamento</td>\n",
              "      <td>Higienópolis</td>\n",
              "      <td>1</td>\n",
              "      <td>0</td>\n",
              "      <td>0</td>\n",
              "      <td>48</td>\n",
              "      <td>800.0</td>\n",
              "      <td>230.0</td>\n",
              "      <td>NaN</td>\n",
              "    </tr>\n",
              "    <tr>\n",
              "      <th>4</th>\n",
              "      <td>5</td>\n",
              "      <td>Apartamento</td>\n",
              "      <td>Vista Alegre</td>\n",
              "      <td>3</td>\n",
              "      <td>1</td>\n",
              "      <td>0</td>\n",
              "      <td>70</td>\n",
              "      <td>1200.0</td>\n",
              "      <td>NaN</td>\n",
              "      <td>NaN</td>\n",
              "    </tr>\n",
              "  </tbody>\n",
              "</table>\n",
              "</div>"
            ],
            "text/plain": [
              "   index         Tipo           Bairro  Quartos  ...  Area   Valor  Condominio  IPTU\n",
              "0      0    Quitinete       Copacabana        1  ...    40  1700.0       500.0  60.0\n",
              "1      1         Casa  Jardim Botânico        2  ...   100  7000.0         NaN   NaN\n",
              "2      3  Apartamento           Centro        1  ...    15   800.0       390.0  20.0\n",
              "3      4  Apartamento     Higienópolis        1  ...    48   800.0       230.0   NaN\n",
              "4      5  Apartamento     Vista Alegre        3  ...    70  1200.0         NaN   NaN\n",
              "\n",
              "[5 rows x 10 columns]"
            ]
          },
          "metadata": {},
          "execution_count": 21
        }
      ]
    },
    {
      "cell_type": "code",
      "metadata": {
        "id": "g5G0k-qZWgSs"
      },
      "source": [
        "# Excluindo a coluna 'index'\n",
        "dados_residencial = dados_residencial.drop(columns=['index'])"
      ],
      "execution_count": 22,
      "outputs": []
    },
    {
      "cell_type": "markdown",
      "metadata": {
        "id": "TH0L3crDSQOK"
      },
      "source": [
        "#### Exportando o novo DataFrame com os dados dos imóveis residenciais"
      ]
    },
    {
      "cell_type": "code",
      "metadata": {
        "id": "ENI-BWm-7Z6A"
      },
      "source": [
        "dados_residencial.to_csv('aluguel_residencial.csv', sep=';')"
      ],
      "execution_count": 23,
      "outputs": []
    },
    {
      "cell_type": "markdown",
      "metadata": {
        "id": "Uvpc0G3uVaeX"
      },
      "source": [
        "#### Explorando os dados dos imóveis residenciais"
      ]
    },
    {
      "cell_type": "code",
      "metadata": {
        "colab": {
          "base_uri": "https://localhost:8080/",
          "height": 363
        },
        "id": "LaU6U4gfS5gN",
        "outputId": "bac55e4e-d147-41a1-e88c-9b52f6d9b641"
      },
      "source": [
        "# Visualizando os dados\n",
        "dados_residencial.head(10)"
      ],
      "execution_count": 24,
      "outputs": [
        {
          "output_type": "execute_result",
          "data": {
            "text/html": [
              "<div>\n",
              "<style scoped>\n",
              "    .dataframe tbody tr th:only-of-type {\n",
              "        vertical-align: middle;\n",
              "    }\n",
              "\n",
              "    .dataframe tbody tr th {\n",
              "        vertical-align: top;\n",
              "    }\n",
              "\n",
              "    .dataframe thead th {\n",
              "        text-align: right;\n",
              "    }\n",
              "</style>\n",
              "<table border=\"1\" class=\"dataframe\">\n",
              "  <thead>\n",
              "    <tr style=\"text-align: right;\">\n",
              "      <th></th>\n",
              "      <th>Tipo</th>\n",
              "      <th>Bairro</th>\n",
              "      <th>Quartos</th>\n",
              "      <th>Vagas</th>\n",
              "      <th>Suites</th>\n",
              "      <th>Area</th>\n",
              "      <th>Valor</th>\n",
              "      <th>Condominio</th>\n",
              "      <th>IPTU</th>\n",
              "    </tr>\n",
              "  </thead>\n",
              "  <tbody>\n",
              "    <tr>\n",
              "      <th>0</th>\n",
              "      <td>Quitinete</td>\n",
              "      <td>Copacabana</td>\n",
              "      <td>1</td>\n",
              "      <td>0</td>\n",
              "      <td>0</td>\n",
              "      <td>40</td>\n",
              "      <td>1700.0</td>\n",
              "      <td>500.0</td>\n",
              "      <td>60.0</td>\n",
              "    </tr>\n",
              "    <tr>\n",
              "      <th>1</th>\n",
              "      <td>Casa</td>\n",
              "      <td>Jardim Botânico</td>\n",
              "      <td>2</td>\n",
              "      <td>0</td>\n",
              "      <td>1</td>\n",
              "      <td>100</td>\n",
              "      <td>7000.0</td>\n",
              "      <td>NaN</td>\n",
              "      <td>NaN</td>\n",
              "    </tr>\n",
              "    <tr>\n",
              "      <th>2</th>\n",
              "      <td>Apartamento</td>\n",
              "      <td>Centro</td>\n",
              "      <td>1</td>\n",
              "      <td>0</td>\n",
              "      <td>0</td>\n",
              "      <td>15</td>\n",
              "      <td>800.0</td>\n",
              "      <td>390.0</td>\n",
              "      <td>20.0</td>\n",
              "    </tr>\n",
              "    <tr>\n",
              "      <th>3</th>\n",
              "      <td>Apartamento</td>\n",
              "      <td>Higienópolis</td>\n",
              "      <td>1</td>\n",
              "      <td>0</td>\n",
              "      <td>0</td>\n",
              "      <td>48</td>\n",
              "      <td>800.0</td>\n",
              "      <td>230.0</td>\n",
              "      <td>NaN</td>\n",
              "    </tr>\n",
              "    <tr>\n",
              "      <th>4</th>\n",
              "      <td>Apartamento</td>\n",
              "      <td>Vista Alegre</td>\n",
              "      <td>3</td>\n",
              "      <td>1</td>\n",
              "      <td>0</td>\n",
              "      <td>70</td>\n",
              "      <td>1200.0</td>\n",
              "      <td>NaN</td>\n",
              "      <td>NaN</td>\n",
              "    </tr>\n",
              "    <tr>\n",
              "      <th>5</th>\n",
              "      <td>Apartamento</td>\n",
              "      <td>Cachambi</td>\n",
              "      <td>2</td>\n",
              "      <td>0</td>\n",
              "      <td>0</td>\n",
              "      <td>50</td>\n",
              "      <td>1300.0</td>\n",
              "      <td>301.0</td>\n",
              "      <td>17.0</td>\n",
              "    </tr>\n",
              "    <tr>\n",
              "      <th>6</th>\n",
              "      <td>Casa de Condomínio</td>\n",
              "      <td>Barra da Tijuca</td>\n",
              "      <td>5</td>\n",
              "      <td>4</td>\n",
              "      <td>5</td>\n",
              "      <td>750</td>\n",
              "      <td>22000.0</td>\n",
              "      <td>NaN</td>\n",
              "      <td>NaN</td>\n",
              "    </tr>\n",
              "    <tr>\n",
              "      <th>7</th>\n",
              "      <td>Casa de Condomínio</td>\n",
              "      <td>Ramos</td>\n",
              "      <td>2</td>\n",
              "      <td>2</td>\n",
              "      <td>0</td>\n",
              "      <td>65</td>\n",
              "      <td>1000.0</td>\n",
              "      <td>NaN</td>\n",
              "      <td>NaN</td>\n",
              "    </tr>\n",
              "    <tr>\n",
              "      <th>8</th>\n",
              "      <td>Apartamento</td>\n",
              "      <td>Centro</td>\n",
              "      <td>1</td>\n",
              "      <td>0</td>\n",
              "      <td>0</td>\n",
              "      <td>36</td>\n",
              "      <td>1200.0</td>\n",
              "      <td>NaN</td>\n",
              "      <td>NaN</td>\n",
              "    </tr>\n",
              "    <tr>\n",
              "      <th>9</th>\n",
              "      <td>Apartamento</td>\n",
              "      <td>Grajaú</td>\n",
              "      <td>2</td>\n",
              "      <td>1</td>\n",
              "      <td>0</td>\n",
              "      <td>70</td>\n",
              "      <td>1500.0</td>\n",
              "      <td>642.0</td>\n",
              "      <td>74.0</td>\n",
              "    </tr>\n",
              "  </tbody>\n",
              "</table>\n",
              "</div>"
            ],
            "text/plain": [
              "                 Tipo           Bairro  Quartos  ...    Valor  Condominio  IPTU\n",
              "0           Quitinete       Copacabana        1  ...   1700.0       500.0  60.0\n",
              "1                Casa  Jardim Botânico        2  ...   7000.0         NaN   NaN\n",
              "2         Apartamento           Centro        1  ...    800.0       390.0  20.0\n",
              "3         Apartamento     Higienópolis        1  ...    800.0       230.0   NaN\n",
              "4         Apartamento     Vista Alegre        3  ...   1200.0         NaN   NaN\n",
              "5         Apartamento         Cachambi        2  ...   1300.0       301.0  17.0\n",
              "6  Casa de Condomínio  Barra da Tijuca        5  ...  22000.0         NaN   NaN\n",
              "7  Casa de Condomínio            Ramos        2  ...   1000.0         NaN   NaN\n",
              "8         Apartamento           Centro        1  ...   1200.0         NaN   NaN\n",
              "9         Apartamento           Grajaú        2  ...   1500.0       642.0  74.0\n",
              "\n",
              "[10 rows x 9 columns]"
            ]
          },
          "metadata": {},
          "execution_count": 24
        }
      ]
    },
    {
      "cell_type": "markdown",
      "metadata": {
        "id": "38uV6nQjXXo2"
      },
      "source": [
        "Quantidade de imóveis classificados com tipo 'Apartamento'"
      ]
    },
    {
      "cell_type": "code",
      "metadata": {
        "colab": {
          "base_uri": "https://localhost:8080/"
        },
        "id": "w8toXhVkXSUb",
        "outputId": "a602dabc-928d-46bd-f4a9-a60f3cef16c6"
      },
      "source": [
        "# Criando uma seleção\n",
        "selecao = dados_residencial['Tipo'] == 'Apartamento'\n",
        "\n",
        "# Filtrando os dados de acordo com a seleção\n",
        "quantidade_apartamentos = dados_residencial[selecao].shape[0]\n",
        "\n",
        "# Printando a quantidade de apartamentos\n",
        "print('A base de dados contém {} apartamentos'.format(quantidade_apartamentos))"
      ],
      "execution_count": 25,
      "outputs": [
        {
          "output_type": "stream",
          "name": "stdout",
          "text": [
            "A base de dados contém 19532 apartamentos\n"
          ]
        }
      ]
    },
    {
      "cell_type": "markdown",
      "metadata": {
        "id": "hcvXPMADYJWW"
      },
      "source": [
        "Quantidade de imóveis classificados como 'Casa', 'Casa de Condomínio' e 'Casa de Vila'"
      ]
    },
    {
      "cell_type": "code",
      "metadata": {
        "colab": {
          "base_uri": "https://localhost:8080/"
        },
        "id": "SZqHwSecVjt2",
        "outputId": "1cce42f2-2a20-49d1-a793-8defeb63c590"
      },
      "source": [
        "# Criando uma seleção\n",
        "selecao = ((dados_residencial['Tipo'] == 'Casa') | (dados_residencial['Tipo'] == 'Casa de Condomínio') | (dados_residencial['Tipo'] == 'Casa de Vila'))\n",
        "\n",
        "# Filtrando os dados de acordo com a seleção\n",
        "quantidade_casas = dados_residencial[selecao].shape[0]\n",
        "\n",
        "# Printando a quantidade de casas\n",
        "print('A base de dados contém {} casas'.format(quantidade_casas))"
      ],
      "execution_count": 26,
      "outputs": [
        {
          "output_type": "stream",
          "name": "stdout",
          "text": [
            "A base de dados contém 2212 casas\n"
          ]
        }
      ]
    },
    {
      "cell_type": "markdown",
      "metadata": {
        "id": "2t0Qekn2Ze9S"
      },
      "source": [
        "Quantidade de imóveis com área entre 60 e 100 m²"
      ]
    },
    {
      "cell_type": "code",
      "metadata": {
        "colab": {
          "base_uri": "https://localhost:8080/"
        },
        "id": "xkA-xPgiY3Sz",
        "outputId": "39572778-1c30-418e-8a85-8b80aca09cc8"
      },
      "source": [
        "# Criando uma seleção\n",
        "selecao = (dados_residencial['Area'] >= 60) & (dados_residencial['Area'] <= 100)\n",
        "\n",
        "# Filtrando os dados de acordo com a seleção\n",
        "quantidade_area_60_a_100 = dados_residencial[selecao].shape[0]\n",
        "\n",
        "# Printando a quantidade de casas\n",
        "print('A base de dados contém {} imóveis com área entre 60 e 100 m²'.format(quantidade_area_60_a_100))"
      ],
      "execution_count": 27,
      "outputs": [
        {
          "output_type": "stream",
          "name": "stdout",
          "text": [
            "A base de dados contém 8719 imóveis com área entre 60 e 100 m²\n"
          ]
        }
      ]
    },
    {
      "cell_type": "markdown",
      "metadata": {
        "id": "wAyozXseaJ4z"
      },
      "source": [
        "Quantidade de imóveis com pelo menos 4 quartos e aluguel menor que R$ 2.000,00"
      ]
    },
    {
      "cell_type": "code",
      "metadata": {
        "colab": {
          "base_uri": "https://localhost:8080/"
        },
        "id": "AkU-yxawaD8q",
        "outputId": "63abcf59-6836-4a2a-a062-a930e72124f3"
      },
      "source": [
        "# Criando uma seleção\n",
        "selecao = (dados_residencial['Quartos'] >= 4) & (dados_residencial['Valor'] < 2000.0)\n",
        "\n",
        "# Filtrando os dados de acordo com a seleção\n",
        "quantidade_4_quartos_menor_2000 = dados_residencial[selecao].shape[0]\n",
        "\n",
        "# Printando a quantidade de casas\n",
        "print('A base de dados contém {} imóveis com pelo menos 4 quartos e aluguel menor R$ 2.000,00'.format(quantidade_4_quartos_menor_2000))"
      ],
      "execution_count": 28,
      "outputs": [
        {
          "output_type": "stream",
          "name": "stdout",
          "text": [
            "A base de dados contém 41 imóveis com pelo menos 4 quartos e aluguel menor R$ 2.000,00\n"
          ]
        }
      ]
    },
    {
      "cell_type": "code",
      "metadata": {
        "id": "oHWX80zlaifa"
      },
      "source": [
        ""
      ],
      "execution_count": 28,
      "outputs": []
    }
  ]
}